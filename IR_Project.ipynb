{
  "cells": [
    {
      "cell_type": "code",
      "execution_count": null,
      "metadata": {
        "colab": {
          "base_uri": "https://localhost:8080/"
        },
        "id": "wFaGxyKZOsFQ",
        "outputId": "14b8e052-d004-4eb9-bba9-ebae1d4cd28a"
      },
      "outputs": [
        {
          "name": "stdout",
          "output_type": "stream",
          "text": [
            "\u001b[K     |████████████████████████████████| 1.2 MB 3.6 MB/s \n",
            "\u001b[K     |████████████████████████████████| 4.0 MB 5.6 MB/s \n",
            "\u001b[K     |████████████████████████████████| 6.6 MB 18.8 MB/s \n",
            "\u001b[K     |████████████████████████████████| 895 kB 46.7 MB/s \n",
            "\u001b[K     |████████████████████████████████| 596 kB 44.4 MB/s \n",
            "\u001b[K     |████████████████████████████████| 77 kB 3.9 MB/s \n",
            "\u001b[?25h"
          ]
        }
      ],
      "source": [
        "!pip install sentencepiece -q\n",
        "!pip install transformers  -q"
      ]
    },
    {
      "cell_type": "code",
      "execution_count": null,
      "metadata": {
        "id": "LsdHMSW34g5M"
      },
      "outputs": [],
      "source": [
        "!git clone \"https://github.com/anoopkunchukuttan/indic_nlp_library\" -q\n",
        "!git clone https://github.com/anoopkunchukuttan/indic_nlp_resources.git -q\n",
        "!pip install Morfessor -q\n",
        "# The path to the local git repo for Indic NLP library\n",
        "INDIC_NLP_LIB_HOME=r\"/content/indic_nlp_library\" \n",
        "\n",
        "# The path to the local git repo for Indic NLP Resources\n",
        "INDIC_NLP_RESOURCES=\"/content/indic_nlp_resources\" "
      ]
    },
    {
      "cell_type": "code",
      "execution_count": null,
      "metadata": {
        "id": "5XXBeMQw4r2Z"
      },
      "outputs": [],
      "source": [
        "import sys\n",
        "sys.path.append(r'{}'.format(INDIC_NLP_LIB_HOME))\n",
        "from indicnlp import common\n",
        "common.set_resources_path(INDIC_NLP_RESOURCES)\n",
        "from indicnlp import loader"
      ]
    },
    {
      "cell_type": "code",
      "execution_count": null,
      "metadata": {
        "id": "94kfJEUy4lB6"
      },
      "outputs": [],
      "source": [
        "from indicnlp.tokenize import indic_tokenize"
      ]
    },
    {
      "cell_type": "code",
      "execution_count": null,
      "metadata": {
        "id": "GZt4hm01Vbn4"
      },
      "outputs": [],
      "source": [
        "import torch\n",
        "import numpy as np\n",
        "import pandas as pd\n",
        "import re\n",
        "from transformers import AutoModel, AutoTokenizer\n",
        "import pickle\n",
        "from gensim.test.utils import common_texts\n",
        "from gensim.models.doc2vec import Doc2Vec, TaggedDocument\n",
        "from sklearn import metrics\n",
        "from sklearn.metrics import davies_bouldin_score"
      ]
    },
    {
      "cell_type": "code",
      "execution_count": null,
      "metadata": {
        "colab": {
          "base_uri": "https://localhost:8080/"
        },
        "id": "iiG2hl-YWVS5",
        "outputId": "64d02a6d-d162-4e2a-97d3-304ce71c6dc5"
      },
      "outputs": [
        {
          "name": "stdout",
          "output_type": "stream",
          "text": [
            "Archive:  CorpusDicts.zip\n",
            "  inflating: banglaDict.pkl          \n",
            "  inflating: banglaDictNoStopwords.pkl  \n",
            "  inflating: hindiDict.pkl           \n",
            "  inflating: hindiDictNoStopwords.pkl  \n",
            "  inflating: tamilDict.pkl           \n",
            "  inflating: tamilDictNoStopwords.pkl  \n"
          ]
        }
      ],
      "source": [
        "!unzip CorpusDicts.zip"
      ]
    },
    {
      "cell_type": "code",
      "execution_count": null,
      "metadata": {
        "id": "TeyDl7ID-BlG"
      },
      "outputs": [],
      "source": [
        "dataframe=pd.read_csv('hindi-train.csv',sep='\\t',names=['cat','text'],header=None)"
      ]
    },
    {
      "cell_type": "code",
      "execution_count": null,
      "metadata": {
        "id": "WxBZ-FwzUtGU"
      },
      "outputs": [],
      "source": [
        "dataframe= dataframe.dropna()"
      ]
    },
    {
      "cell_type": "code",
      "execution_count": null,
      "metadata": {
        "id": "_0_FvKCKY9Ob"
      },
      "outputs": [],
      "source": [
        "Cat = pd.factorize(dataframe['cat'])"
      ]
    },
    {
      "cell_type": "code",
      "execution_count": null,
      "metadata": {
        "colab": {
          "base_uri": "https://localhost:8080/"
        },
        "id": "I9g7O5vXDeXT",
        "outputId": "42593398-ed38-4bbd-8237-51543eb16182"
      },
      "outputs": [
        {
          "name": "stdout",
          "output_type": "stream",
          "text": [
            "Mounted at /content/drive\n"
          ]
        }
      ],
      "source": [
        "from google.colab import drive\n",
        "drive.mount('/content/drive')"
      ]
    },
    {
      "cell_type": "code",
      "execution_count": null,
      "metadata": {
        "colab": {
          "base_uri": "https://localhost:8080/"
        },
        "id": "89lq5ev--moT",
        "outputId": "dbc8135c-aa93-4a07-a5e2-01dee476b8a2"
      },
      "outputs": [
        {
          "name": "stdout",
          "output_type": "stream",
          "text": [
            "Archive:  drive/MyDrive/IR_Project/New_embeddings.zip\n",
            "  inflating: doc2vec_ban (1).pkl     \n",
            "  inflating: indic_hi (1).pkl        \n",
            "  inflating: muril_hi (1).pkl        \n",
            "  inflating: indic_ban (1).pkl       \n",
            "  inflating: indic_tam (1).pkl       \n",
            "  inflating: muril_tam (1).pkl       \n",
            "  inflating: muril_ban (1).pkl       \n",
            "  inflating: doc2vec_tam (1).pkl     \n",
            "  inflating: doc2vec_hi (1).pkl      \n"
          ]
        }
      ],
      "source": [
        "!unzip 'drive/MyDrive/IR_Project/New_embeddings.zip'"
      ]
    },
    {
      "cell_type": "code",
      "execution_count": null,
      "metadata": {
        "colab": {
          "base_uri": "https://localhost:8080/",
          "height": 234
        },
        "id": "GeNkV3Cs_OHz",
        "outputId": "c2b37221-c88c-4ae7-9b7f-023a8102102b"
      },
      "outputs": [],
      "source": [
        "data={}\n",
        "doc_id=0\n",
        "for category,text in zip(dataframe['cat'].values,dataframe['text'].values):\n",
        "    data[doc_id]={}\n",
        "    data[doc_id]['text']=text\n",
        "    data[doc_id]['category']=category\n",
        "    doc_id+=1"
      ]
    },
    {
      "cell_type": "code",
      "execution_count": null,
      "metadata": {
        "id": "VpmNtZr9X4Dt"
      },
      "outputs": [],
      "source": [
        "dataset = []\n",
        "for key,value in hi_dataset.items():\n",
        "  #print(type(value['text']))\n",
        "  dataset.append(value['text'])"
      ]
    },
    {
      "cell_type": "code",
      "execution_count": null,
      "metadata": {
        "id": "O_7OCXFvZ9F4"
      },
      "outputs": [],
      "source": [
        "def evaluate(predictions,embeddings,true_labels):\n",
        "  predicted_labels = predictions\n",
        "  \n",
        "  random_DV = embeddings\n",
        "  labels = predicted_labels\n",
        "  rand_score=metrics.rand_score(true_labels, predicted_labels)\n",
        "  mutual_score=metrics.mutual_info_score(true_labels, predicted_labels)\n",
        "  homo_score=metrics.homogeneity_score(true_labels, predicted_labels)\n",
        "  complete_score=metrics.completeness_score(true_labels, predicted_labels)\n",
        "  v_score=metrics.v_measure_score(true_labels, predicted_labels)\n",
        "  fm_score=metrics.fowlkes_mallows_score(true_labels, predicted_labels)\n",
        "  silhoutte_score=metrics.silhouette_score(random_DV, predicted_labels, metric='euclidean')\n",
        "  calinski_score=metrics.calinski_harabasz_score(random_DV, predicted_labels)\n",
        "  davies_score=davies_bouldin_score(random_DV, labels)\n",
        "  #print('---IndicBert Score-----')\n",
        "  print(\"rand_Score: \", rand_score)\n",
        "  print(\"mutual_score: \",mutual_score)\n",
        "  print(\"homo_score: \",homo_score)\n",
        "  print(\"completeness_score: \",complete_score)\n",
        "  print(\"V-score: \",v_score)\n",
        "  print(\"fowlkes mallows: \",fm_score)\n",
        "  print(\"silhoutte score: \",silhoutte_score)\n",
        "  print(\"calinski_score: \",calinski_score)\n",
        "  print(\"davies score: \",davies_score)"
      ]
    },
    {
      "cell_type": "markdown",
      "metadata": {
        "id": "U3vGT0RjRMFW"
      },
      "source": [
        "## Doc2Vec Implementation:  call D2V(data,lang), returns list of embeddings"
      ]
    },
    {
      "cell_type": "code",
      "execution_count": null,
      "metadata": {
        "id": "TYlQT6xNB3VL"
      },
      "outputs": [],
      "source": [
        "def D2V(data,lang):\n",
        "\n",
        "  try:\n",
        "    with open('doc2vec_'+str(lang)+'.pkl','rb') as f:\n",
        "      dataset = pickle.load(f)\n",
        "    return dataset\n",
        "  except:\n",
        "    dataset = []\n",
        "    for key,value in data.items():\n",
        "      #print(type(value['text']))\n",
        "      dataset.append(value['text'])\n",
        "    \n",
        "    Data = [indic_tokenize.trivial_tokenize(d) for d in dataset]\n",
        "\n",
        "    def tagged_document(list_of_list_of_words):\n",
        "      for i, list_of_words in enumerate(list_of_list_of_words):\n",
        "          yield TaggedDocument(list_of_words, [i])\n",
        "    data_for_training = list(tagged_document(Data))\n",
        "\n",
        "    model = Doc2Vec(vector_size=300, min_count=2, epochs=50)\n",
        "\n",
        "    model.build_vocab(data_for_training)\n",
        "\n",
        "    model.train(data_for_training, total_examples=model.corpus_count, epochs=model.epochs)\n",
        "\n",
        "    d2v_dataset=[]\n",
        "    for d in Data:\n",
        "      d2v_dataset.append(model.infer_vector(d))\n",
        "\n",
        "    with open('doc2vec_'+str(lang)+'.pkl', 'wb') as f:\n",
        "      pickle.dump(d2v_dataset,f)\n",
        "\n",
        "    \n",
        "\n",
        "    return d2v_dataset"
      ]
    },
    {
      "cell_type": "markdown",
      "metadata": {
        "id": "S1WwqpTogYBL"
      },
      "source": [
        "### MurilBert Embedding"
      ]
    },
    {
      "cell_type": "code",
      "execution_count": null,
      "metadata": {
        "id": "1bl2AQI4TbGD"
      },
      "outputs": [],
      "source": [
        "def MurilBert(data,lang):\n",
        "  path = 'google/muril-base-cased'\n",
        "  ## Loading the model\n",
        "  try:\n",
        "    with open('muril_'+lang+'.pkl','rb') as f:\n",
        "      embeddings = pickle.load(f)\n",
        "    \n",
        "  except:\n",
        "\n",
        "    tokenizer = AutoTokenizer.from_pretrained(path)\n",
        "    model = AutoModel.from_pretrained(path,output_hidden_states=True)\n",
        "\n",
        "    embeddings=[]\n",
        "    dataset = []\n",
        "    for key,value in data.items():\n",
        "      #print(type(value['text']))\n",
        "      dataset.append(value['text'])\n",
        "      \n",
        "    for text in dataset:\n",
        "      \n",
        "      #print(tokenizer.convert_ids_to_tokens(tokenizer.encode(text)))\n",
        "      input_encoded = tokenizer.encode_plus(text,truncation=True,max_length=512,return_tensors=\"pt\")\n",
        "      #print(input_encoded)\n",
        "      with torch.no_grad():\n",
        "        states = model(**input_encoded).hidden_states\n",
        "      output = torch.stack([states[i] for i in range(len(states))])\n",
        "      output = output.squeeze()\n",
        "      #print(\"Output shape is {}\".format(output.shape))\n",
        "      res = output.mean(axis=0)\n",
        "      embed = res.mean(axis=0)\n",
        "      embed = embed.squeeze()\n",
        "      embeddings.append(embed)\n",
        "\n",
        "    with open('muril_'+str(lang)+'.pkl', 'wb') as f:\n",
        "      pickle.dump(embeddings,f)\n",
        "\n",
        "  embedd=[]\n",
        "  for e in embeddings:\n",
        "    np_arr = e.cpu().detach().numpy()\n",
        "    embedd.append(np_arr)\n",
        "  embedd = np.array(embedd)\n",
        "  return embedd"
      ]
    },
    {
      "cell_type": "markdown",
      "metadata": {
        "id": "efuriU-KgSM-"
      },
      "source": [
        "### IndicBert for embedding"
      ]
    },
    {
      "cell_type": "code",
      "execution_count": null,
      "metadata": {
        "id": "lSDvERa5Ui-X"
      },
      "outputs": [],
      "source": [
        "def IndicBert(data,lang):\n",
        "  path = 'ai4bharat/indic-bert'\n",
        "  ## Loading the model\n",
        "  try:\n",
        "    with open('indic_'+lang+'.pkl','rb') as f:\n",
        "      embeddings = pickle.load(f)\n",
        "    \n",
        "  except:\n",
        "\n",
        "    tokenizer = AutoTokenizer.from_pretrained(path)\n",
        "    model = AutoModel.from_pretrained(path,output_hidden_states=True)\n",
        "\n",
        "    embeddings=[]\n",
        "    dataset = []\n",
        "    for key,value in data.items():\n",
        "      #print(type(value['text']))\n",
        "      dataset.append(value['text'])\n",
        "      \n",
        "    for text in dataset:\n",
        "      \n",
        "      #print(tokenizer.convert_ids_to_tokens(tokenizer.encode(text)))\n",
        "      input_encoded = tokenizer.encode_plus(text,truncation=True,max_length=512,return_tensors=\"pt\")\n",
        "      #print(input_encoded)\n",
        "      with torch.no_grad():\n",
        "        states = model(**input_encoded).hidden_states\n",
        "      output = torch.stack([states[i] for i in range(len(states))])\n",
        "      output = output.squeeze()\n",
        "      #print(\"Output shape is {}\".format(output.shape))\n",
        "      res = output.mean(axis=0)\n",
        "      embed = res.mean(axis=0)\n",
        "      embed = embed.squeeze()\n",
        "      embeddings.append(embed)\n",
        "\n",
        "    with open('indic_'+str(lang)+'.pkl', 'wb') as f:\n",
        "      pickle.dump(embeddings,f)\n",
        "\n",
        "  embedd=[]\n",
        "  for e in embeddings:\n",
        "    np_arr = e.cpu().detach().numpy()\n",
        "    embedd.append(np_arr)\n",
        "  embedd = np.array(embedd)\n",
        "  return embedd"
      ]
    },
    {
      "cell_type": "code",
      "execution_count": null,
      "metadata": {
        "id": "VegUengsIt1u"
      },
      "outputs": [],
      "source": [
        "embedd = D2V(hi_dataset,'hi')\n",
        "embedd = MurilBert(hi_dataset,'hi')\n",
        "embedd = IndicBert(hi_dataset,'hi')"
      ]
    },
    {
      "cell_type": "markdown",
      "metadata": {
        "id": "7bGtPxYoWkuJ"
      },
      "source": [
        "## Kmeans"
      ]
    },
    {
      "cell_type": "code",
      "execution_count": null,
      "metadata": {
        "id": "ZBX1EZF0_9LC"
      },
      "outputs": [],
      "source": [
        "kmeans = KMeans(n_clusters=10, random_state=0).fit(d2v_dataset)"
      ]
    },
    {
      "cell_type": "code",
      "execution_count": null,
      "metadata": {
        "id": "PUCwZsVTbn6q"
      },
      "outputs": [],
      "source": [
        "predicted_labels = kmeans.labels_"
      ]
    },
    {
      "cell_type": "code",
      "execution_count": null,
      "metadata": {
        "id": "q3g_Qy45cmIC"
      },
      "outputs": [],
      "source": [
        "random_DV = d2v_dataset"
      ]
    },
    {
      "cell_type": "code",
      "execution_count": null,
      "metadata": {
        "id": "Ze-S70Fqc8Vh"
      },
      "outputs": [],
      "source": [
        "labels=predicted_labels"
      ]
    },
    {
      "cell_type": "markdown",
      "metadata": {
        "id": "0IRcuIdoSU8-"
      },
      "source": [
        "### Spectral Clustering"
      ]
    },
    {
      "cell_type": "code",
      "execution_count": null,
      "metadata": {
        "id": "TR2D_Mb4SXaz"
      },
      "outputs": [],
      "source": [
        "from sklearn.cluster import SpectralClustering"
      ]
    },
    {
      "cell_type": "code",
      "execution_count": null,
      "metadata": {
        "id": "Kb6FCVmYSXdW"
      },
      "outputs": [],
      "source": [
        "import numpy as np\n",
        "import pickle"
      ]
    },
    {
      "cell_type": "code",
      "execution_count": null,
      "metadata": {
        "id": "cJCZMrFVQs99"
      },
      "outputs": [],
      "source": [
        "with open('muril.pkl', 'rb') as f:\n",
        "  dataset = pickle.load(f)"
      ]
    },
    {
      "cell_type": "code",
      "execution_count": null,
      "metadata": {
        "id": "VbVPrL59S5Uw"
      },
      "outputs": [],
      "source": [
        "embedd=[]\n",
        "for e in embeddings:\n",
        "  np_arr = e.cpu().detach().numpy()\n",
        "  embedd.append(np_arr)"
      ]
    },
    {
      "cell_type": "code",
      "execution_count": null,
      "metadata": {
        "id": "SgA_BEs6TCID"
      },
      "outputs": [],
      "source": [
        "embedd = np.array(embedd)"
      ]
    },
    {
      "cell_type": "code",
      "execution_count": null,
      "metadata": {
        "id": "h919Y_WaSXg1"
      },
      "outputs": [],
      "source": [
        "clustering = SpectralClustering(n_clusters=10,affinity='rbf',assign_labels='discretize',random_state=0).fit(embedd)"
      ]
    },
    {
      "cell_type": "code",
      "execution_count": null,
      "metadata": {
        "id": "Tcn0ZBiITWE1"
      },
      "outputs": [],
      "source": [
        "arr =[0]*10\n",
        "for k in clustering.labels_:\n",
        "  arr[k]+=1"
      ]
    },
    {
      "cell_type": "code",
      "execution_count": null,
      "metadata": {
        "id": "mTrnBXqgUtuU"
      },
      "outputs": [],
      "source": [
        "from sklearn.cluster import DBSCAN"
      ]
    },
    {
      "cell_type": "code",
      "execution_count": null,
      "metadata": {
        "id": "wXUjtMzlUxKJ"
      },
      "outputs": [],
      "source": [
        "clustering = DBSCAN(eps=3, min_samples=2).fit(embedd)"
      ]
    },
    {
      "cell_type": "markdown",
      "metadata": {
        "id": "6VOKWBqHcKhN"
      },
      "source": [
        "## Evaluate Models"
      ]
    },
    {
      "cell_type": "markdown",
      "metadata": {
        "id": "Ildr4pFmuNXP"
      },
      "source": []
    },
    {
      "cell_type": "markdown",
      "metadata": {
        "id": "Rs6GYh3Cijja"
      },
      "source": [
        "### Hindi Evaluation"
      ]
    },
    {
      "cell_type": "code",
      "execution_count": null,
      "metadata": {
        "id": "k21y9kaOEk0Z"
      },
      "outputs": [],
      "source": [
        "with open('hindiDictNoStopwords'+'.pkl','rb') as f:\n",
        "      hi_dataset = pickle.load(f)"
      ]
    },
    {
      "cell_type": "code",
      "execution_count": null,
      "metadata": {
        "id": "ewpHSDGPUxO6"
      },
      "outputs": [],
      "source": [
        "Cat=[]\n",
        "for key,value in hi_dataset.items():\n",
        "      #print(type(value['text']))\n",
        "      Cat.append(value['category'])"
      ]
    },
    {
      "cell_type": "code",
      "execution_count": null,
      "metadata": {
        "id": "535P3QC5G7Sq"
      },
      "outputs": [],
      "source": [
        "true_labels = pd.factorize(Cat)[0]"
      ]
    },
    {
      "cell_type": "code",
      "execution_count": null,
      "metadata": {
        "colab": {
          "base_uri": "https://localhost:8080/"
        },
        "id": "I4o8iyIgcmod",
        "outputId": "09af7d9f-8668-4d0d-c929-276f16436d1e"
      },
      "outputs": [
        {
          "name": "stdout",
          "output_type": "stream",
          "text": [
            "GENERATING MURILBERT RESULTS\n",
            "\n",
            "\n",
            "Printing K-means results\n",
            "rand_Score:  0.7074411005530878\n",
            "mutual_score:  0.40484193163110027\n",
            "homo_score:  0.24703063502654715\n",
            "completeness_score:  0.2019756489725313\n",
            "V-score:  0.22224264828189258\n",
            "fowlkes mallows:  0.28352395353403953\n",
            "silhoutte score:  0.0436589\n",
            "calinski_score:  182.6580321555055\n",
            "davies score:  3.2879965509826006\n",
            "\n",
            "\n",
            "Printing Birch results\n",
            "rand_Score:  0.6995215854151174\n",
            "mutual_score:  0.4013585417361314\n",
            "homo_score:  0.24490510416976988\n",
            "completeness_score:  0.2097021992777718\n",
            "V-score:  0.22594066821752581\n",
            "fowlkes mallows:  0.29506238606758833\n",
            "silhoutte score:  0.024330266\n",
            "calinski_score:  136.5699512563014\n",
            "davies score:  3.7512129852183556\n",
            "\n",
            "\n",
            "Printing GMM results\n",
            "rand_Score:  0.7074211462882628\n",
            "mutual_score:  0.404911193592161\n",
            "homo_score:  0.24707289800596502\n",
            "completeness_score:  0.20202199918003672\n",
            "V-score:  0.2222878109331864\n",
            "fowlkes mallows:  0.2835175541207808\n",
            "silhoutte score:  0.04368465\n",
            "calinski_score:  182.65868217504487\n",
            "davies score:  3.287857207917313\n",
            "\n",
            "\n",
            "GENERATING INDICBIRT RESULTS\n",
            "\n",
            "\n",
            "Printing K-means results\n",
            "rand_Score:  0.662432482527824\n",
            "mutual_score:  0.04044668771643757\n",
            "homo_score:  0.02468017804147948\n",
            "completeness_score:  0.0223445319539455\n",
            "V-score:  0.023454350996765506\n",
            "fowlkes mallows:  0.2296777533633155\n",
            "silhoutte score:  0.050167724\n",
            "calinski_score:  332.0312122749131\n",
            "davies score:  2.860616696875458\n",
            "\n",
            "\n",
            "Printing Birch results\n",
            "rand_Score:  0.6547132860372914\n",
            "mutual_score:  0.04587513526834866\n",
            "homo_score:  0.027992564287029856\n",
            "completeness_score:  0.02595887700857572\n",
            "V-score:  0.026937390958667283\n",
            "fowlkes mallows:  0.22995787560953657\n",
            "silhoutte score:  0.029330438\n",
            "calinski_score:  295.84133452143766\n",
            "davies score:  3.2278824342608305\n",
            "\n",
            "\n",
            "Printing GMM results\n",
            "rand_Score:  0.662432482527824\n",
            "mutual_score:  0.04044668771643757\n",
            "homo_score:  0.02468017804147948\n",
            "completeness_score:  0.0223445319539455\n",
            "V-score:  0.023454350996765506\n",
            "fowlkes mallows:  0.2296777533633155\n",
            "silhoutte score:  0.050167724\n",
            "calinski_score:  332.0312122749131\n",
            "davies score:  2.860616696875458\n",
            "\n",
            "\n",
            "GENERATING DOC2VEC RESULTS\n",
            "\n",
            "\n",
            "Printing K-means results\n",
            "rand_Score:  0.7089581789649235\n",
            "mutual_score:  0.6139037809642256\n",
            "homo_score:  0.3745981554968474\n",
            "completeness_score:  0.3423256068487921\n",
            "V-score:  0.35773550170896057\n",
            "fowlkes mallows:  0.3665850994909123\n",
            "silhoutte score:  -0.010474833\n",
            "calinski_score:  39.04107087565257\n",
            "davies score:  5.246910179931186\n",
            "\n",
            "\n",
            "Printing Birch results\n",
            "rand_Score:  0.7140744524660589\n",
            "mutual_score:  0.5082100778116609\n",
            "homo_score:  0.3101048790645114\n",
            "completeness_score:  0.25516653493030145\n",
            "V-score:  0.2799659968533193\n",
            "fowlkes mallows:  0.31188462436077613\n",
            "silhoutte score:  -0.03232859\n",
            "calinski_score:  31.94132668127617\n",
            "davies score:  6.703896985769053\n",
            "\n",
            "\n",
            "Printing GMM results\n",
            "rand_Score:  0.7050846127342797\n",
            "mutual_score:  0.6041641114879569\n",
            "homo_score:  0.36865510328884704\n",
            "completeness_score:  0.3387106025258949\n",
            "V-score:  0.3530490413452811\n",
            "fowlkes mallows:  0.3636266812813312\n",
            "silhoutte score:  -0.012462127\n",
            "calinski_score:  38.813547527193435\n",
            "davies score:  5.26213688587243\n",
            "\n",
            "\n"
          ]
        }
      ],
      "source": [
        "print('GENERATING MURILBERT RESULTS')\n",
        "embedd = MurilBert(hi_dataset,'hi')\n",
        "print('\\n')\n",
        "print('Printing K-means results')\n",
        "predicted_labels = apply_kmeans(embedd)\n",
        "evaluate(predicted_labels,embedd,true_labels)\n",
        "\n",
        "print(\"\\n\")\n",
        "\n",
        "print('Printing Birch results')\n",
        "predicted_labels = apply_birch(embedd)\n",
        "evaluate(predicted_labels,embedd,true_labels)\n",
        "\n",
        "print('\\n')\n",
        "\n",
        "print('Printing GMM results')\n",
        "predicted_labels = apply_GMM(embedd)\n",
        "evaluate(predicted_labels,embedd,true_labels)\n",
        "\n",
        "print('\\n')\n",
        "\n",
        "print('GENERATING INDICBIRT RESULTS')\n",
        "embedd = IndicBert(hi_dataset,'hi')\n",
        "print('\\n')\n",
        "print('Printing K-means results')\n",
        "predicted_labels = apply_kmeans(embedd)\n",
        "evaluate(predicted_labels,embedd,true_labels)\n",
        "\n",
        "print(\"\\n\")\n",
        "\n",
        "print('Printing Birch results')\n",
        "predicted_labels = apply_birch(embedd)\n",
        "evaluate(predicted_labels,embedd,true_labels)\n",
        "\n",
        "print('\\n')\n",
        "\n",
        "print('Printing GMM results')\n",
        "predicted_labels = apply_GMM(embedd)\n",
        "evaluate(predicted_labels,embedd,true_labels)\n",
        "\n",
        "print('\\n')\n",
        "\n",
        "print('GENERATING DOC2VEC RESULTS')\n",
        "embedd = D2V(hi_dataset,'hi')\n",
        "print('\\n')\n",
        "print('Printing K-means results')\n",
        "predicted_labels = apply_kmeans(embedd)\n",
        "evaluate(predicted_labels,embedd,true_labels)\n",
        "\n",
        "print(\"\\n\")\n",
        "\n",
        "print('Printing Birch results')\n",
        "predicted_labels = apply_birch(embedd)\n",
        "evaluate(predicted_labels,embedd,true_labels)\n",
        "\n",
        "print('\\n')\n",
        "\n",
        "print('Printing GMM results')\n",
        "predicted_labels = apply_GMM(embedd)\n",
        "evaluate(predicted_labels,embedd,true_labels)\n",
        "\n",
        "print('\\n')\n"
      ]
    },
    {
      "cell_type": "markdown",
      "metadata": {
        "id": "ykoua8Azinll"
      },
      "source": [
        "### Tamil Evaluation"
      ]
    },
    {
      "cell_type": "code",
      "execution_count": null,
      "metadata": {
        "id": "16A6bZhtd8ja"
      },
      "outputs": [],
      "source": [
        "with open('tamilDictNoStopwords'+'.pkl','rb') as f:\n",
        "      tamil_dataset = pickle.load(f)"
      ]
    },
    {
      "cell_type": "code",
      "execution_count": null,
      "metadata": {
        "id": "qg0tWqxWiuMy"
      },
      "outputs": [],
      "source": [
        "Cat=[]\n",
        "for key,value in tamil_dataset.items():\n",
        "      #print(type(value['text']))\n",
        "      Cat.append(value['category'])\n",
        "true_labels = pd.factorize(Cat)[0]"
      ]
    },
    {
      "cell_type": "code",
      "execution_count": null,
      "metadata": {
        "id": "hK2E3qBOiuSj"
      },
      "outputs": [],
      "source": []
    },
    {
      "cell_type": "code",
      "execution_count": null,
      "metadata": {
        "colab": {
          "base_uri": "https://localhost:8080/"
        },
        "id": "XFM-sXaziuVq",
        "outputId": "e5f8e638-1d4f-4290-cd32-6f9c4c9dd44f"
      },
      "outputs": [
        {
          "name": "stdout",
          "output_type": "stream",
          "text": [
            "GENERATING MURILBERT RESULTS\n",
            "\n",
            "\n",
            "Printing K-means results\n",
            "rand_Score:  0.9370032513975141\n",
            "mutual_score:  1.584865277483843\n",
            "homo_score:  0.7699942365742711\n",
            "completeness_score:  0.7799125626773625\n",
            "V-score:  0.7749216644296313\n",
            "fowlkes mallows:  0.7628678166059023\n",
            "silhoutte score:  0.16037548\n",
            "calinski_score:  340.51654756055893\n",
            "davies score:  2.3321821135713003\n",
            "\n",
            "\n",
            "Printing Birch results\n",
            "rand_Score:  0.9493534451946511\n",
            "mutual_score:  1.69147099210373\n",
            "homo_score:  0.8217877782773965\n",
            "completeness_score:  0.8503363885600153\n",
            "V-score:  0.8358183744988682\n",
            "fowlkes mallows:  0.8160115422151638\n",
            "silhoutte score:  0.14767009\n",
            "calinski_score:  323.4866034485113\n",
            "davies score:  2.3451090389120006\n",
            "\n",
            "\n",
            "Printing GMM results\n",
            "rand_Score:  0.9370032513975141\n",
            "mutual_score:  1.584865277483843\n",
            "homo_score:  0.7699942365742711\n",
            "completeness_score:  0.7799125626773625\n",
            "V-score:  0.7749216644296313\n",
            "fowlkes mallows:  0.7628678166059023\n",
            "silhoutte score:  0.16037548\n",
            "calinski_score:  340.51654756055893\n",
            "davies score:  2.3321821135713003\n",
            "\n",
            "\n",
            "GENERATING INDICBIRT RESULTS\n",
            "\n",
            "\n",
            "Printing K-means results\n",
            "rand_Score:  0.7960656660398641\n",
            "mutual_score:  0.41175066730372417\n",
            "homo_score:  0.20004579899234365\n",
            "completeness_score:  0.2074293478586276\n",
            "V-score:  0.2036706775739446\n",
            "fowlkes mallows:  0.26032304450402316\n",
            "silhoutte score:  0.0715155\n",
            "calinski_score:  435.15422706569086\n",
            "davies score:  2.7752806434939723\n",
            "\n",
            "\n",
            "Printing Birch results\n",
            "rand_Score:  0.7808249565263847\n",
            "mutual_score:  0.459784425042982\n",
            "homo_score:  0.2233826195698961\n",
            "completeness_score:  0.2542755385597981\n",
            "V-score:  0.23783006708580587\n",
            "fowlkes mallows:  0.2990346198573216\n",
            "silhoutte score:  0.056779034\n",
            "calinski_score:  426.0701794461319\n",
            "davies score:  2.5865442897274886\n",
            "\n",
            "\n",
            "Printing GMM results\n",
            "rand_Score:  0.7960656660398641\n",
            "mutual_score:  0.41175066730372417\n",
            "homo_score:  0.20004579899234365\n",
            "completeness_score:  0.2074293478586276\n",
            "V-score:  0.2036706775739446\n",
            "fowlkes mallows:  0.26032304450402316\n",
            "silhoutte score:  0.0715155\n",
            "calinski_score:  435.15422706569086\n",
            "davies score:  2.7752806434939723\n",
            "\n",
            "\n",
            "GENERATING DOC2VEC RESULTS\n",
            "\n",
            "\n",
            "Printing K-means results\n",
            "rand_Score:  0.6715834177974321\n",
            "mutual_score:  0.5453370307377529\n",
            "homo_score:  0.2649476751268384\n",
            "completeness_score:  0.44565899969569656\n",
            "V-score:  0.332325377884229\n",
            "fowlkes mallows:  0.3852095630929525\n",
            "silhoutte score:  0.036686767\n",
            "calinski_score:  88.8112837408215\n",
            "davies score:  3.5800633388555303\n",
            "\n",
            "\n",
            "Printing Birch results\n",
            "rand_Score:  0.7903445307520803\n",
            "mutual_score:  1.0325871814177738\n",
            "homo_score:  0.5016742998587542\n",
            "completeness_score:  0.6377802155007006\n",
            "V-score:  0.5615984469097386\n",
            "fowlkes mallows:  0.48586191981663807\n",
            "silhoutte score:  0.011316556\n",
            "calinski_score:  95.54279180922455\n",
            "davies score:  3.338682428430087\n",
            "\n",
            "\n",
            "Printing GMM results\n",
            "rand_Score:  0.6364152006784216\n",
            "mutual_score:  0.5143166843946181\n",
            "homo_score:  0.2498766856616187\n",
            "completeness_score:  0.4383873174497944\n",
            "V-score:  0.31831613864806535\n",
            "fowlkes mallows:  0.3671078268306674\n",
            "silhoutte score:  0.062534496\n",
            "calinski_score:  86.80230028410051\n",
            "davies score:  3.6567141680120905\n",
            "\n",
            "\n"
          ]
        }
      ],
      "source": [
        "print('GENERATING MURILBERT RESULTS')\n",
        "embedd = MurilBert(tamil_dataset,'tam')\n",
        "print('\\n')\n",
        "print('Printing K-means results')\n",
        "predicted_labels = apply_kmeans(embedd)\n",
        "evaluate(predicted_labels,embedd,true_labels)\n",
        "\n",
        "print(\"\\n\")\n",
        "\n",
        "print('Printing Birch results')\n",
        "predicted_labels = apply_birch(embedd)\n",
        "evaluate(predicted_labels,embedd,true_labels)\n",
        "\n",
        "print('\\n')\n",
        "\n",
        "print('Printing GMM results')\n",
        "predicted_labels = apply_GMM(embedd)\n",
        "evaluate(predicted_labels,embedd,true_labels)\n",
        "\n",
        "print('\\n')\n",
        "\n",
        "print('GENERATING INDICBIRT RESULTS')\n",
        "embedd = IndicBert(tamil_dataset,'tam')\n",
        "print('\\n')\n",
        "print('Printing K-means results')\n",
        "predicted_labels = apply_kmeans(embedd)\n",
        "evaluate(predicted_labels,embedd,true_labels)\n",
        "\n",
        "print(\"\\n\")\n",
        "\n",
        "print('Printing Birch results')\n",
        "predicted_labels = apply_birch(embedd)\n",
        "evaluate(predicted_labels,embedd,true_labels)\n",
        "\n",
        "print('\\n')\n",
        "\n",
        "print('Printing GMM results')\n",
        "predicted_labels = apply_GMM(embedd)\n",
        "evaluate(predicted_labels,embedd,true_labels)\n",
        "\n",
        "print('\\n')\n",
        "\n",
        "print('GENERATING DOC2VEC RESULTS')\n",
        "embedd = D2V(tamil_dataset,'tam')\n",
        "print('\\n')\n",
        "print('Printing K-means results')\n",
        "predicted_labels = apply_kmeans(embedd)\n",
        "evaluate(predicted_labels,embedd,true_labels)\n",
        "\n",
        "print(\"\\n\")\n",
        "\n",
        "print('Printing Birch results')\n",
        "predicted_labels = apply_birch(embedd)\n",
        "evaluate(predicted_labels,embedd,true_labels)\n",
        "\n",
        "print('\\n')\n",
        "\n",
        "print('Printing GMM results')\n",
        "predicted_labels = apply_GMM(embedd)\n",
        "evaluate(predicted_labels,embedd,true_labels)\n",
        "\n",
        "print('\\n')\n"
      ]
    },
    {
      "cell_type": "markdown",
      "metadata": {
        "id": "y3tamO6mi-v5"
      },
      "source": [
        "### Bangla Results"
      ]
    },
    {
      "cell_type": "code",
      "execution_count": null,
      "metadata": {
        "id": "5NGtqmWii99O"
      },
      "outputs": [],
      "source": [
        "with open('banglaDict'+'.pkl','rb') as f:\n",
        "      bangla_dataset = pickle.load(f)\n",
        "Cat=[]\n",
        "for key,value in bangla_dataset.items():\n",
        "      #print(type(value['text']))\n",
        "      Cat.append(value['category'])\n",
        "true_labels = pd.factorize(Cat)[0]\n",
        "\n",
        "embedd = D2V(bangla_dataset,'ban')\n",
        "embedd = MurilBert(bangla_dataset,'ban')\n",
        "embedd = IndicBert(bangla_dataset,'ban')"
      ]
    },
    {
      "cell_type": "code",
      "execution_count": null,
      "metadata": {
        "colab": {
          "base_uri": "https://localhost:8080/"
        },
        "id": "fVlorP1Ei9_-",
        "outputId": "03dfa330-2ea1-4720-eded-5ccc94c82428"
      },
      "outputs": [
        {
          "name": "stdout",
          "output_type": "stream",
          "text": [
            "GENERATING MURILBERT RESULTS\n",
            "\n",
            "\n",
            "Printing K-means results\n",
            "rand_Score:  0.7906932404731916\n",
            "mutual_score:  0.5545891384239111\n",
            "homo_score:  0.25240439422731237\n",
            "completeness_score:  0.3016461005594537\n",
            "V-score:  0.27483704824428373\n",
            "fowlkes mallows:  0.27927776543355937\n",
            "silhoutte score:  0.07067959\n",
            "calinski_score:  280.3090344747818\n",
            "davies score:  2.3988356549483236\n",
            "\n",
            "\n",
            "Printing Birch results\n",
            "rand_Score:  0.7853545726210763\n",
            "mutual_score:  0.6960394992744409\n",
            "homo_score:  0.316781227760649\n",
            "completeness_score:  0.38008442791328306\n",
            "V-score:  0.3455575999383482\n",
            "fowlkes mallows:  0.3186707343253898\n",
            "silhoutte score:  0.08434703\n",
            "calinski_score:  246.9300116763954\n",
            "davies score:  2.6164577680553442\n",
            "\n",
            "\n",
            "Printing GMM results\n",
            "rand_Score:  0.7906932404731916\n",
            "mutual_score:  0.5545891384239111\n",
            "homo_score:  0.25240439422731237\n",
            "completeness_score:  0.3016461005594537\n",
            "V-score:  0.27483704824428373\n",
            "fowlkes mallows:  0.27927776543355937\n",
            "silhoutte score:  0.07067959\n",
            "calinski_score:  280.3090344747818\n",
            "davies score:  2.3988356549483236\n",
            "\n",
            "\n",
            "GENERATING INDICBIRT RESULTS\n",
            "\n",
            "\n",
            "Printing K-means results\n",
            "rand_Score:  0.7675218690573213\n",
            "mutual_score:  0.10812180930751589\n",
            "homo_score:  0.04920835604278381\n",
            "completeness_score:  0.05667764918185683\n",
            "V-score:  0.05267955731622551\n",
            "fowlkes mallows:  0.16056410436882243\n",
            "silhoutte score:  0.07641992\n",
            "calinski_score:  604.0116238189715\n",
            "davies score:  2.5477343948938636\n",
            "\n",
            "\n",
            "Printing Birch results\n",
            "rand_Score:  0.6984302684547183\n",
            "mutual_score:  0.0916305495856086\n",
            "homo_score:  0.04170286029509821\n",
            "completeness_score:  0.05644043278621947\n",
            "V-score:  0.04796512139710627\n",
            "fowlkes mallows:  0.18271930490987823\n",
            "silhoutte score:  0.10297138\n",
            "calinski_score:  544.2630761641574\n",
            "davies score:  2.2715319029888312\n",
            "\n",
            "\n",
            "Printing GMM results\n",
            "rand_Score:  0.7675218690573213\n",
            "mutual_score:  0.10812180930751589\n",
            "homo_score:  0.04920835604278381\n",
            "completeness_score:  0.05667764918185683\n",
            "V-score:  0.05267955731622551\n",
            "fowlkes mallows:  0.16056410436882243\n",
            "silhoutte score:  0.07641992\n",
            "calinski_score:  604.0116238189715\n",
            "davies score:  2.5477343948938636\n",
            "\n",
            "\n",
            "GENERATING DOC2VEC RESULTS\n",
            "\n",
            "\n",
            "Printing K-means results\n",
            "rand_Score:  0.6641838433232077\n",
            "mutual_score:  0.38169566221362394\n",
            "homo_score:  0.17371718219007376\n",
            "completeness_score:  0.25856996167331875\n",
            "V-score:  0.20781578068432632\n",
            "fowlkes mallows:  0.2560053048725718\n",
            "silhoutte score:  0.07562875\n",
            "calinski_score:  77.06487698707205\n",
            "davies score:  3.6601164945457745\n",
            "\n",
            "\n",
            "Printing Birch results\n",
            "rand_Score:  0.7714569657454743\n",
            "mutual_score:  0.6378217784549994\n",
            "homo_score:  0.29028520117331624\n",
            "completeness_score:  0.3670697102380023\n",
            "V-score:  0.32419292175759257\n",
            "fowlkes mallows:  0.3236633836379783\n",
            "silhoutte score:  0.0026709686\n",
            "calinski_score:  66.3275169065612\n",
            "davies score:  4.341370822214177\n",
            "\n",
            "\n",
            "Printing GMM results\n",
            "rand_Score:  0.6509928626114445\n",
            "mutual_score:  0.37215012185444263\n",
            "homo_score:  0.16937281955293554\n",
            "completeness_score:  0.2571819040160305\n",
            "V-score:  0.204239324121069\n",
            "fowlkes mallows:  0.2567914990523334\n",
            "silhoutte score:  0.08340649\n",
            "calinski_score:  76.7098512089157\n",
            "davies score:  3.6622717217164276\n",
            "\n",
            "\n"
          ]
        }
      ],
      "source": [
        "print('GENERATING MURILBERT RESULTS')\n",
        "embedd = MurilBert(bangla_dataset,'ban')\n",
        "print('\\n')\n",
        "print('Printing K-means results')\n",
        "predicted_labels = apply_kmeans(embedd)\n",
        "evaluate(predicted_labels,embedd,true_labels)\n",
        "\n",
        "print(\"\\n\")\n",
        "\n",
        "print('Printing Birch results')\n",
        "predicted_labels = apply_birch(embedd)\n",
        "evaluate(predicted_labels,embedd,true_labels)\n",
        "\n",
        "print('\\n')\n",
        "\n",
        "print('Printing GMM results')\n",
        "predicted_labels = apply_GMM(embedd)\n",
        "evaluate(predicted_labels,embedd,true_labels)\n",
        "\n",
        "print('\\n')\n",
        "\n",
        "print('GENERATING INDICBIRT RESULTS')\n",
        "embedd = IndicBert(bangla_dataset,'ban')\n",
        "print('\\n')\n",
        "print('Printing K-means results')\n",
        "predicted_labels = apply_kmeans(embedd)\n",
        "evaluate(predicted_labels,embedd,true_labels)\n",
        "\n",
        "print(\"\\n\")\n",
        "\n",
        "print('Printing Birch results')\n",
        "predicted_labels = apply_birch(embedd)\n",
        "evaluate(predicted_labels,embedd,true_labels)\n",
        "\n",
        "print('\\n')\n",
        "\n",
        "print('Printing GMM results')\n",
        "predicted_labels = apply_GMM(embedd)\n",
        "evaluate(predicted_labels,embedd,true_labels)\n",
        "\n",
        "print('\\n')\n",
        "\n",
        "print('GENERATING DOC2VEC RESULTS')\n",
        "embedd = D2V(bangla_dataset,'ban')\n",
        "print('\\n')\n",
        "print('Printing K-means results')\n",
        "predicted_labels = apply_kmeans(embedd)\n",
        "evaluate(predicted_labels,embedd,true_labels)\n",
        "\n",
        "print(\"\\n\")\n",
        "\n",
        "print('Printing Birch results')\n",
        "predicted_labels = apply_birch(embedd)\n",
        "evaluate(predicted_labels,embedd,true_labels)\n",
        "\n",
        "print('\\n')\n",
        "\n",
        "print('Printing GMM results')\n",
        "predicted_labels = apply_GMM(embedd)\n",
        "evaluate(predicted_labels,embedd,true_labels)\n",
        "\n",
        "print('\\n')\n"
      ]
    },
    {
      "cell_type": "code",
      "execution_count": null,
      "metadata": {
        "id": "Ib4DLNPri-DQ"
      },
      "outputs": [],
      "source": []
    },
    {
      "cell_type": "code",
      "execution_count": null,
      "metadata": {
        "id": "i6l-Fn15T4hE"
      },
      "outputs": [],
      "source": [
        "from sklearn.cluster import OPTICS\n",
        "X = np.array([[1, 2], [2, 5], [3, 6],[8, 7], [8, 8], [7, 3]])\n",
        "clustering = OPTICS(min_samples=2).fit(random_DV)"
      ]
    },
    {
      "cell_type": "code",
      "execution_count": null,
      "metadata": {
        "colab": {
          "base_uri": "https://localhost:8080/"
        },
        "id": "6InhpmzdhMRr",
        "outputId": "0bc18175-211a-454a-d584-d8f54c041e28"
      },
      "outputs": [
        {
          "name": "stdout",
          "output_type": "stream",
          "text": [
            "3467\n"
          ]
        }
      ],
      "source": [
        "predicted_labels=clustering.labels_"
      ]
    },
    {
      "cell_type": "code",
      "execution_count": null,
      "metadata": {
        "colab": {
          "base_uri": "https://localhost:8080/"
        },
        "id": "z9mPCsUJhizE",
        "outputId": "36fab744-facf-46e4-9aef-911c656b7512"
      },
      "outputs": [
        {
          "name": "stdout",
          "output_type": "stream",
          "text": [
            "[-1 -1 -1 ... -1 -1 -1]\n"
          ]
        }
      ],
      "source": [
        "print(predicted_labels)"
      ]
    },
    {
      "cell_type": "code",
      "execution_count": null,
      "metadata": {
        "id": "H7xx3aO1hTlF"
      },
      "outputs": [],
      "source": [
        "lang = 'tam'\n",
        "with open('doc2vec_'+lang+'.pkl','rb') as f:\n",
        "      embeddings = pickle.load(f)"
      ]
    },
    {
      "cell_type": "code",
      "execution_count": null,
      "metadata": {
        "id": "0NERd834MqrY"
      },
      "outputs": [],
      "source": [
        "from sklearn.manifold import TSNE"
      ]
    },
    {
      "cell_type": "code",
      "execution_count": null,
      "metadata": {
        "id": "J75z3OT3Mqtv"
      },
      "outputs": [],
      "source": [
        "X_embedded = TSNE(n_components=2, learning_rate='auto',init='random').fit_transform(np.array(embeddings))"
      ]
    },
    {
      "cell_type": "code",
      "execution_count": null,
      "metadata": {
        "colab": {
          "base_uri": "https://localhost:8080/"
        },
        "id": "xvkZ_Ju5ODmD",
        "outputId": "30bd9fc9-d873-4574-ef29-9bd03d9a2de9"
      },
      "outputs": [
        {
          "data": {
            "text/plain": [
              "array([ 16.298702  , -15.058976  ,  25.688786  , ...,  27.745127  ,\n",
              "        20.762268  ,   0.42092583], dtype=float32)"
            ]
          },
          "execution_count": 33,
          "metadata": {},
          "output_type": "execute_result"
        }
      ],
      "source": [
        "X_embedded[:,0]"
      ]
    },
    {
      "cell_type": "code",
      "execution_count": null,
      "metadata": {
        "id": "9ORvaGvPMqv8"
      },
      "outputs": [],
      "source": [
        "import matplotlib.pyplot as plt"
      ]
    },
    {
      "cell_type": "code",
      "execution_count": null,
      "metadata": {
        "colab": {
          "base_uri": "https://localhost:8080/",
          "height": 284
        },
        "id": "b3A47NM9Mqzc",
        "outputId": "90d79e3a-6129-40e4-cdb2-746745f3c91d"
      },
      "outputs": [
        {
          "data": {
            "text/plain": [
              "<matplotlib.collections.PathCollection at 0x7f482fa30cd0>"
            ]
          },
          "execution_count": 34,
          "metadata": {},
          "output_type": "execute_result"
        },
        {
          "data": {
            "image/png": "[encoded data removed]",
            "text/plain": [
              "<Figure size 432x288 with 1 Axes>"
            ]
          },
          "metadata": {
            "needs_background": "light"
          },
          "output_type": "display_data"
        }
      ],
      "source": [
        "plt.scatter(X_embedded[:,0],X_embedded[:,1])"
      ]
    },
    {
      "cell_type": "code",
      "execution_count": null,
      "metadata": {
        "id": "n5RDNad2fvkJ"
      },
      "outputs": [],
      "source": [
        "!git clone \"https://github.com/anoopkunchukuttan/indic_nlp_library\"\n",
        "!git clone https://github.com/anoopkunchukuttan/indic_nlp_resources.git\n",
        "!pip install Morfessor\n",
        "# The path to the local git repo for Indic NLP library\n",
        "INDIC_NLP_LIB_HOME=r\"/content/indic_nlp_library\"\n",
        "\n",
        "# The path to the local git repo for Indic NLP Resources\n",
        "INDIC_NLP_RESOURCES=\"/content/indic_nlp_resources\"\n",
        "import sys\n",
        "sys.path.append(r'{}'.format(INDIC_NLP_LIB_HOME))\n",
        "from indicnlp import common\n",
        "common.set_resources_path(INDIC_NLP_RESOURCES)\n",
        "from indicnlp import loader\n",
        "from numpy import dot\n",
        "from numpy.linalg import norm\n",
        "from gensim.models import Word2Vec\n",
        "import numpy as np\n",
        "import time\n",
        "from indicnlp.tokenize import indic_tokenize"
      ]
    },
    {
      "cell_type": "code",
      "execution_count": null,
      "metadata": {
        "colab": {
          "base_uri": "https://localhost:8080/"
        },
        "id": "65a2koBweANs",
        "outputId": "bd22a412-0213-46e6-bc4b-329333677e88"
      },
      "outputs": [
        {
          "name": "stdout",
          "output_type": "stream",
          "text": [
            "Mounted at /content/drive\n",
            "Archive:  /content/drive/MyDrive/hi.zip\n",
            "   creating: hi/\n",
            "  inflating: hi/hi-train.csv         \n",
            "  inflating: hi/hi-test.csv          \n"
          ]
        }
      ],
      "source": [
        "from google.colab import drive\n",
        "drive.mount('/content/drive')\n",
        "!unzip \"/content/drive/MyDrive/hi.zip\""
      ]
    },
    {
      "cell_type": "code",
      "execution_count": null,
      "metadata": {
        "colab": {
          "base_uri": "https://localhost:8080/",
          "height": 206
        },
        "id": "uKdvTWNZQj0_",
        "outputId": "a1bf90a4-0316-498e-ffab-5ab98aded346"
      },
      "outputs": [
        {
          "data": {
            "text/html": [
              "\n",
              "  <div id=\"df-f6871ee3-c14e-489f-aa93-f45b58d98d4a\">\n",
              "    <div class=\"colab-df-container\">\n",
              "      <div>\n",
              "<style scoped>\n",
              "    .dataframe tbody tr th:only-of-type {\n",
              "        vertical-align: middle;\n",
              "    }\n",
              "\n",
              "    .dataframe tbody tr th {\n",
              "        vertical-align: top;\n",
              "    }\n",
              "\n",
              "    .dataframe thead th {\n",
              "        text-align: right;\n",
              "    }\n",
              "</style>\n",
              "<table border=\"1\" class=\"dataframe\">\n",
              "  <thead>\n",
              "    <tr style=\"text-align: right;\">\n",
              "      <th></th>\n",
              "      <th>0</th>\n",
              "      <th>1</th>\n",
              "    </tr>\n",
              "  </thead>\n",
              "  <tbody>\n",
              "    <tr>\n",
              "      <th>0</th>\n",
              "      <td>india</td>\n",
              "      <td>मेट्रो की इस लाइन के चलने से दक्षिणी दिल्ली से...</td>\n",
              "    </tr>\n",
              "    <tr>\n",
              "      <th>1</th>\n",
              "      <td>pakistan</td>\n",
              "      <td>नेटिजन यानि इंटरनेट पर सक्रिय नागरिक अब ट्विटर...</td>\n",
              "    </tr>\n",
              "    <tr>\n",
              "      <th>2</th>\n",
              "      <td>news</td>\n",
              "      <td>इसमें एक फ़्लाइट एटेनडेंट की मदद की गुहार है औ...</td>\n",
              "    </tr>\n",
              "    <tr>\n",
              "      <th>3</th>\n",
              "      <td>india</td>\n",
              "      <td>प्रतीक खुलेपन का, आज़ाद ख्याली का और भीड़ से अ...</td>\n",
              "    </tr>\n",
              "    <tr>\n",
              "      <th>4</th>\n",
              "      <td>india</td>\n",
              "      <td>ख़ासकर पिछले 10 साल तक प्रधानमंत्री रहे मनमोहन...</td>\n",
              "    </tr>\n",
              "  </tbody>\n",
              "</table>\n",
              "</div>\n",
              "      <button class=\"colab-df-convert\" onclick=\"convertToInteractive('df-f6871ee3-c14e-489f-aa93-f45b58d98d4a')\"\n",
              "              title=\"Convert this dataframe to an interactive table.\"\n",
              "              style=\"display:none;\">\n",
              "        \n",
              "  <svg xmlns=\"http://www.w3.org/2000/svg\" height=\"24px\"viewBox=\"0 0 24 24\"\n",
              "       width=\"24px\">\n",
              "    <path d=\"M0 0h24v24H0V0z\" fill=\"none\"/>\n",
              "    <path d=\"M18.56 5.44l.94 2.06.94-2.06 2.06-.94-2.06-.94-.94-2.06-.94 2.06-2.06.94zm-11 1L8.5 8.5l.94-2.06 2.06-.94-2.06-.94L8.5 2.5l-.94 2.06-2.06.94zm10 10l.94 2.06.94-2.06 2.06-.94-2.06-.94-.94-2.06-.94 2.06-2.06.94z\"/><path d=\"M17.41 7.96l-1.37-1.37c-.4-.4-.92-.59-1.43-.59-.52 0-1.04.2-1.43.59L10.3 9.45l-7.72 7.72c-.78.78-.78 2.05 0 2.83L4 21.41c.39.39.9.59 1.41.59.51 0 1.02-.2 1.41-.59l7.78-7.78 2.81-2.81c.8-.78.8-2.07 0-2.86zM5.41 20L4 18.59l7.72-7.72 1.47 1.35L5.41 20z\"/>\n",
              "  </svg>\n",
              "      </button>\n",
              "      \n",
              "  <style>\n",
              "    .colab-df-container {\n",
              "      display:flex;\n",
              "      flex-wrap:wrap;\n",
              "      gap: 12px;\n",
              "    }\n",
              "\n",
              "    .colab-df-convert {\n",
              "      background-color: #E8F0FE;\n",
              "      border: none;\n",
              "      border-radius: 50%;\n",
              "      cursor: pointer;\n",
              "      display: none;\n",
              "      fill: #1967D2;\n",
              "      height: 32px;\n",
              "      padding: 0 0 0 0;\n",
              "      width: 32px;\n",
              "    }\n",
              "\n",
              "    .colab-df-convert:hover {\n",
              "      background-color: #E2EBFA;\n",
              "      box-shadow: 0px 1px 2px rgba(60, 64, 67, 0.3), 0px 1px 3px 1px rgba(60, 64, 67, 0.15);\n",
              "      fill: #174EA6;\n",
              "    }\n",
              "\n",
              "    [theme=dark] .colab-df-convert {\n",
              "      background-color: #3B4455;\n",
              "      fill: #D2E3FC;\n",
              "    }\n",
              "\n",
              "    [theme=dark] .colab-df-convert:hover {\n",
              "      background-color: #434B5C;\n",
              "      box-shadow: 0px 1px 3px 1px rgba(0, 0, 0, 0.15);\n",
              "      filter: drop-shadow(0px 1px 2px rgba(0, 0, 0, 0.3));\n",
              "      fill: #FFFFFF;\n",
              "    }\n",
              "  </style>\n",
              "\n",
              "      <script>\n",
              "        const buttonEl =\n",
              "          document.querySelector('#df-f6871ee3-c14e-489f-aa93-f45b58d98d4a button.colab-df-convert');\n",
              "        buttonEl.style.display =\n",
              "          google.colab.kernel.accessAllowed ? 'block' : 'none';\n",
              "\n",
              "        async function convertToInteractive(key) {\n",
              "          const element = document.querySelector('#df-f6871ee3-c14e-489f-aa93-f45b58d98d4a');\n",
              "          const dataTable =\n",
              "            await google.colab.kernel.invokeFunction('convertToInteractive',\n",
              "                                                     [key], {});\n",
              "          if (!dataTable) return;\n",
              "\n",
              "          const docLinkHtml = 'Like what you see? Visit the ' +\n",
              "            '<a target=\"_blank\" href=https://colab.research.google.com/notebooks/data_table.ipynb>data table notebook</a>'\n",
              "            + ' to learn more about interactive tables.';\n",
              "          element.innerHTML = '';\n",
              "          dataTable['output_type'] = 'display_data';\n",
              "          await google.colab.output.renderOutput(dataTable, element);\n",
              "          const docLink = document.createElement('div');\n",
              "          docLink.innerHTML = docLinkHtml;\n",
              "          element.appendChild(docLink);\n",
              "        }\n",
              "      </script>\n",
              "    </div>\n",
              "  </div>\n",
              "  "
            ],
            "text/plain": [
              "          0                                                  1\n",
              "0     india  मेट्रो की इस लाइन के चलने से दक्षिणी दिल्ली से...\n",
              "1  pakistan  नेटिजन यानि इंटरनेट पर सक्रिय नागरिक अब ट्विटर...\n",
              "2      news  इसमें एक फ़्लाइट एटेनडेंट की मदद की गुहार है औ...\n",
              "3     india  प्रतीक खुलेपन का, आज़ाद ख्याली का और भीड़ से अ...\n",
              "4     india  ख़ासकर पिछले 10 साल तक प्रधानमंत्री रहे मनमोहन..."
            ]
          },
          "execution_count": 4,
          "metadata": {},
          "output_type": "execute_result"
        }
      ],
      "source": [
        "import pandas as pd\n",
        "import re\n",
        "from sklearn import preprocessing\n",
        "\n",
        "dataframe=pd.read_csv(\"./hi/hi-train.csv\",header=None)\n",
        "\n",
        "labels=dataframe[0].values\n",
        "le = preprocessing.LabelEncoder()\n",
        "le.fit(labels)\n",
        "labels=le.transform(labels)\n",
        "true_labels=np.array(labels)\n",
        "\n",
        "\n",
        "def create_data(dataframe):\n",
        "\n",
        "    data={}\n",
        "    doc_id=0\n",
        "    for category,text in zip(dataframe[0].values,dataframe[1].values):\n",
        "        data[doc_id]={}\n",
        "        data[doc_id]['text']=text\n",
        "        data[doc_id]['category']=category\n",
        "        doc_id+=1\n",
        "    p = re.compile(r'[^\\u0900-\\u097F\\n]')\n",
        "    for key in data:\n",
        "        text = data[key]['text']\n",
        "        text = re.sub(\"\\s\\s+\", \" \", text)\n",
        "        text = text.replace(\"(बीबीसी हिन्दी के एंड्रॉएड ऐप के लिए यहां क्लिक करें. आप हमें फ़ेसबुक और ट्विटर पर भी फ़ॉलो कर सकते हैं.)\",\"\")\n",
        "        text = text.replace(\"(बीबीसी हिन्दी के एंड्रॉएड ऐप के लिए यहां क्लिक करें. आप हमें फ़ेसबुक और ट्विटर पर भी फ़ॉलो कर सकते हैं)\",\"\")\n",
        "        text = text.replace(\"(बीबीसी हिंदी का एंड्रॉयड मोबाइल ऐप डाउनलोड करने के लिए क्लिक करें. आप ख़बरें पढ़ने और अपनी राय देने के लिए हमारे फ़ेसबुक पन्ने पर भी आ सकते हैं और ट्विटर पर फ़ॉलो भी कर सकते हैं.)\",\"\")\n",
        "        text = p.sub(' ', text)\n",
        "        text = re.sub(\"\\s\\s+\", \" \", text)\n",
        "        data[key]['text']=text\n",
        "\n",
        "    return data\n"
      ]
    },
    {
      "cell_type": "code",
      "execution_count": null,
      "metadata": {
        "colab": {
          "base_uri": "https://localhost:8080/"
        },
        "id": "cY312Uujqs4z",
        "outputId": "0d5be9db-eff4-4c5d-921f-12a784558e91"
      },
      "outputs": [
        {
          "name": "stdout",
          "output_type": "stream",
          "text": [
            "['sport', 'institutional', 'multimedia', 'entertainment', 'science', 'business', 'international', 'learningenglish', 'india', 'southasia', 'social', 'pakistan', 'china', 'news']\n"
          ]
        }
      ],
      "source": [
        "categories=list(set(dataframe[0].values))\n",
        "print(categories)"
      ]
    },
    {
      "cell_type": "code",
      "execution_count": null,
      "metadata": {
        "id": "rfT1D8KNq08M"
      },
      "outputs": [],
      "source": []
    },
    {
      "cell_type": "code",
      "execution_count": null,
      "metadata": {
        "colab": {
          "base_uri": "https://localhost:8080/"
        },
        "id": "uoiTmmR7q3rr",
        "outputId": "f8633c60-1255-4e45-f7e6-8aba56aeab47"
      },
      "outputs": [
        {
          "name": "stdout",
          "output_type": "stream",
          "text": [
            "0 {'text': 'मेट्रो की इस लाइन के चलने से दक्षिणी दिल्ली से नोएडा जाने का समय काफी कम हो जाएगा और यात्रियों को राजीव चौक या मंडी हाउस से होकर नहीं जाना पड़ेगा.लेकिन, यह मजेंटा लाइन इसलिए भी महत्वपूर्ण है क्योंकि इस पर ड्राइवलैस यानी बिना ड्राइवर वाली मेट्रो चलाने की योजना है. ऐसा भारत में पहली बार होगा जब कोई मेट्रो बिना ड्राइवर के चलाई जाएगी. मेट्रो के तीसरे फेज में भारत में पहली बार ड्राइवरलेस तकनीक आएगी लेकिन दुनिया भर में कई देशों में ड्राइवरलेस मेट्रो पहले से ही चलती हैं. इन देशों में ड्राइवरलेस मेट्रो सफल भी रही हैं. दक्षिण कोरिया की राजधानी सोल में ड्राइवलेस ट्रेन कामयाबी से चल रही है. ये मेट्रो ज़मीन के नीचे चलती है इसमें ड्राइवर का केबिन भी नहीं होता है. यूरोप में डेनमार्क, स्पेन, इटली, फ्रांस, जर्मनी, हंगरी, स्विट्जरलैंड और ब्रिटेन में भी ड्राइवरलैस मेट्रो चलती है. इन देशों में एक से ज़्यादा शहरों में भी ऐसी मेट्रो चलाई जाती है. इनके अलावा अमेरिका और कनाडा में भी ड्राइवरलेस ट्रेन चलती है. वहीं, ब्राजील, पेरू और चाइल में भी इस तरह की मेट्रो काफ़ी पहले आ चुकी है. भारत के पड़ोसी देश चीन में भी ड्राइवरलेस मेट्रो चलती है. अगर आप सऊदी अरब, क़तर और सिंगापुर जाएं तो वहां भी आप बिना ड्राइवर की मेट्रो का मज़ा उठा सकते हैं. क्या है मेट्रो में ख़ास?ड्राइवरलेस मेट्रो जैसा कि नाम से ही पता चला है कि इसे चलाने के लिए ड्राइवर की ज़रूरत नहीं पड़ती है. साथ ही यह मेट्रो किसी रुकावट को पहचानने और आपातकालीन परिस्थितियों में स्वचालित तरीके से काम करती है. इसमें भले ही ड्राइवर न हो लेकिन इसकी हर गतिविधि पर नज़र रखी जाती है. कौन सी ट्रेन कहां है, किस गति से चल रही है और किसे कहां रुकना है ये सब कुछ स्वचालित होता है. भारत की ड्राइवरलेस मेट्रो के बारे में कहा जा रहा है कि इसमें ज़्यादा यात्री सफ़र कर सकेंगे और इसमें ऊर्जा की भी कम खपत होगी. जिन स्टेशनों से होकर ये ट्रेन गुजरेगी उन प्लेटफॉर्म पर स्क्रीन डोर लगे होंगे. ये स्क्रीन डोर सुरक्षा के लिए लगाए गए हैं ताकि प्लेटफॉर्म पर मौजूद यात्री ट्रैक पर न जा सकें. ये दरवाजे तभी खुलेंगे जब मेट्रो प्लेटफॉर्म पर आकर रुकेगी. साथ ही इस बार मेट्रों में कुर्सियों का रंग भी बदलकर संतरी और लाल रखा गया है. हाल ही में कालिंदी कुंज डिपो में एक ड्राइवरलैस मेट्रो के साथ दुर्घटना भी हो गई थी. मेट्रो यार्ड की दीवार तोड़कर बाहर निकल गई थी. पहले इसे ट्रायल रन के दौरान हुआ हादसा बताया गया लेकिन दिल्ली मेट्रो ने इसे मेंटनेंस के बाद हुई दुर्घटना कहा था. इसमें इंसानी ग़लती होने की आशंका जताई थी. हालांकि, इस हादसे में किसी को चोट नहीं पहुंची थी. (बीबीसी हिन्दी के एंड्रॉएड ऐप के लिए आप यहां क्लिक कर सकते हैं. आप हमें फ़ेसबुक और ट्विटर पर फ़ॉलो भी कर सकते हैं.)', 'category': 'india'}\n",
            "1 {'text': 'नेटिजन यानि इंटरनेट पर सक्रिय नागरिक अब ट्विटर पर सरकार द्वारा लगाए प्रतिबंधों के समर्थन या विरोध में अपने विचार व्यक्त करते हैं और वेबसाइट संबंधी सूचना भी जारी करते हैं.कुछ दिन पहले ही शियाओं के खिलाफ़ हिंसा पर नज़र रखनेवाली एक प्रतिबंधित वेबसाइट शियाकिलिंग.कॉम को ट्विटर पर चलाए अभियान और सड़कों पर हुए प्रदर्शन के बाद बहाल कर दिया गया था.उससे कुछ दिन पहले जब अहमदिया संप्रदाय की आधिकारिक वेबसाइट अलइस्लाम.ओआरजी को ब्लॉक कर दिया गया था तो ट्विटर पर अहमदिया शब्द काफी प्रचलित हो गया था.पाकिस्तान के संविधान में अहमदिया संप्रदाय के लोगों को मुसलमान नहीं माना जाता है.अतीत में भी शिया, अहमदिया, बलोच और सिंधी जैसे सांप्रदायिक समूहों की वेबसाइटें प्राय: प्रतिबंधित की जाती रही हैं.पाकिस्तान के दूरसंचार प्राधिकरण के प्रमुख का कहना है कि हाल ही में क़रीब 15,756 वेबसाइटों को ब्लॉक कर दिया गया है जिनमें ईशनिंदा और अश्लील सामग्री वाली वेबसाइटें शामिल हैं.पाकिस्तान में ट्विटर, फेसबुक और यू-ट्यूब को भी कुछ समय के लिए ब्लॉक किया गया था.इस साल की शुरुआत में पाकिस्तान सरकार को वेबसाइटों पर नज़र रखने के लिए एक तंत्र विकसित करने के प्रस्ताव को लेकर आलोचना का सामना भी करना पड़ा था.', 'category': 'pakistan'}\n",
            "2 {'text': 'इसमें एक फ़्लाइट एटेनडेंट की मदद की गुहार है और साथ में डिक चेनी के उस निर्देश का ज़िक्र है जिसमें उन्होंने विमानों को मार गिराने की बात की थी.एक अपहरणकर्ता मोहम्मद अता की धमकियाँ भी सुनी जा सकती हैं. ये ऑडियो 9/11 आयोग के लिए तैयार किया गया था. ज़्यादातर बातें लिखित रूप में प्रकाशित की जा चुकी हैं.रिकॉर्डिंग में अमेरिकन एयरलाइन्स के फ़्लाइट नंबर 11 की फ़्लाइट एटेनडेंट बेटी का फ़ोन कॉल भी है.वे बोल रही हैं,\"बिज़नस श्रेणी में किसी को स्टैब किया गया है. पता नहीं, लगता है कि हमारा अपहरण किया जा रहा है.\"अपहरणकर्ता मोहम्मद अता को बोलते हुए सना जा सकता है, \"कोई हिलेगा नहीं, ऐसे में सब ठीक रहेगा. अगर किसी ने कुछ करने की कोशिश की तो आपको नुकसान हो सकता है और विमान को भी. चुपचाप बैठे रहें.\"ज़्यादातर रिकॉर्डिंग फ़ेडरल एविएशन एडमिनिस्ट्रेशन की है. जब विमान वर्ल्ड ट्रेड सेंटर से टकरा चुका था तो उसके बाद ऑडियो में सुना जा सकता है कि कन्ट्रोलर एक और विमान की बात कर रहे हैं जो मैनहेटन जा रहा है.ऑडियो में एक आवाज़ है जो बोल रही है,\"एक और विमान अभी-अभी वर्ल्ड ट्रेड सेंटर से टकराया है.\" फिर कोई कहता है,\" पूरी इमारत बिखर गई है.\"अफ़रा-तफ़री के आलम में जब कुछ फ़ाइटर जेट पूर्व की ओर उड़ान भरते हैं तो एक सैन्य कमांडर उन्हें जल्द से जल्द वाशिंगटन आने का आदेश देते हुए सुने जा सकते हैं.आख़िरी विमान यूनाइटेड 93 के पेनसल्वेनिया में गिरने से पहले मेजर केविन ये कहते हुए सुने जा सकते हैं, \"मुझे इस बात की परवाह नहीं कि आप कितनी खिड़कियाँ तोड़ देते हैं.\"', 'category': 'news'}\n",
            "3 {'text': 'प्रतीक खुलेपन का, आज़ाद ख्याली का और भीड़ से अलग हो जाने का.सवा सौ साल के इतिहास वाले इस मोटरसाइकिल ब्रांड ने दोनों विश्व युद्ध का \\n\\n\\n\\n\\n\\nघमासान भी देखा है और सैकड़ों उतार चढ़ाव भी.साल 1970 में रॉयल एन्फील्ड ने ब्रिटेन समेत दुनियाभर में अपना उत्पादन रोक दिया, लेकिन भारत में इसका उत्पादन जारी रहा.भारत में पुलिस फोर्स से लेकर सेना तक ने अपनी कठिन जीवनशैली में शामिल करने के लिए लोहे से बनी बुलेट को कारगर पाया.पीढ़ियों से रॉयल एन्फील्ड मोटरसाइकिलों के शौकीन अनुज वशिष्ठ कहते हैं, “मै जब छोटा था तो पिताजी की बुलेट को बर्डी कहता था, आज मेरा बेटा जब बड़ा हो रहा है तो वो उस बुलेट को ग्रैनी कहता है. बुलेट कई वर्षों से हमारे परिवार का हिस्सा है.”लेकिन कुछ दशक पहले तक बाइक प्रेमियों के बीच बुलेट का जितना नाम था उतना ही ये बदनाम भी था. पुरानी तकनीक से बनी इस बेहद वजनी गाड़ी की आलोचना भी खूब हुई.लेकिन बुलेट के दीवाने बुलेट के दीवाने ही रहे.वक्त के साथ कंपनी ने बुलेट में कई तकनीकी बदलाव भी किए, लेकिन आवाज़ और ताकत से छेड़छाड़ कम ही हुई.भारत सहित दुनिया के अन्य देशों में आज भी भारत में बनी बुलेट निर्यात की जाती है.प्रोफ़ेशनल बाइकर सपन अपनी बुलेट ‘क्लासिक’ मोटरसाइकिल को अपना एक हिस्सा मानते है.वो कहते है, “ये मेरे लिए सिर्फ एक बाइक न होकर मेरी लाइफ़स्टाइल भी है. इस पर सवार होकर लगता है कि मुझ में ही पहिए लग गए हो. मेरे हिस्से जैसा है ये.”इस हैन्डक्राफ़्टेड बाइक की खुद भारत में इतनी मांग है कि ग्राहकों को इसके लिए कई दिनों का इंतज़ार करना पड़ता है.भारतीय और अंतरराष्ट्रीय बाज़ारों में कई सस्ते और उन्नत तकनीक के विकल्प मौजूद होने के बाद भी रॉयल एन्फील्ड मोहल्ले के दूधवाले से लेकर प्रोफ़ेशनस बाइक राइडर्स की पसंद बनी हुई है.भारतीय सड़कों पर बुलेट वर्षों से शान और रुतबे का परिचायक बनकर दौड़ता रहा.लेकिन खास बात ये है कि जिस कंपनी का नामोनिशान खुद उसके देश से सालों पहले उजड़ गया वो भारत में आज भी कायम है.', 'category': 'india'}\n",
            "4 {'text': \"ख़ासकर पिछले 10 साल तक प्रधानमंत्री रहे मनमोहन सिंह को सुनने के बाद तो यह भाषण शानदार लगता है.लेकिन पिछले कई प्रधानमंत्रियों के इतर मोदी के भाषण में कई तरह के छुपे हुए संकेत भी हैं.अंकुश रखने की इच्छा, एकाधिकार की चाह के संकेत जो मोदी की कार्यशैली में अभी से दिखने लगे हैं.अपनी इस ख़ासियत से मोदी पूर्व प्रधानमंत्री इंदिरा गांधी के नज़दीक पहुंच जाते हैं.प्रधानमंत्री नरेंद्र मोदी ने ऐतिहासिक लालकिले से अपने पहले भाषण में वही साबित किया जो करने की उन्हें कोई ज़रूरत नहीं थी.देश ने चुनाव प्रचार के दौरान बार-बार देखा सुना था कि वह कितने अच्छे वक्ता हैं और बार-बार अनुप्रास अलंकार का इस्तेमाल करते हैं.एक ही बात दस तरह से कहते हैं और कहते रहते हैं जब तक वह दिल-दिमाग में बैठ न जाए.मोदी के व्यक्तित्व के इस पहलू पर शायद ही कोई सवाल उठाए, इसके बावजूद उन्होंने भाषण कला फिर प्रदर्शित की. जमकर मुहावरेदारी की, नारे दिए और जुमले उछाले.लोग उन्हें अरसे तक दोहराते रहेंगे. ऐसा एक लंबे वक्त के बाद हुआ है.एक दशक तक संयुक्त प्रगतिशील गठबंधन के मनमोहन सिंह के बेजान, थकाऊ और उबाऊ भाषणों के बरअक्स मोदी ताज़ा हवा का झोंका थे- सुखद और कानों को अच्छा लगने वाला.यह अब तक देश के सबसे अच्छे और प्रखर वक्ता अटल बिहारी वाजपेयी के भाषणों से भिन्न था.वाजपेयी के भाषण में लय, ज्ञेयता और कविताई थी, जो मोदी के भाषण में ग़ायब थी.वाजपेयी दिल को छू लेते थे तो मोदी दिल के साथ जेब भी छूते हैं. व्यापार का महत्व वह अच्छी तरह समझते हैं ख़ासकर नए वैश्विक परिवेश में.यह वाजपेयी से एक कदम आगे है या पीछे, बाद में तय होगा.सुना है पहले प्रधानमंत्री जवाहरलाल नेहरू दिल से बोलते थे, लाल बहादुर शास्त्री भी. इंदिरा गांधी दिल से ज़्य़ादा दिमाग़ का इस्तेमाल करती थीं.राजीव गांधी सपाट वक्ता थे जबकि नरसिम्हा राव में विद्वता थी. मोरारजी देसाई में अपने किस्म की अकड़ नज़र आती थी.वीपी सिंह कभी अकड़े, कभी डरे हुए लगते थे कि पता नहीं कब तक चलेंगे. मनमोहन सिंह तो लगता था कि ख़ुद से बात कर रहे हैं. लुटपुटाती ज़ुबान में ख़ुद बोला ख़ुद सुन लिया.उनकी बोली और ख़ामोशी में ज़्यादा फ़र्क नहीं था. मोदी की शक्ल में पहली बार संवाद करने वाला प्रधानमंत्री देश को मिला है, आंखों में आंखें डालकर बोलता.इस ज़िद के साथ कि वह समझाता ही रहेगा, दोहरा-तिहरा कर बोलेगा कि कैसे और कब तक नहीं समझोगे.मोदी के भाषण में जो विषय उठाए गए, छूटे या छोड़ दिए गए उन्हें हटा दें तो सिर्फ़ अदा और अदायगी के लिए उन्हें 10 में से 10 नंबर दिए जा सकते हैं.अगर कटा तो आधा नंबर सिर्फ़ इसलिए कटेगा कि वह आधा वाक्य संस्कृत में बोले और उसमें भी उच्चारण दोष था.अगर प्रधानमंत्री के भाषण के संकेतों को देखा जाए तो एक संकेत बहुत साफ़ था और उसकी झलक दो बार अलग-अलग संदर्भों में देखने को मिली.पहली जब मोदी ने 'लड़कियों से कहां जाओगी, कब आओगी' जैसे सवालों का ज़िक्र किया और कहा कि यही सवाल लड़कों से क्यों नहीं पूछे जाते.उन पर मां-बाप अंकुश रखें तो बलात्कार और आतंकवादी हिंसा जैसी घटनाएं न हों. वह सब पर अंकुश चाहते हैं.दूसरी झलक में वह ख़ुद को दिल्ली में बाहरी बताते हैं. कहते हैं कि अंदर से देखा तो पाया कि यहां एक सरकार के अंदर कई सरकारें चलती हैं.अदालतों में मुक़दमे होते हैं जो देश के लिए क़तई ठीक नहीं हैं. इससे मोदी की एकाधिकारवादी मनोवृत्ति दिखाई देती है.यह छवि अख़बारों और सोशल मीडिया में प्रसारित उस छवि का विस्तार लगती है जिसमें अपने सांसदों से बात करते हुए मोदी डेढ़ फुट ऊंचे मंच पर बैठते हैं.बाक़ी सब नीचे रखी कुर्सियों पर. लोकतंत्र का मान्य सिद्धांत प्रधानमंत्री को कोई ऊंचा आसन नहीं देता बल्कि उन्हें 'फर्स्ट अमंग इक्वल' मानता है.इस सिद्धांत के टूटने की पहली घटना इंदिरा गांधी के काल में हुई थी, जिन्हें 'ओनली मैन इन हर कैबिनेट', कहा जाने लगा था. लेकिन इस बार जो हो रहा है, उसे क्या कहेंगे?(बीबीसी हिन्दी के एंड्रॉएड ऐप के लिए \\n\\n\\n\\nयहां क्लिक करें. आप हमें \\n\\n\\n\\nफ़ेसबुक और \\n\\n\\n\\nट्विटर पर भी फ़ॉलो कर सकते हैं.)\", 'category': 'india'}\n",
            "5 {'text': 'चीनी भाषा में ‘नी-हाव’ (क्या हाल हैं?) कहकर वो अपने अध्यापक का स्वागत करते हैं. ऐसे कई इंस्टीट्यूट नेपाल के कई हिस्सों में चल रहे हैं.यही नहीं चीन की सरकार ने नेपाल के लोगों को मुफ़्त में चीनी भाषा सिखाने के लिए बाक़ायदा अध्यापकों को चीन से काठमांडू भेजा है.काठमांडू विश्वविद्यालय के कनफ़्यूशियस इंस्टीट्यूट और अंतरराष्ट्रीय भाषा संस्थान में चीनी भाषा और संस्कृति के बारे में सिखाने की व्यवस्था की गई है.दशकों तक भारत के आर्थिक, राजनीतिक और सांस्कृतिक प्रभामंडल में रहने के बाद अब नेपाल बाँहे फैलाकर हिमालय पार के अपने पड़ोसी देश चीन का स्वागत करने को तैयार है.और आने वाले वर्षों में नेपाल में अपनी भूमिका बढ़ने की संभावना को पहचानते हुए चीन ने भी हर क्षेत्र में सक्रियता बढ़ा दी है.सरकारी आँकड़ों को देखें तो पता चलता है कि चीन अब बड़ी परियोजनाओं में निवेश बढ़ाने की गंभीर कोशिश कर रहा है.नेपाल के उद्योग विभाग के महानिदेशक ध्रुब राजबंशी ने बीबीसी से कहा, \"अभी तक भारत से चीन में काफ़ी निवेश होता रहा है पर अब परियोजनाओं की संख्या के हिसाब से चीन दूसरे नंबर पर आ गया है. भविष्य में चीन हाइड्रो पावर में भी निवेश करना चाहता है. अगर ऐसा हुआ तो नेपाल में उसका निवेश काफी हो जाएगा.\"आम तौर पर चीन ने नेपाल में रेस्त्राँ आदि में निवेश किया है. पर पहली बार अब वो हाइड्रो पावर क्षेत्र में आने की कोशिश कर रहा है. वो पश्चिम सेती में 1.6 अरब डॉलर यानी 86 अरब 40 लाख रुपए की लागत से 750 मेगावॉट की विद्युत परियोजना में निवेश करने को तैयार है.इसके अलावा अपर तामाकोशी में 650 मेगावॉट की हाइड्रो पावर परियोजना के निर्माण का ठेका चीन की एक कंपनी को मिला है, हालाँकि इसमें पैसा नेपाल सरकार और नेपाली उद्योगपतियों का लगा है.सरकारी आँकड़ों के मुताबिक नेपाल में भारत 525 परियोजनाओं में शामिल है और कुल प्रस्तावित सीधे विदेशी निवेश में उसकी 46 प्रतिशत हिस्सेदारी है. जबकि चीन 478 परियोजनाओं में शामिल है. पर प्रस्तावित सीधे विदेशी निवेश में उसका हिस्सा सिर्फ़ दस प्रतिशत है.इस साल निवेश के आँकड़े कहीं ज़्यादा दिलचस्प हैं. नेपाली साल जुलाई में खत्म होगा पर अब तक भारत के निवेश जहाँ 45.5 करोड़ रुपए का है, वहीं चीन का निवेश 61.30 करोड़ तक पहुँच गया है.नेपाल और चीन के तिब्बत स्वायत्तशासी क्षेत्र के बीच 1400 किलोमीटर लंबी सीमा है. सदियों तक इस कठिन हिमालयी क्षेत्र के दोनों ओर रहने वाले लोगों के बीच मामूली संपर्क रहा था.पर अब यहाँ चीन और नेपाल मिलकर कई नए रास्ते बना रहे हैं ताकि व्यापार और आने जाने में आसानी हो सके. जैसे तिब्बत में ग्यिरोंग और नेपाल में स्यापरू बेसी के बीच की कच्ची पगडंडी को चीन दो करोड़ डॉलर की लागत से पक्की सड़क में बदल रहा है.ल्हासा से तिब्बत के दूसरे बड़े शहर शिगात्से तक की रेल पटरी को काठमांडू तक बढ़ाने की योजना भी है. कुल मिलाकर हिमालय की दीवार को भेदकर चीन अपनी व्यापारिक पैठ दक्षिण एशिया तक बनाना चाहता है.नेपाल के वरिष्ठ पत्रकार-विश्लेषक और हिमाल साउथएशिया पत्रिका के संपादक कनक मणि दीक्षित मानते हैं कि नेपाल और चीन के बीच में हिमालय की रुकावट अब नहीं रह गई है.उन्होने बीबीसी हिंदी से एक बातचीत में कहा, \"पहले नेहरू और चाउ एन लाई के बीच अघोषित समझौता था कि नेपाल हिमालय के दक्षिण में है इसलिए भारत के प्रभावक्षेत्र में रहेगा. पर अब अर्थव्यवस्था बदली है और नेपाल में राजनीतिक अस्थिरता की वजह से चीन की दिलचस्पी बढ़ गई है. भारत भी अब इसे सिर्फ़ अपने प्रभावक्षेत्र वाले देश के तौर पर नहीं देखता बल्कि इस बात के प्रति सतर्क है कि चीन यहाँ कितना सक्रिय होगा.\"दीक्षित मानते हैं कि बीजिंग ओलंपिक्स के दौरान नेपाल में तिब्बतियों के प्रदर्शनों के कारण चीन ने इस हिमालयी देश पर ध्यान देना शुरू किया है.इसके अलावा चीन ने नेपाल के राजनीतिक नेतृत्व से भी संपर्क प्रगाढ़ करने शुरु कर दिए हैं. दो हफ़्ते पहले नेपाल की एकीकृत माओवादी पार्टी के चेयरमैन पुष्प कमल दहाल (प्रचंड) चीन गए थे और उसके बाद उनके भारत आने की संभावना भी है.कनक मणि दीक्षित के मुताबिक राजशाही के दौर में विदेशी ताकतें सिर्फ़ राजमहल से संपर्क रखती थीं पर अब राजनीतिक अस्थिरता को देखते हुए कोई यह नहीं कह सकता कि आने वाले दिनों में नेपाल में कौन सी राजनीतिक ताकत मज़बूत होगी. इसलिए चीन ने राजनीतिक स्तर पर भी सभी पार्टियों से संपर्क बढ़ाना शुरू कर दिया है.विश्लेषक मानते हैं कि चीन की नेपाल में बढ़ती दिलचस्पी थोड़े वक़्त के लिए नहीं है बल्कि वो अगले 25-30 साल की योजना के तहत ये काम कर रहा है.चीन ने नेपाल के साथ सांस्कृतिक आदान प्रदान शुरू किया है और चीन में छात्रवृत्ति पाने वाले छात्रों की संख्या भी बढ़ रही है.नेपाल के वरिष्ठ पत्रकार और विश्लेषक \\n\\n\\n\\n\\n\\nयुबराज घिमिरे का कहना है कि चीन ख़ुद को दुनिया के साथ बड़े शिक्षा केंद्रों में शामिल करने की कोशिश कर रहा है.उन्होने कहा, \"एक दिन ऐसा भी आ सकता है जब नेपाल के भावी नेता पहले की तरह इलाहाबाद और वाराणसी में शिक्षित होने की बजाए बीजिंग और शंघाई से पढ़कर आएँ.\"हालाँकि नेपाल की राजनीति में भारत का गहरा प्रभाव रहा है लेकिन वहाँ भारतीय मंसूबों को लेकर आम लोगों में गहरी आशंका भी पैठ गई है. कुछ साल पहले लोग ऋतिक रोशन की फ़िल्म का विरोध करने के लिए सड़कों पर उतर आए क्योंकि किसी ने अफ़वाह उड़ा दी थी कि उसमें नेपाल विरोधी बातें कही गई हैं.काठमांडू में आम लोगों से बात करके अंदाज़ा लगाया जा सकता है कि वो चीन को अपना दोस्त राष्ट्र मानते हैं और भारत के साथ साथ बीजिंग से भी बराबरी के संबंध बनाकर रखना चाहते हैं.काठमांडू के एक बाज़ार की ऊपरी मंज़िल में चल रहे स्कूल में चीनी भाषा सीखने आए राजू श्रेष्ठा चीन और वहाँ की भाषा में अपनी दिलचस्पी को इन शब्दों में बयान करते हैं, \"चीन की जनसंख्या डेढ़ अरब है और अगर इसका एक प्रतिशत टूरिस्ट भी नेपाल आते हैं तो हमें रोज़गार की कोई कमी नहीं रहेगी.\"नेपाल के नौजवान अपने देश में चीन की बढ़ती दिलचस्पी को एक अवसर के तौर पर देखते हैं.', 'category': 'india'}\n",
            "6 {'text': 'मुंबई पुलिस की क्राईम ब्रांच को इस जांच का जिम्मा सौंपा गया है.इस हादसे में तीन लोगों की मौत हुई है जबकि 10 घायल हुए हैं. मृतकों में दो के नाम महेश गोगले और उमेश कोटेकर बताए गए हैं.दक्षिण मुंबई में महाराष्ट्र सरकार के सचिवालय मंत्रालय भवन में गुरुवार को दोपहर बाद भीषण आग लग गई जो कई घंटों बाद भी बुझाई नहीं जा सकी थी.इससे सात मंज़िली इमारत की तीन मंज़िलें बुरी तरह प्रभावित हुई और मुख्यमंत्री के कार्यालय सहित कई कार्यालयों को नुक़सान पहुँचा है.आग लगने के बाद बहुत से लोग इमारत के विभिन्न हिस्सों में फँसे रहे. टेलीविज़न पर दिखाई जा रही तस्वीरों में लोग खिड़कियों से बाहर बाल्कनियों में और एसी के लिए लगे स्टैंड तक में खड़े दिखे.\\n\\n\\n\\nतस्वीरों में: मंत्रालय भवन की आगलोगों को बचाने के लिए अग्निशमन विभाग के क्रेनों और हेलिकॉप्टर तक की मदद लेनी पड़ी.कम से कम 11 लोग घायल हुए हैं. इनमे से कुछ की हालत गंभीर है.इमारत और कार्यालयों में हुई क्षति का अनुमान अभी नहीं लगाया जा सका है और न ये पता चला है कि आग कैसे और क्यों लगी.सरकार ने इसकी जाँच के आदेश दिए हैं. इस भवन में आम दिनों में छह हज़ार से भी अधिक कर्मचारी काम करते हैं और यहाँ बड़ी संख्या में बाहरी लोग आते हैं.भवन की चौथी मंज़िल में दोपहर पौने तीन बजे आदिवासी कल्याण विभाग के मंत्री बबनराव पचपुते के कार्यालय से आग शुरु हुई और देखते ही देखते ऊपर के तीनों मंजिलों में फैल गई.आग की वजह से भवन के भीतर फँसे लोगों को निकालने के लिए मुंबई पुलिस की फ़ोर्स वन और क्विक रेस्पॉन्स टीमों को बुलवाया गया था.अग्निशमन विभाग के कर्मचारी भी बड़ी संख्या में राहत और बचाव कार्य में लगे रहे.राहत और पुनर्वास विभाग के सचिव प्रवीण परदेशी के अनुसार इमारत की पाँचवीं और छठवीं मंज़िल में फँसे 65 लोगों को अग्निशमन विभाग के कर्मचारियों ने बाहर निकाला.उनका कहना है कि आग लगने के बाद तीन हज़ार से अधिक कर्मचारियों और इतने ही बाहरी लोगों को सुरक्षित बाहर निकाला गया.समाचार एजेंसी पीटीआई के अनुसार भारतीय नौसेना के दो हेलिकॉप्टरों को भी मदद के लिए बुलाया गया था लेकिन छत पर किसी के न होने की वजह से उनकी आवश्यकता नहीं पड़ी.इस भवन की चौथी मंज़िल पर शहरी विकास मंत्रालय का कार्यालय है. आग लगने के बाद से मीडिया में ये कयास लगाए जाते रहे कि आदर्श घोटाले से जुड़े दस्तावेज़ों सहित कई दस्तावेज शायद नष्ट हो गए हैं. हालांकि अभी अधिकृत रूप से अभी कुछ नहीं कहा गया है.मुख्यमंत्री पृथ्वीराज चौहान और उपमुख्यमंत्री अजित पवार के कार्यालयों को बहुत नुक़सान पहुँचा है.', 'category': 'india'}\n",
            "7 {'text': 'ये वीडियो 30 मिनट का है और इसमें नकाब पहने आईएसआईएस के बदूंकधारी चरमपंथियों को युवाओं के एक समूह को नदी में धकेलते हुए दिखाया गया है.ईद के दिन जारी किए गए वीडियो में देखा जा सकता है कि हर युवा को पिस्तौल से गोली मार कर धक्का या ठोकर मार कर पानी में गिराया जा रहा है.अभी ये साफ़ नहीं हो पाया है कि ये युवा सैनिक है या नहीं लेकिन उनके शिया होने की जानकारी दी गई है.इस वीडियो में इराकी सैनिकों को चेतावनी देते हुए कहा गया है कि अगर वे लड़ाई लड़ेगें तो उनका भी यही हश्र होगा.(बीबीसी हिन्दी के एंड्रॉएड ऐप के लिए आप यहां \\n\\n\\n\\nक्लिक कर सकते हैं. आप हमें \\n\\n\\n\\nफ़ेसबुक और \\n\\n\\n\\nट्विटर पर फ़ॉलो भी कर सकते हैं.)', 'category': 'international'}\n",
            "8 {'text': \"हर दौर में वोट के बाद मतदाताओं का सर्वेक्षण करने वाले तमाम 'एग्ज़िट पोल' बता रहे हैं कि कांग्रेस पार्टी के सत्ताधारी संयुक्त प्रगतिशील गठबंधन की करारी हार होने जा रही है. अधिकांश का कहना है कांग्रेस स्वयं सौ सीटें भी नहीं जीत पाएगी.भारतीय जनता पार्टी की ओर से प्रधानमंत्री पद के उम्मीदवार नरेंद्र मोदी कांग्रेस के बारे में ये दावा पहले से करते रहे हैं. एग्ज़िट पोल उनके इस दावे पर भी मुहर लगा रहे हैं कि भाजपा अपने जीवन की सर्वाधिक सीटें जीतकर सत्तारूढ़ होगी.अगर वाक़ई ऐसा होता है तो आज़ाद भारत के इतिहास में कांग्रेस की ये सबसे बुरी हार होगी. बासठ साल में पहली बार होगा कि लोकसभा में कांग्रेस की सीटों की संख्या तीन अंकों तक नहीं पहुंच पाएगी.सत्ता में रहते हुए कांग्रेस तीन बार चुनाव हारी है — 1977, 1989 और 1996 में. पहली दो बार वो अगले ही चुनाव में जीतकर सत्ता में वापस आ गई थी. लेकिन 1996 के बाद 1998 और 1999 के अगले आम चुनाव में भी कांग्रेस की हार हुई थी.इन तीनों चुनाव में कांग्रेस लोकसभा में सबसे बड़ी पार्टी भी नहीं बन पाई थी. ऐसा पहले सिर्फ़ 1977 में हुआ था. 1989 में बहुमत खोकर विपक्ष में आ जाने के बावजूद कांग्रेस लोकसभा में सबसे बड़ी पार्टी रही थी.वर्ष 1996, 1998 और 1999 के चुनाव में सबसे ज़्यादा सीटें भाजपा को मिली थीं जिसके चलते उसने पहली बार केंद्र में सरकार बनाई थी. हालांकि बहुमत न जुटा पाने की वजह से 1996 की भाजपा की पहली सरकार तेरह दिन में गिर गई थी.वर्ष 1998 में जीत के बाद भाजपा की अगुवाई में राष्ट्रीय जनतांत्रिक गठबंधन की सरकार तेरह महीने चली थी. 1999 वाली एनडीए सरकार पांच साल पूरे कर लेती. लेकिन जब भाजपा को दिसंबर 2003 में मध्य प्रदेश, राजस्थान और छत्तीसगढ़ विधानसभा चुनाव में ज़बरदस्त जीत मिली तो एनडीए ने आमचुनाव में जीत की अपेक्षा में समय से छह महीने पहले ही आम चुनाव करवा दिए.एनडीए की इसी सरकार की जब 2004 में अप्रत्याशित हार हुई तो उसकी जगह कांग्रेस की अगुवाई में यूपीए सरकार ने ले ली थी. अपेक्षा के प्रतिकूल यूपीए ने 2009 का चुनाव भी जीता जिसके चलते अब उसको सत्ता में दस साल हो गए है.माना जा रहा है कि भ्रष्टाचार, घोटालों और ढलती अर्थव्यवस्था के चलते कांग्रेस की लगातार तीसरी जीत के कोई आसार नहीं हैं. यदि सचमुच कांग्रेस हारती है तो उसका भविष्य क्या होगा? क्या जैसा कि मोदी कह रहे हैं कांग्रेस का विघटन हो जाएगा और उस पर पार्टी अध्यक्ष सोनिया गांधी और पार्टी उपाध्यक्ष व उनके पुत्र राहुल गांधी का वर्चस्व समाप्त हो जाएगा?यदि कांग्रेस हारती है तो ऐतिहासिक और तात्कालिक, दोनों ही दृष्टिकोण से कांग्रेस के सर्वनाश की संभावना कम ही दिखती है. इस अटकल में भी दम नहीं दिखता है कि पार्टी पर गांधी परिवार की प्रभुसत्ता ख़त्म हो जाएगी.ऐसा नहीं है कि कांग्रेस-जन गांधी परिवार के प्रति विशेष प्रेम रखते हैं. सोनिया-राहुल की शीर्षस्थता इसलिए अनिवार्य हो गई है क्योंकि पार्टी में ऐसा कोई नेता है ही नहीं जो उन्हें अपदस्थ करके उसकी कमान अपने हाथ ले सके.इतिहास गवाह है कि जब भी किसी क़द्दावर कांग्रेसी नेता ने गांधी परिवार या हाईकमान का विरोध करके अपनी पार्टी बनाई है तो या तो उसका राजनीतिक जीवन समाप्त हो गया है या उसे उलटे मुँह लौट के कांग्रेस आना पड़ा है.महाराष्ट्र के शरद पवार ज़रूर एक अपवाद हैं. लेकिन 1999 में कांग्रेस छोड़कर राष्ट्रवादी कांग्रेस पार्टी बनाने के बाद उनका भी क़द दोबारा कभी उतना ऊँचा नहीं हो पाया जितना तब था जब वह कांग्रेस में चोटी के नेता थे. और कांग्रेस से अलग होने के फ़ौरन बाद ही पवार को मजबूरन यूपीए से जुड़ना पड़ा था और वह आज भी उसी लाठी के सहारे दिल्ली में घूम रहे हैं.कांग्रेस छोड़कर भी सफल राजनीति करने वाले रहे हैं लेकिन कम. ये अधिकतर वे हैं जो भाजपा या स्थापित क्षेत्रीय पार्टियों में शामिल हो गए थे. लेकिन इनमें भी कोई ऐसा नहीं है जो अगर आज कांग्रेस में होता तो गांधी परिवार को चुनौती दे पाता.ऐसे कांग्रेसी भगोड़ों की संख्या अधिक नहीं है जिनको भाजपा में या दूसरे बड़े दलों में आसानी से जगह मिली हो. वजह ये है कि इन दलों में पहले ही कई महत्वाकांक्षी नेता हैं जो ज़ाहिर तौर पर दलबदलुओं को अपनी पार्टी में बमुश्किल घुसने देते हैं.कांग्रेस के असामयिक निधन की आशंका भी अतिरंजित है. हार के बावजूद उसकी राजनीतिक पैठ इसलिए बनी रहेगी क्योंकि भारतीय राजनीति के द्विकोणीय ध्रुवीकरण के एक कोण का प्रतिनिधित्व करने वाली वो अकेली राष्ट्र-व्यापी पार्टी है.भारतीय लोकतंत्र को ब्रितानी संसदीय प्रणाली पर ज़रूर तराशा गया था, लेकिन 1951-52 के पहले आम चुनाव से लेकर 1989 के नौवें आम चुनाव तक भारत में ब्रिटेन सरीखी दो-दलीय व्यवस्था नहीं बन पाई थी.यूँ तो अलग-अलग पार्टियाँ गाहे-ब-गाहे ठीक-ठाक चुनावी प्रदर्शन दिखा देती थीं. लेकिन कोई एक विशेष पार्टी कांग्रेस के स्थाई विकल्प के रूप में नहीं उभर पाई थी. 1977 में जीतने वाली जनता पार्टी भी ढाई साल के भीतर टूट कर बिखर गई थी.1991 के आम चुनाव में 120 सीटें जीत कर भाजपा ने ऐसी दो-दलीय व्यवस्था क़ायम कर दी. 1991 को मिलाकर तबसे हुए छह चुनाव में भाजपा और कांग्रेस तीन-तीन बार क्रमश: पहले और दूसरे स्थान पर रही हैं. यानी एक दूसरे के आगे-पीछे.1991 में ही भारतीय राजनीति में एक और युगीय परिवर्तन आया था जब पहली बार एक वैकल्पिक विचारधारा का उदय हुआ था. दरअसल आज़ादी के बाद से लगभग हर राजनीतिक दल की प्रतिबद्धता मोटे तौर पर समाजवाद के प्रति ही रही थी. इसके अंतर्गत खाँटी पूँजीवाद को नकारकर राज्यसत्ता के लिए कल्याणकारी भूमिका और उत्तरदायित्व निश्चित कर दिए गए थे.इसकी दो वजहें थीं. एक, महात्मा गांधी के विचार और दर्शन ने पहले से ही स्वतंत्र भारत के लिए दरिद्रता निवारण की प्राथमिकता तय कर दी थी. ग़रीब-बेसहारा के नाम पर हासिल आज़ादी मुक्त बाज़ार की व्यवस्था प्रधान नहीं हो सकती थी.और दूसरी वजह ये कि अमेरिका के पाकिस्तान की ओर झुकाव के चलते भारत साम्यवादी सोवियत संघ का क़रीबी बन गया था जिस कारण राजनीतिक विचार पर समाजवादी और कल्याणकारी सोच और भी क़ाबिज़ हो गई थी.1980 के दशक में अमेरिका से भौगोलिक प्रतिस्पर्धा के चलते सोवियत संघ कमज़ोर होता गया और अंततः 1991 में उसका विघटन हो गया. इस क्रम ने एक झटके में अंतरराष्ट्रीय मंच पर भारत को अकेला कर दिया.इस घटना के चंद महीने पहले ही कांग्रेस भारत में दोबारा सत्ता में आई थी और उस वक़्त के प्रधानमंत्री पी वी नरसिंह राव ने जाने-माने अर्थशास्त्री मनमोहन सिंह को वित्त मंत्री नियुक्त किया था. मनमोहन सिंह ने आते ही ख़ाली ख़ज़ाने का हवाला देकर आनन-फ़ानन में दशकों से संरक्षित रही भारतीय अर्थव्यवस्था को अंतरराष्ट्रीय व्यापार के लिए खोलना शुरू कर दिया.पश्चिमी यूरोप और अमेरिका की तर्ज़ पर मुक्त बाज़ार की इस विचारधारा में निजी व्यापार को बढ़ावा मिला और कल्याणकारी नीतियों और ख़र्च में कटौती शुरू हुई. उस वक़्त लगा समाजवादी कल्याणकारिता के दौर का हमेशा के लिए अंत हो गया.लेकिन 1996 के चुनाव में कांग्रेस की तब तक की सबसे बुरी हार की वजह मुक्त बाज़ार की नई विचारधारा ही बताई गई. अगले दो चुनाव हारने के बाद कांग्रेस की नई नेता सोनिया गांधी राज्य सत्ता को कल्याणकारी उत्तरदायित्व तक लौटाने पर ज़ोर देने लगीं. जब 2004 में एनडीए की मुक्त-बाज़ारी सरकार भी अप्रत्याशित रूप से हारी तो सोनिया का ये विश्वास दृढ़ हो गया.2004 में प्रधानमंत्री बने मनमोहन सिंह खुले बाज़ार और समाजवाद की मिश्रित विचार धारा लेकर आगे बढ़ने लगे. ग़रीबों को रोज़गार का संवैधानिक हक़ देकर काम दिलाने पर सरकारी कोष से हज़ारों करोड़ों रुपयों का ख़र्च आने लगा. पाँच-वर्षीय कार्यकाल ख़त्म होते-होते यूपीए सरकार ने देश भर में किसानों पर हज़ारों करोड़ों का क़र्ज़ भी माफ़ कर दिया.जब यूपीए ने 2009 का आम चुनाव भी जीत लिया तो दोबारा प्रधानमंत्री बने मनमोहन सिंह वस्तुत: कल्याणकारी नेता बन गए. और अब दो साल पहले राहुल गांधी के उदय से कांग्रेस की सार्वजनिक दावेदारी और भी समाजवादी हो गई है.पिछले कुछ वर्षों से भारतीय राजनीति में मुक्त बाज़ार और समाजवाद की इस मिली-जुली विचार धारा का द्वंद्व चल रहा है और आगे भी जारी रहेगा. पूँजीवादी व्यवस्था के दबाव में सरकारें खुले बाज़ार के नियम हावी करती हैं तो चुनाव जीतने की विवशता सरकारों को समाजवादी नारे और नीतियों की ओर खींचती है.बाज़ार और समाजवाद का ये अंतर्विरोध भारतीय राजनीति में राष्ट्रीय स्तर पर दो-दलीय व्यवस्था को पुख़्ता करता है. फ़िलहाल राजनीतिक क्षितिज पर भाजपा और कांग्रेस के अलावा कोई तीसरी पार्टी नहीं है जो इस ज़िम्मेदारी का निर्वाह कर सके.भाजपा नेता मोदी यदि प्रधानमंत्री बनते हैं तो उन पर भी इन्हीं पारस्परिक विरोधी विचार धाराओं का दबाव रहेगा. जब यूपीए सरकार कल्याणकारी अधिक होने लगी तो मोदी पूँजीवाद और मुक्त बाजा़र की भाषा बोलने लगे.बतौर प्रधानमंत्री मोदी को भी आने वाले वक़्त में कल्याणकारी होना पड़ेगा क्योंकि, जैसा कि भाजपा ने पहले देखा, बाज़ारी नीतियाँ चुनाव हराती हैं जिताती नहीं. ऐसे में कांग्रेस फटाफट द्विकोणीय ध्रुवीकरण के दूसरे कोण पर जाकर बैठ जाएगी.जब तक समाजवाद और बाज़ार का द्वंद्व रहेगा भाजपा और कांग्रेस, दोनों कमोबेश एक-दूसरे के आगे पीछे रहेंगी.(बीबीसी हिन्दी के एंड्रॉएड ऐप के लिए \\n\\n\\n\\nयहां क्लिक करें. आप हमें \\n\\n\\n\\nफ़ेसबुक और \\n\\n\\n\\nट्विटर पर भी फ़ॉलो कर सकते हैं.)\", 'category': 'india'}\n",
            "9 {'text': \"बीबीसी ने जब भारत के \\n\\n\\n\\nमंगलयान अभियान को लेकर एक विशेष श्रृंखला की योजना बनाई तो \\n\\n\\n\\nप्रोफ़ेसर यशपाल का नाम उन लोगों में सबसे ऊपर था, जो पाठकों को भारत के अंतरिक्ष कार्यक्रम के सफ़र के बारे में बता सकें.अक्तूबर की एक दोपहर मैं प्रोफ़ेसर यशपाल से मिलने नोएडा में उनके घर गया. मैं काफ़ी हिचकिचा रहा था, वजह थी यह सवाल कि भारत के अंतरिक्ष कार्यक्रम से सीधे तौर पर जुड़ाव न रखने के बावजूद क्या उनका उससे संपर्क बना हुआ है.\\n\\n\\n\\nदेखें: भारत का अंतरिक्ष कार्यक्रम तस्वीरों मेंमैंने अपना परिचय देने के बाद उनसे अनौपचारिक बात शुरू की और बोलना शुरू कर दिया, लेकिन वह अंग्रेज़ी में बोल रहे थे और मुझे उनसे हिंदी में बात करनी थी.मैंने जैसे ही पहला सवाल हिंदी में किया उन्होंने कहा, ''अच्छा, हिंदी बोलनी है, बढ़िया है, मज़ा आएगा.''पत्रकारिता में अब तक कई ऐसे लोगों से पाला पड़ चुका है, जो मूल रूप से हिंदीभाषी होते हुए भी हिंदी में बात करने को तैयार नहीं होते. ऐसे में प्रोफ़ेसर यशपाल का यह रुख़ मेरे लिए सुखद आश्चर्य की तरह था.शुरुआत में यह तय नहीं था कि हमें कितनी देर बात करनी है. मगर एक बार प्रोफ़ेसर यशपाल ने यादों के अपने ख़ज़ाने से दिलचस्प बातें निकालनी शुरू कीं, तो मैं बस मंत्रमुग्ध रह गया.विक्रम साराभाई, सतीश धवन, इंदिरा गांधी और सोनिया गांधी तक उनके पास बताने के लिए बहुत कुछ था. मुझे लगा कि वह भारत में विज्ञान के इतिहास के एन्साइक्लोपीडिया की तरह हैं. किस तरह भारत का अंतरिक्ष कार्यक्रम शुरू हुआ, स्पेस ऐप्लीकेशन सेंटर कैसे बना और इंदिरा गांधी के भारत के अंतरिक्ष कार्यक्रम पर क्या विचार थे, आदि-आदि सैकड़ों नई बातें उनके पास बताने के लिए थीं.प्रोफ़ेसर यशपाल की तबीयत उस दिन ठीक नहीं थी, काफ़ी ज़ुकाम था इसके बावजूद वह 50 मिनट तक धाराप्रवाह बोलते रहे.उस दिन मुझे अहसास हुआ कि भारत के अंतरिक्ष कार्यक्रम को प्रोफ़ेसर यशपाल जैसे लोगों ने ही खड़ा किया है, जो अपने अच्छे-खासे भविष्य को छोड़कर अंतरिक्ष कार्यक्रम के साथ इसलिए जुड़े ताकि इसके ज़रिए दूरदराज़ के लोगों तक शिक्षा और स्वास्थ्य जैसी सुविधाएं पहुंच पाएं.अंतरिक्ष कार्यक्रम की इस बीबीसी सिरीज़ के लिए जब मशहूर \\n\\n\\n\\nकार्टूनिस्ट प्राण से ख़ास कार्टून बनाने के लिए निवेदन किया गया, तो वे भी राज़ी हो गए. प्राण साहब की तबीयत भी ठीक नहीं रहती, लेकिन इस कार्टून सिरीज़ के लिए उनका उत्साह देखने लायक था.बहुत जल्द उन्होंने अपने मशहूर किरदार साबू के कार्टून बनाकर हमें भेजे, जिन्हें बीबीसी के पाठकों ने काफ़ी पसंद किया.मगर अंतरिक्ष कार्यक्रम की इस सिरीज़ ने यह अहसास कराया कि बड़े से बड़े विज्ञान अभियान भी तब तक पूरे नहीं हो सकते, जब तक क़ुदरत का सहारा न मिल जाए. भारत ने पहले मंगलयान को अंतरिक्ष में भेजने के लिए 28 अक्तूबर की तारीख़ तय की थी, लेकिन प्रशांत महासागर में तूफ़ान की वजह से भारत का विशेष जहाज़ वहां समय पर नहीं पहुंच पाया, जिसे मंगलयान पर नज़र रखनी थी. इस वजह से मंगलयान के \\n\\n\\n\\nप्रक्षेपण की तारीख़ आगे खिसकाई गई.इसरो के जिन वैज्ञानिकों से इस अभियान के बारे में हमारी बात हुई थी, वे मंगलयान के प्रक्षेपण तक काफ़ी तनाव में थे लेकिन मंगलयान के सफल प्रक्षेपण के बाद उन सबके चेहरे खिले हुए थे.टीवी पर उनके चेहरों की मुस्कान देखकर मेरे दिल में भी एक तरह का सुकून था. शायद यही होता है ख़बर को जीना, जिसे मैं महसूस कर पा रहा था.(बीबीसी हिन्दी के एंड्रॉएड ऐप के लिए आप \\n\\n\\n\\nयहां क्लिक कर सकते हैं. आप हमें \\n\\n\\n\\nफ़ेसबुक और \\n\\n\\n\\nट्विटर पर फ़ॉलो भी कर सकते हैं.)\", 'category': 'india'}\n"
          ]
        }
      ],
      "source": [
        "for key in list(data.keys())[:10]:\n",
        "    print(key,data[key])"
      ]
    },
    {
      "cell_type": "code",
      "execution_count": null,
      "metadata": {
        "id": "iw8eDrU6q5JS"
      },
      "outputs": [],
      "source": [
        "import re\n"
      ]
    },
    {
      "cell_type": "code",
      "execution_count": null,
      "metadata": {
        "id": "ehYqLr6bPL-1"
      },
      "outputs": [],
      "source": [
        "hindi_vocab={}\n",
        "idx=0\n",
        "for key in data:\n",
        "    text = data[key]['text']\n",
        "    words=indic_tokenize.trivial_tokenize(text)\n",
        "    words=set([word.replace(\"\\u200d\",\"\") for word in words])\n",
        "    for word in list(words):\n",
        "        if len(word)>2:\n",
        "            if hindi_vocab.get(word,0):\n",
        "                hindi_vocab[word]['freq']=1+hindi_vocab[word]['freq']\n",
        "                hindi_vocab[word]['posting'].add(key)\n",
        "            else:\n",
        "                hindi_vocab[word]={}\n",
        "                hindi_vocab[word]['freq']=1\n",
        "                hindi_vocab[word]['idx']=idx\n",
        "                hindi_vocab[word]['posting']={key}\n",
        "                idx+=1"
      ]
    },
    {
      "cell_type": "code",
      "execution_count": null,
      "metadata": {
        "colab": {
          "base_uri": "https://localhost:8080/"
        },
        "id": "QiKXTqfZwXvH",
        "outputId": "8cb81eb6-013e-4882-81e8-9e801fdca5aa"
      },
      "outputs": [
        {
          "name": "stdout",
          "output_type": "stream",
          "text": [
            "48594\n"
          ]
        }
      ],
      "source": [
        "print(len(hindi_vocab))"
      ]
    },
    {
      "cell_type": "code",
      "execution_count": null,
      "metadata": {
        "id": "Bs-30539ttmf"
      },
      "outputs": [],
      "source": [
        "delete = []\n",
        "for key in hindi_vocab:\n",
        "    if hindi_vocab[key]['freq'] < 2:\n",
        "        delete.append(key)\n",
        "for key in delete:\n",
        "    del hindi_vocab[key]"
      ]
    },
    {
      "cell_type": "code",
      "execution_count": null,
      "metadata": {
        "id": "Flj88AXiwEkp"
      },
      "outputs": [],
      "source": [
        "idx=0\n",
        "for word in hindi_vocab:\n",
        "    hindi_vocab[word]['plength']=len(hindi_vocab[word]['posting'])\n",
        "    hindi_vocab[word]['idx']=idx\n",
        "    idx+=1"
      ]
    },
    {
      "cell_type": "code",
      "execution_count": null,
      "metadata": {
        "id": "ruTB8VnPwfx4"
      },
      "outputs": [],
      "source": [
        "print(len(hindi_vocab))\n",
        "for key in list(hindi_vocab)[:100]:\n",
        "    print(key,hindi_vocab[key])"
      ]
    },
    {
      "cell_type": "code",
      "execution_count": null,
      "metadata": {
        "id": "1Ep7JMySPPhx"
      },
      "outputs": [],
      "source": [
        "import pickle\n",
        "with open('hindi_vocab.pkl','wb') as f:\n",
        "    pickle.dump(hindi_vocab,f)"
      ]
    },
    {
      "cell_type": "code",
      "execution_count": null,
      "metadata": {
        "id": "S3vGd5J5rCPN"
      },
      "outputs": [],
      "source": [
        "# import sys\n",
        "# from indicnlp import common\n",
        "# import gensim\n",
        "# from numpy import dot\n",
        "# from numpy.linalg import norm\n",
        "# from gensim.models import Word2Vec\n",
        "# import numpy as np\n",
        "# import time\n",
        "\n",
        "# INDIC_NLP_LIB_HOME=r\"indic_nlp_library\"\n",
        "# INDIC_NLP_RESOURCES=r\"indic_nlp_resources\"\n",
        "# sys.path.append(r'{}\\src'.format(INDIC_NLP_LIB_HOME))\n",
        "# common.set_resources_path(INDIC_NLP_RESOURCES)\n",
        "\n",
        "# from indicnlp.tokenize import indic_tokenize"
      ]
    },
    {
      "cell_type": "code",
      "execution_count": null,
      "metadata": {
        "id": "V4dtzFMJrFGH"
      },
      "outputs": [],
      "source": [
        "# emb_type=\"fasttext\"\n",
        "# path=\"./hi/50/\"+emb_type+\"/hi-d50-m2-\"+emb_type+\".model\"\n",
        "# model = Word2Vec.load(path)"
      ]
    },
    {
      "cell_type": "code",
      "execution_count": null,
      "metadata": {
        "id": "eaYwhRVrrF5l"
      },
      "outputs": [],
      "source": [
        "# start_time = time.time()\n",
        "# doc_vector=np.zeros(50,dtype=float)\n",
        "# token_size=0\n",
        "# for key in data:\n",
        "#     tokens=indic_tokenize.trivial_tokenize(data[key]['text'])\n",
        "#     tokens=set([token.replace(\"\\u200d\",\"\") for token in tokens])\n",
        "#     token_size=len(tokens)\n",
        "#     for token in list(tokens):\n",
        "#         doc_vector+=model.wv[token]\n",
        "\n",
        "#     doc_vector=doc_vector/len(tokens)\n",
        "#     if np.linalg.norm(doc_vector)!=0:\n",
        "#         norm_doc_vector = doc_vector / np.linalg.norm(doc_vector)\n",
        "#     else:\n",
        "#         norm_doc_vector = doc_vector\n",
        "#     data[key]['avg_emb']=norm_doc_vector\n",
        "# print(str(round(time.time() - start_time,2))+\" Seconds\")"
      ]
    },
    {
      "cell_type": "code",
      "execution_count": null,
      "metadata": {
        "colab": {
          "base_uri": "https://localhost:8080/"
        },
        "id": "C8dfVAX1PmXD",
        "outputId": "a70a8ef4-6814-4cb1-ed6d-acc088025036"
      },
      "outputs": [
        {
          "name": "stdout",
          "output_type": "stream",
          "text": [
            "10 {'text': 'कुछ विशेषज्ञ कह रहे हैं कि उनके इंटरव्यू के बाद भाजपा का हौसला और भी बुलंद हो गया है कुछ अन्य विश्लेषणों में ये कहा जा रहा है कि राहुल गांधी के कारण कांग्रेस की अगले आम चुनाव में हार यक़ीनी है कुछ तो यहाँ तक कह रहे हैं कि राहुल गांधी कांग्रेस पार्टी के लिए बोझ साबित हो रहे हैं ट्विटर और फेसबुक जैसे सोशल मीडिया में उनके इंटरव्यू पर मज़ाक़ उड़ाया जा रहा है जो राहुल गांधी से थोड़ी बहुत सहानुभूति दिखा रहे हैं उनका कहना है कि वह नरेंद्र मोदी और भाजपा के प्रति आक्रामक रुख़ अख्तियार करने से चूक गए राहुल गांधी के इंटरव्यू पर क्या बोला सोशल मीडिया कुल मिलाकर यह नतीजा निकाला जा रहा है कि इंटरव्यू से पहले आगामी आम चुनाव में कांग्रेस की हार लगभग तय थी लेकिन इंटरव्यू के बाद ये निश्चित है इनमें से अधिकतर वही राजनीतिक विश्लेषक ऐसी टिप्पणियाँ कर रहे हैं जो दिल्ली विधानसभा चुनाव से पहले केजरीवाल की आम आदमी पार्टी को पाँच या छह सीटों से अधिक देने को तैयार नहीं थे इसका मतलब यह नहीं कि वे सभी ग़लत हैं ऐसा संभव है कि उनकी बात सच साबित हो लेकिन चुनाव में अभी कुछ महीने बाक़ी हैं और इस दौरान हालात में काफी उथल पुथल मच सकती है ज़रा याद कीजिए दिल्ली चुनाव से पहले कोई कह सकता था कि आम चुनाव में आम आदमी पार्टी की कोई भूमिका होगी दो महीने में देश के राजनीतिक परिदृश्य में काफी बदलाव आया है और अगले दो तीन महीनों में काफी बदलाव संभव है इसमें कोई संदेह नहीं कि राहुल गांधी इंटरव्यू के दौरान तीखे सवालों का सीधा जवाब देने से हिचकिचाए सवाल कुछ और जवाब कुछ मैं नहीं मोदी दंगों में शामिलः राहुल गांधीलेकिन क्या अगर नरेंद्र मोदी उनकी जगह एक घंटे तक सवालों का सामना करते तो राहुल गांधी से काफी बेहतर होते कुछ कि राय में होते लेकिन कुछ दूसरे कहते हैं कि वह भी लड़खड़ाते यह भी सही है कि राहुल गांधी का यह आख़िरी बड़ा इंटरव्यू नहीं होगा उनकी पार्टी के अनुसार उनकी योजना है लगातार कई बड़े इंटरव्यू देने की यह संभव है कि अगले इंटरव्यू में उनका प्रदर्शन इससे बेहतर हो और चुनाव से पहले आख़िरी इंटरव्यू में और भी बेहतर आम जनता आख़िरी इंटरव्यू को शायद अधिक याद रखेगी राष्ट्रपति ओबामा ओबामा में राष्ट्रपति पद के चुनाव से पहले हुए तीन टेलीविजन डिबेट में से पहले में अपने प्रतिद्वंद्वी से पिछड़ गए थे लेकिन अगले दो में उनका प्रदर्शन बहुत बेहतर था राहुल गांधी कांग्रेस के चुनावी प्रचार के लीडर ज़रूर हैं लेकिन कांग्रेस की अगर चुनाव में हार हुई तो इसकी सारी ज़िम्मेदारी उन पर थोपना शायद पूरी तरह से सही नहीं होगा राहुल गांधी और उनके कुछ विवादित बयानकेंद्र में दस साल तक सत्ता में रहकर पार्टी के नेतृत्व वाली सरकार भ्रष्टाचार को रोकने में सफल नहीं हो पाई पार्टी आंतरिक उठापटक पर क़ाबू पाने में भी विफल रही है और खुद को जनता से जोड़ने की कोई ख़ास कोशिश नहीं की है राहुल गांधी के सामने पार्टी के बाहर से जितनी चुनौतियां हैं उतनी ही अंदर से हैं उनके क़रीबी लोगों ने दबे शब्दों में ये कहा है कि पार्टी अगर चुनाव हारती है तो बुरा ज़रूर होगा लेकिन ये राहुल गांधी के लिए एक मौक़ा भी होगा कि हार के बहाने से वह उन नेताओं को पार्टी से साफ़ करेंगे जो पार्टी के लिए वर्षों से बोझ बने हुए हैं उनके बंधे हाथ खुल जाएंगे ऐसा संभव है कि इस बार वह चुनाव हार जाएँ लेकिन इसके अगले चुनाव में वह एक जीतने वाले लंबी रेस के घोड़े साबित हो सकते हैं ', 'category': 'india'}\n",
            "11 {'text': 'नाडियाडवाला ग्रैंडसन और विंडो सीट फ़िल्म्स की हाईवे कहानी है एक ऐसी लड़की की जिसका अपहरण हो जाता है और वो अपने ही अपहरणकर्ता से प्यार करने लगती है वीरा आलिया भट्ट की विनय अर्जुन मल्होत्रा से सगाई हो जाती है लेकिन शादी से ठीक एक दिन पहले ही कुख्यात अपराधी महाबीर भाटी रणदीप हुडा उसको अग़वा कर लेता है रिव्यू गुंडे पहले तो वीरा बहुत डर जाती है लेकिन जल्द ही उसे एहसास हो जाता है कि महाबीर उसे शारीरिक तौर पर कोई नुक़सान नहीं पहुंचाएगा और उसने उसका अपहरण सिर्फ़ पैसों के लिए किया है महाबीर के साथ रहने के दौरान वो धीरे धीरे उसे पसंद करने लगती है महाबीर भी वीरा की मासूमियत और चंचलता से प्रभावित हो जाता है बल्कि वो महाबीर से बताती है कि अग़वा होने के बाद वो कितना आज़ाद महसूस कर रही है और वो सब कुछ कर पा रही है जो अपने अमीर मां बाप के साथ रहते हुए वो नहीं कर पा रही थी रिव्यू हंसी तो फंसी वीरा के साथ समय गुज़ारते हुए महाबीर का भी दिल बदल जाता है और वो वीरा को एक पुलिस स्टेशन के नज़दीक छोड़ देता है ताकि वो अपने परिवार वालों से मिल सके लेकिन तब तक वीरा उससे प्यार करने लगती है और उसे छोड़कर अपने मां बाप के पास जाना ही नहीं चाहती आगे क्या होता है यही फ़िल्म की कहानी है इम्तियाज़ अली की कहानी बिलकुल मौलिक तो नहीं है हम ये सब दूसरी कुछ फ़िल्मों में भी देख चुके हैं लेकिन फ़िल्म का स्क्रीनप्ले इम्तियाज़ अली बिलकुल ताज़ा है वीरा और महाबीर के बीच फ़िल्माए दृश्य ताज़गी का एहसास देते हैं और मनोरंजनक भी हैं वीरा के किरदार में आलिया भट्ट की मासूमियत फ़िल्म का सबसे मज़बूत पहलू है रिव्यू वन बाय टू महाबीर और उसके साथियों की हरकतें और वीरा की सहज स्वाभाविक चंचलता फ़िल्म में आवश्यक कंट्रास्ट लाने में कामयाब होते हैं और यही बात दर्शकों को पसंद आएगी हालांकि कहानी में गंभीर मोड़ तब आता है जब वीरा अपने बचपन के एक सदमे के बारे में महाबीर को बताती है लेकिन जल्द ही निर्देशक फ़िल्म में वापस हल्के फुल्का माहौल लाने में कामयाब होता है हालांकि स्क्रीनप्ले में कुछ कमियां भी हैं जैसे वीरा के अपहरण के बाद निर्देशक ने लंबे समय तक ये दिखाने की ज़हमत ही नहीं उठाई कि उसके मां बाप पर क्या बीत रही है और वो क्या क़दम उठा रहे हैं साथ ही महाबीर का वीरा के प्रति लगाव होना और उसका दिल पिघलना भी बड़ी जल्दबाज़ी में दिखा दिया गया साथ ही पहली बार आज़ादी का स्वाद चख रही वीरा का अपने अमीर मां बाप के प्रति ग़ुस्सा भी बहुत सारे दर्शकों के गले नहीं उतरेगा रिव्यू जय हो फ़िल्म का हास्य सीमित दर्शक वर्ग को ही पसंद आएगा सिंगल स्क्रीन थिएटर्स के दर्शक शायद फ़िल्म को उतना प्यार ना दें इंटरवल से पहले फ़िल्म ज़्यादा मनोरंजक है इंटरवल के बाद फ़िल्म में मनोरंजन की कमी है साथ ही ये हिस्सा खींचा गया और अवास्तविक सा लगता है फ़िल्म की गति धीमी है इम्तियाज़ अली के लिखे संवादों में दम है महाबीर भाटी के किरदार में रणदीप हुडा ने अपने अभिनय का लोहा मनवाया है उन्होंने एक ऐसे अपराधी का रोल बख़ूबी निभाया है जिसका ह्रदय परिवर्तन हो जाता है आलिया भट्ट ने तो कमाल का अभिनय किया है वो अपने किरदार में पूरी तरह से घुस गई हैं बाकी कलाकारों ने भी उम्दा अभिनय किया है रिव्यू मिस लवली इम्तियाज़ अली का निर्देशन अच्छा है उनकी सबसे बड़ी कामयाबी ये रही कि उन्होंने अपने कलाकारों से बेहतरीन काम निकलवाया एआर रहमान का संगीत अच्छा है लेकिन उनसे इससे कहीं बेहतर काम की उम्मीद थी आली आली गाना पहले ही सुपरहिट हो चुका है लेकिन बाकी गानों में वो माद्दा नहीं है जो लोगों की ज़ुबां पर चढ़ जाएं कुल मिलाकर हाईवे एक अच्छी फ़िल्म है लेकिन सिर्फ़ बड़े शहर के युवाओं को ही अपील कर पाएगी ', 'category': 'entertainment'}\n",
            "12 {'text': 'मैरीकॉम मई में वर्ल्ड चैंपिनशिप के क्वार्टर फाइनल में ब्रिटेन की इस चर्चित बॉक्सर से हार चुकी हैं इस लिहाज से यह मुकाबला मैरीकॉम के लिए हिसाब बराबर करने का मौका भी होगा लेकिन अगर दोनों बॉक्सरों का आकलन किया जाए तो यह मैच काफी रोचक रहेगा पहली बार साल की उम्र में रिंग में उतरी करीब साढ़े पांच फुट लंबी निकोला का सामना होगा कद में उनसे छोटी मैरीकॉम से और इसके लिए मैरीकॉम को अपनी रणनीति बदलनी पड़ सकती है मैरीकॉम ने पिछले दो मुकाबलों में अपने स्ट्रेट पंच से काफी प्वांइट हासिल किए हैं वैसे दोनों की उम्र साल है निकोला पांच बार की वर्ल्ड चैंपियन मैरीकॉम को एक बेहतरीन बॉक्सर आंकती हैं अगले मुकाबले के बारे में पूछे जाने पर वर्ल्ड चैंपियनशिप में तीन बार की रजत पदक विजेता निकोला ने कहा पांच बार की विश्व विजेता बनने के लिए आपमें कुछ अलग ही प्रतिभा होनी चाहिए लेकिन मेरी लंबाई और पहुंच मेरे लिए मददगार होगी मैं अपना पूरा अनुभव उनके खिलाफ इस्तेमाल करुंगी मुझे पूरा भरोसा है कि मैरी जो कुछ भी रिंग पर आजमाएँगी मैं उसका तोड़ निकाल लूंगी निकोला बुल्गारिया की स्तोयका पेट्रोवा को से हरा कर सेमीफाइनल में पहुंची हैं निकोला की इस ओलंपिक तक की यात्रा काफी रोचक है में साल की उम्र में निकोला इंग्लैंड का प्रतिनिधित्व करने वाली पहली महिला बनी थीं आयरलैंड की बॉक्सर के खिलाफ निकोला की वह बाउट इतिहास का हिस्सा है में वह पहली बार इंग्लिश एमेच्यर चैंपियन बनीं और इस पर उनका लगातार तीन बार कब्जा रहा लेकिन निकोला को सबसे बड़ी पहचान में मिली जब उन्होंने इंग्लैंड के लिए बॉक्सिंग में कोई मेडल जीतने वाली पहली महिला होने को गौरव हासिल किया इस साल यूरोपीयन चैंपियनशिप में उनके गले में किलोग्राम भार वर्ग का सिल्वर मेडल था उनके कैरियर का सबसे बुरा दौर था पीठ की चोट के कारण वह काफी महीने खेल से बाहर रहीं लेकिन ठीक अगले साल ब्रिटेन की पहली एमेच्यर चैंपियनशिप जीत कर वापसी की की यूरोपीय यूनियन एमेच्यर चैंपियनशिप भी उनके नाम है दरअसल ओलंपिक में महिला मुक्केबाज़ी पहली बार शामिल की गई है मगर ये मुक़ाबला तीन ही वर्गों में हो रहा है ओलंपिक में महिलाओं को और किलोग्राम वर्ग में स्वर्ण के लिए भिड़ना है इससे पहले तक मैरीकॉम किलोग्राम वर्ग में विश्व चैंपियन रही हैं इसलिए उन्हें ओलंपिक के लिए इस वर्ग में आना पड़ा है वहीं निकोला किलोग्राम वर्ग से नीचे उतरकर किलो वर्ग में आई हैं ', 'category': 'sport'}\n",
            "13 {'text': 'एकाकी जीवन जी रही इन महिलाओं ने अपना एकल नारी शक्ति संगठन बनाया और अपने हक़ के लिए स्वर मुखरित किए बेवाओ के लिए मेहंदी रंगीन कपड़े और श्रृंगार वर्जित है मगर इन महिलाओं ने सामूहिक तौर पर ऐसे प्रतिबंधो को तोड़ा और हिम्मत के साथ खड़ी हो गईं ये एक साथ जयपुर में जमा हुईं अपनी मुक्ति के गीत गाए नारे बुलन्द किए और हाथो पर मेहंदी रचाई उनके माथे पर मुद्दत बाद बिंदिया उतरी तो ऐसे लगा गोया वो सदियों पुरानी दासता और दमन के विरुद्ध औरत का बयां हो पिछले दिनों जयपुर में इन महिलाओ के समागम में विधवा महिलाओं ने एक दूसरे को हौसला दिया और हालात को बदलने का संकल्प लिया इनमें झालावाड की कमल पथिक भी थीं कमल पथिक को नियति ने दोहरा दर्द दिया पहले परित्यक्ता का जीवन और फिर वैधव्य कमल कहने लगीं कि विधवाओं की हालत बहुत दर्दनाक है वो कहती हैं पति की मौत होने के बाद छह महीने तक मुंह ढंक कर रखना पड़ता है रंगीन कपड़े नहीं पहन सकते रातों रात उनकी जिन्दगी नारकीय हो जाती है मैं बीस साल से ये ही सब देख रही हूँ मेरा किसी ने साथ नहीं दिया अब इस संगठन में आने के बाद हम में हिम्मत आई है कमल कहती है पहले फब्तियों से डर लगता था अब सब एक साथ है तो जीवन बेहतर हुआ है जिनी श्रीवास्तव पली बढ़ी कनाडा में मगर अब भारत ही उनका घर है जिनी पिछले एक दशक से महिलाओ का संबल और सहारा हैं जिनी कहती हैं कि भारत में कोई पांच करोड़ विधवाएं हैं मगर मुझे दुःख है कि उनकी जीवन दशा में कोई सुधार नहीं आया है उनका कहना था समाज का नजरिया नहीं बदला है उन्हें अब भी मनहूस समझा जाता है उन्हें ससुराल और पीहर दोनों स्थानों में जगह नहीं है ये ही सोच कर हमने संगठन बनाया क्योंकि एक तनहा औरत का जीवन दुश्वार होता है सब के एक साथ खड़े होने से सरकार और समाज दोनों पर दबाव बनता है चेहरों पर चिपका हुई उदासी का आलम टूटा और इस समागम में नाच गाने हुए वक़्त की मार से खुरदरे हुए हाथ अरसे बाद मेहंदी से सुर्ख़ हुए बांसवाड़ा की कचरी बाई को भी इस समागम ने जीने का हौसला दिया पति की मौत के बाद कचरी के जीवन में मुकम्मल पतझड़ आ गया था वो कहती हैं पति का देहांत हुआ तो ससुराल से निकाल दी गई फिर अपने दो बच्चों के साथ पीहर आ गई पिताजी ने हिममत दी मगर भाभी ने घर ने निकाल दिया अब बमुश्किल गुज़र बसर कर रहे हैं क़दम क़दम पर हम पर ताने कसे जाते हैं ऐसे आयोजन में आकर सुख दुःख बाँट लेते है माथे से सुहाग की लकीर मिटते ही समाज सारी विडंबनाएँ और अनहोनी बेवा के नाम लिख देता है उदयपुर के गोगुन्दा की गोपी बाई का गला आपबीती सुनाते सुनाते रुंध जाता है वो कहती हैं में पति की मौत हुई तो मुसीबतों का पहाड़ टूट पड़ा बीस साल तक न बिंदी लगाई और ना मेहंदी रहने को अब भी कच्ची झोंपड़ी है बारिश में सांप आ जाते है बाजार में निकले तो लोग हमें देख कर रास्ता बदल लेते है हमें किसी शुभ मौके पर नहीं बुलाया जाता हमारा क़सूर क्या है गोपी बाई कहती है संगठन ने उन्हें ताक़त दी है वर्ना घुट घुट कर जी रहे थे कानून ने उसे बराबर का हक़ दिया है मगर कभी कोई जाति पंचायत उसकी क़िस्मत का फ़ैसला लिखती है कभी कोई मर्द उसका मुक़द्दर तय करता है क्योंकि वो औरत है औरत का कोई देश नहीं होता उसकी तो देह होती है पर अब वो हालात के मुकाबिल हौसले से खड़ी है शायद समाज अब बदलेगा ', 'category': 'india'}\n",
            "14 {'text': 'ये सुनने में अजीब सा लग सकता है क्योंकि भारत में स्थिति दूसरी है और हम जानते हैं कि आमिर शाहरुख और सलमान जैसे बड़े बॉलीवुड सितारे करोड़ों में अपनी फीस लेते हैं इसके अलावा वो अपनी निश्चित फीस के अलावा मुनाफे में हिस्सेदारी भी मांगते हैं और हर फिल्म के बाद अपनी फीस बढ़ा देते हैं इन तीनों बड़े सितारों के अलावा भी आमतौर पर बॉलीवुड के सितारे अच्छी खासी फीस निर्माताओं से वसूल करते हैं दुनिया की सबसे बड़ी फिल्म इंडस्ट्री तक पर जब मंदी का असर पड़ा तो भला बॉलीवुड के सितारे इससे कैसे अछूते रह गए बॉलीवुड स्टार्स इतनी भारी भरकम फीस भला कैसे लेते हैं और निर्माता भला उन्हें करोड़ों करोड़ रुपए देने के लिए तैयार भी क्यों हो रहे हैं क्या बॉलीवुड मुनाफे के लिहाज से हॉलीवुड से बेहतर स्थिति में है फिल्म व्यापार पर करीब से निगाह रखने वाले ट्रेड एनलिस्ट कोमल नाहटा के मुताबिक दरअसल बॉलीवुड में सेलेबल ऐक्टर यानी बिकाऊ सितारे बहुत कम हैं और फिल्म बनाने वाले ढेर सारे लोग हैं इसलिए बॉलीवुड सितारों पर मंदी का उतना असर नहीं हुआ है कोमल कहते हैं बॉलीवुड में बड़ा जबरदस्त स्टार सिस्टम है यहां सितारे फ्लॉप फिल्म के बाद भी अपनी फीस कम नहीं करते क्योंकि उन्हें मालूम है कि निर्माता फिर से उनके पास दौड़े चले आएंगे हां हिट फिल्म के बाद वो अपनी फीस जरूर बढ़ा देते हैं सीधा सीधा डिमांड सप्लाई का खेल हैं जब सितारे कम और निर्माता ज्यादा हैं तो स्टार्स अपनी मुंहमांगी फीस वसूलेंगे ही कोमल कहते हैं कि शाहिद कपूर जैसे सितारे जिनकी पिछली दो फिल्में मौसम और तेरी मेरी कहानी फ्लॉप हो गईं वो भी अपनी फीस कम नहीं कर रहे हैं क्योंकि अब भी उनके पास निर्माताओं की लाइन लगी है फिल्म समीक्षक नम्रता जोशी की भी ऐसी ही कुछ राय है वो कहती हैं बॉलीवुड में सब कुछ स्टार्स से चलता है यहां निर्देशकों और कहानीकारों को वो दर्जा नहीं प्राप्त है जैसा हॉलीवुड में होता है इसलिए सितारों के भाव हमेशा बढ़े रहते हैं कोमल नाहटा ये भी कहते हैं कि पहले सिर्फ अमिताभ बच्चन ही एकमात्र ऐसे अभिनेता थे जिनकी फीस करोड़ में थी बाकी सितारे लाखों में पैसे लेते थे लेकिन अब इमरान खान जैसे स्टार तक करोड़ रुपए ले लेते हैं जबकि इमरान ने एक भी सुपरहिट फिल्म अपने दम पर नहीं दी है कोमल के मुताबिक आमिर शाहरुख और सलमान जैसे स्टार करोड़ रुपए भी मांग सकते हैं क्योंकि इनकी फिल्में मुनाफा कमा ही लेती हैं अगर सलमान खान के बलबूते यश चोपड़ा और आदित्य चोपड़ा एक था टाइगर के जरिए करोड़ रुपए कमा रहे हैं तो सलमान करोड़ रुपए मांगे भी तो उसमें क्या गलत है कोमल कहते हैं कि फिल्म फ्लॉप होने का दोष कोई भी कलाकार अपने सर नहीं लेता हां फिल्में हिट हो जाती हैं तो स्टार्स बढ़ चढ़कर कहने लगते हैं कि हमारी वजह से फिल्म चली नम्रता जोशी ये भी कहती हैं कि आज जो भी बॉलीवुड के बड़े सितारे हैं वो सिर्फ फिल्मों के जरिए कमाई नहीं कर रहे हैं वो विज्ञापनों के जरिए भी बहुत कमाई कर रहे हैं इसलिए वो ढेर सारी फिल्में नहीं करते जब तक उनके मन का प्रोजेक्ट नहीं मिलता वो फिल्में नहीं करते इसलिए वो मनचाही कीमतें वसूल कर सकते हैं जबकि हॉलीवुड के सितारों के साथ ऐसा नहीं है उनकी कमाई का मेन जरिया फिल्में ही हैं हालांकि नम्रता ये भी कहती हैं कि सभी बॉलीवुड स्टार्स मनमाफिक फीस वसूल कर पाते हों ऐसा भी नहीं है नम्रता के मुताबिक आमिर शाहरुख सलमान अक्षय कुमार अजय देवगन और ऋतिक रोशन ये ही ऐसे कलाकार हैं जो अपनी शर्तों पर काम करते हैं बाकी सितारे ये लक्जरी हासिल नहीं कर सकते अगर दूसरा कोई सितारा एक फिल्म हिट होते ही अपनी फीस बढ़ा दे तो ये बेतुका फैसला होगा क्योंकि फिर उसकी फिल्मों के फ्लॉप होने के बाद उसका पतन भी उतनी ही तेजी से होगा फिलहाल तो बॉक्स ऑफिस पर अपनी मजबूत पकड़ और फिल्मों के मुनाफा कमाने की गारंटी की वजह से बॉलीवुड के टॉप एक्टर्स का सितारा बुलंदी पर है आने वाले समय में आमिर खान की तलाश शाहरुख खान की जब तक है जान और सलमान खान की दंबग रिलीज होंगी और बॉलीवुड के तमाम एक्सपर्ट्स को उम्मीद है कि इन तीनों खान के स्टार पावर की बदौलत ये फिल्में बेहतरीन व्यवसाय कर पाएंगी ', 'category': 'entertainment'}\n",
            "15 {'text': 'उन सबने बड़े सलीके से स्कूल यूनिफॉर्म पहन रखी हैं उनके स्कूल ड्रेस की ब्लाउज़ पर स्टार ऑफ़ डेविड की निशानी बनी हुई है लेकिन सलवार कमीज़ या बुर्का पहने हुईं उनकी माएँ स्कूल के बाहर घबराई हुई सी इंतज़ार कर रही हैं यहाँ पढ़ने वाले ज्यादातर बच्चे अब मुसलमान हैं और कुछ ही लोगों को शायद यह याद हो कि आखिरी बार कब इस स्कूल में कोई यहूदी छात्र पढ़ने के लिए आया था दुनिया के सबसे बड़े शहरों में से गिने जाने वाले इस शहर के ज्यादातर लोगों की तरह वे भी कोलकाता के यहूदियों के बारे में बहुत कम जानते हैं हालांकि ज़िंदगी के पाँच दशक देख चुकीं जाइल सिलिमन इसे बदलने की कोशिश कर रही हैं इससे पहले कि ये समुदाय पूरी तरह से लुप्त हो जाए जाइल कोलकाता के यहूदियों के इतिहास को रिकॉर्ड कर उनका डिजिटल आर्काइव तैयार कर रही हैं क्यों हैं ये यहूदी औरतें पतियों की बंदिनी जाइल इस समुदाय की नौजवान पीढ़ी का हिस्सा हैं कोलकाता के यहूदी समाज के सदस्यों की ओर से भेजी गई तस्वीरों से उनका इनबॉक्स भर गया है ये लोग अब दुनिया भर में बिखरे हुए हैं एक वक्त था जब ये समुदाय फलता फूलता हुआ था कोलकाता आने वाले पहले यहूदी शालोम कोहेन थे जो साल में सीरिया से आए थे उनकी आर्थिक सफलता ने इराक़ से दूसरे लोगों को यहाँ आने के लिए प्रेरित किया और दूसरे विश्व युद्ध के आते आते यहाँ पाँच हज़ार से भी ज्यादा लोग रहने लगे थे लेकिन अब यहां से भी कम यहूदी रह गए हैं जो कोलकाता शहर को अपना घर मानते हैं जाइल कहती हैं जब यह साफ हो गया कि ब्रितानी भारत से चले जाएंगे तो कई लोग चले गए उन्हें इस बात की फिक्र थी कि भारत में कल क्या होगा और जैसे ही कुछ लोगों ने जाना शुरू किया बाकी लोग उनके पीछे हो लिए यहूदी देश का दर्जा भारत से चले गए यहूदियों ने अपने पीछे एशिया के सबसे बड़े उपासनागृहों में से एक को कोलकाता में छोड़ दिया है दी मैगन डेविड का निर्माण साल में कराया गया था इसके डिजाइन पर उन ब्रितानी चर्चों का गहरा असर देखा जा सकता है जो उस दौर के कोलकाता में बनाए जा रहे थे इसमें एक मीनार भी है जो यहूदी उपासनास्थलों के लिए एक असामान्य बात है जाइल सिलिमन कहती हैं यहूदी समुदाय को बगदाद में मौजूद अपने नेताओं से इसके बारे में लिख कर इजाज़त लेनी पड़ी थी और ये इजाज़त दी गई तो इस शर्त के साथ दी गई कि ये मीनार आस पास की सभी इमारतों से ऊँची होगी यह उपासना स्थल जो कभी कोलकाता के विविधता भरे यहूदी समाज की जिंदगी का एक प्रमुख हिस्सा हुआ करता था अब खाली पड़ा हुआ है इसके गेट के बाहर सड़क पर दुकान लगाने वाले लोग सोचते हैं कि यह एक चर्च है जब मैंने उन्हें ये बताया कि ये वास्तव में यहूदियों के उपासना करने की जगह है तो वह चकराए हुए से दिखे उनमें से एक ने मुझसे पूछा क्या तुम ये बात पक्के तौर पर कह सकते हो लेकिन तभी उसका दोस्त कहता है वह सही है यही वह इमारत है जिसकी देखभाल राबुल खान करते हैं मौत की ट्रेन से भाग निकलने की दास्तां जब आप इसके गेट से भीतर जाते हैं तो आपकी मुलाकात इस यहूदी उपासना स्थल के मुसलमान केयर टेकर से होती है राबुल खान का परिवार पीढ़ियों से मैगन डेविड की देखभाल कर रहा है मेरे हाथ में यहूदियों की टोपी किपाह देते वक्त वह मुस्कुाए मानो उन दिनों को याद कर रहे हों जब यहाँ प्रार्थनाएँ पूरे तौर तरीके के साथ की जाती थीं और जिसे राबुल नमाज़ कहते हैं और जब मैं वहाँ से निकल रहा था तो राबुल ने मुझे इशारे से रुकने के लिए कहा उसने पूछा क्या आपको लगता है कि वे वापस आएंगे मुझे समझ में नहीं आया कि किस तरह से इसका जवाब देना चाहिए मैंने बस अपने कंधे झटक दिए वह कहता है कोई बात नहीं जब तक कि वह नहीं आते हैं मैं इस जगह की देखरेख उनके लिए करता रहूंगा कोलकाता वापस लौटने वालों में से एक जाइल की माँ फ्लावर सिलिमन भी हैं उनकी उम्र पार कर चुकी हैं लेकिन उनकी ऊर्जा बरस के किसी व्यक्ति सरीखी है उन्होंने अमरीका और इसराइल में घर बनाने के लिए कोलकाता छोड़ा था लेकिन वह हमेशा अपने जन्म स्थान को याद करती रहीं उनके लिए भारतीय होना उतना ही महत्वपूर्ण है जितना कि एक यहूदी होना वह अपनी शुरुआती जिंदगी को एक ऐसे डरे सहमे यहूदी के तौर बयान करती है जिन्होंने खुद को एक दायरे में कैद कर रखा हो नौकरों को छोड़ दें तो वह जितने लोगों को जानती थीं वे सभी यहूदी थे क्योंकि उनके माँ बाप इस बात को लेकर सशंकित रहते थे कि वे कहीं स्थानीय लोगों के साथ घुल मिल न जाएं लेकिन फ्लावर को ये सब पसंद न था और उन्होंने इसका विरोध करना शुरू कर दिया रूढ़िवादी यहूदियों के लिए सेक्स गाइड उन्होंने हिंदी सीखने पर जोर दिया न कि फ्रेंच और जब वह दिल्ली में कॉलेज की अपनी पढ़ाई कर रही थीं तो वह भारत की आजादी की लड़ाई में शामिल हो गईं उन्होंने बड़ी संजीदगी के साथ याद किया कि हावड़ा रेलवे स्टेशन पर जब वह भारतीय पहनावे में पहुँची थीं उन्होंने मुझसे कहा मेरी माँ घबरा गई थीं फ्लावर कहती हैं मेरी माँ के लिए तो यह कुछ ऐसा था कि उनकी बेटी मानो नर्क चली गई हो और उन्होंने मुझे साफ़ कह दिया कि जब तक कि मैं उनकी छत के नीचे रहूंगी मैं ऐसे कपड़े हरगिज नहीं पहनूंगी फ्लावर और यहूदी समुदाय के छह अन्य सदस्य अपने उपासनास्थल शमशान और स्कूलों के प्रबंधन के तौर तरीकों पर बात करने के लिए महीने में एक बार बैठक करती हैं यहाँ पैसे की दिक्कत नहीं है लेकिन समुदाय के इतने कम सदस्य बचे हैं कि यह सब कुछ इतना आसान नहीं रह गया है वह लोग इस बात से भी वाकिफ हैं कि आने वाले सालों में मुमकिन है कि इस शहर में एक भी यहूदी न बचे उन्हें लगता है कि उनके तीन उपासना स्थल और एक कब्रिस्तान इस शहर की ऐतिहासिक विरासत में उनका योगदान है लेकिन ज्यूइश गर्ल्स स्कूल को लेकर उन्हें भरोसा है कि उनकी यह विरासत देर तक जिंदा रहेगी स्कूल की सेक्रेट्री जोए कोहेन कहती हैं यह समुदाय दो सौ साल से भी ज्यादा पुराना है और इस शहर के लोग उनके साथ बहुत अच्छा बर्ताव करते हैं लड़कियों के लिए स्कूल चलाकर हम कोलकाता शहर को कुछ वापस लौटा रहे हैं यहूदियों को लौटने का न्यौता यहाँ स्कूल की फ़ीस बहुत कम रखी गई है ताकि स्थानीय मुस्लिम समुदाय के लोग अपनी लड़कियों को पढ़ा सकें जोए कोहेन को उम्मीद है कि अगले दो सौ सालों में भी जूइश गर्ल्स स्कूल इसी मज़बूती से चलता रहेगा और कोलकाता के लिए उतना ही महत्वपूर्ण रहेगा जितना कि आज है आबिदा राज़ेक कभी इसी स्कूल की छात्रा हुआ करती थीं और अब वह यहीं पढ़ाती हैं वह कहती हैं मुस्लिम अभिभावक इस स्कूल को चलाने के लिए यहूदी समुदाय के बहुत आभारी है बच्चे यहूदियों के त्यौहार मनाते हैं क्योंकि उनके लिए इसका मतलब स्कूल की एक और दिन छुट्टी होना होता है कोलकाता के यहूदी भले ही एक रोज़ गायब हो जाएं लेकिन इस शहर में कुछ वक्त तक ऐसे लोग मिलेंगे जो उनके त्योहार मनाते रहेंगे बीबीसी हिन्दी के एंड्रॉएड ऐप के लिए आप यहां क्लिक कर सकते हैं आप हमें फ़ेसबुक और ट्विटर पर फ़ॉलो भी कर सकते हैं ', 'category': 'india'}\n",
            "16 {'text': 'प्रधानमंत्री हिशाम कांदिल के मुताबिक गज़ा में जो हालात हैं उन्हें देखकर चुप नहीं रहा जा सकता प्रधानमंत्री हिशाम कांदिल की यात्रा के दौरान तीन घंटे के लिए इसराइल बमबारी बंद करने के लिए रज़ामंद हुआ है लेकिन इसराइली अधिकारियों का कहना है कि फलस्तीनी चरमपंछियों की ओर से रॉकेट के हमले जारी हैं गुरुवार की रात इसराइल ने ग़ज़ा में ठिकानों को अपने हवाई हमलों में निशाना बनाया जबकि ग़ज़ा से इसराइली क्षेत्र में रॉकेट दागे गए हिशाम कांदिल दोनों पक्षों के बीच संघर्षविराम की कोशिश के लिए गाज़ा पहुंचे हैं बुधवार को इसराइल के हवाई हमलों में हमास की सैन्य शाखा के प्रमुख की मौत हो गई थी इसके बाद दोनों पक्षों में तनाव एकदम बढ़ गया है पिछले घंटों में ग़ज़ा में इसराइली हमलों में बच्चों समेत कम से कम फलस्तीनी मारे गए हैं वहीं दक्षिणी इसराइल में हमास के रॉकेट हमलों में तीन इसराइलियों की जानें गई हैं हमास ने कहा कि उसने हाल के दिनों में ग़ज़ा से से ज्यादा रॉकेट दागे हैं जिनमें से को इसराइल के अनुसार उसके मिसाइल रक्षा सिस्टम आयरन डॉम ने नाकाम कर दिया दूसरी तरफ इसराइल ने अपने हजार रिजर्व सैनिकों वाली सेना बुलाने को मंजूरी दे दी है जिसे हमास के खिलाफ जमीनी कार्रवाई की तैयारी के तौर पर देखा जा रहा है हालांकि सरकार की तरफ से इस बारे में कोई संकेत नहीं मिले हैं खबरों में बताया गया है कि इसराइली सैनिकों को लेकर बसें और सैन्य साजोसामान से लदे ट्रक तटीय इलाके की तरफ जा रहे हैं इसराइली टीवी चैनलों का कहना है कि ये तैयारियां दिखाती हैं कि अतिक्रमण की योजना तैयार हो गई है हालांकि सैन्य अफसरों का कहना है कि अभी कोई फैसला नहीं लिया गया है वहीं ग़ज़ा में हमास के प्रधानमंत्री इस्माइल हानिए ने अपने क्षेत्र के खिलाफ इसराइल के क्रूर हमले की निंदा की है मिस्र के नए राष्ट्रपति मोहम्मद मुर्सी ने भी ग़ज़ा पर इसराइल की बमबारी की आलोचना की है उनके मुताबकि इससे पूरे क्षेत्र की स्थिरता प्रभावित होगी शुक्रवार को इस मुद्दे पर मिस्र की राजधानी काहिरा में अरब लीग के विदेश मंत्रियों की बैठक भी हो सकती है इस बीच अमरीका ने मिस्र तुर्की और कुछ यूरोपीय देशों से आग्रह किया है कि वे हमास पर इसराइल के खिलाफ हमले न करने के लिए दबाव डालें ', 'category': 'international'}\n",
            "17 {'text': 'इन चारों पर सामूहिक बलात्कार हत्या हत्या के प्रयास अप्राकृतिक कृत्य सबूत मिटाने और डकैती के आरोप थे दोषी करार दिए जाने के बाद अब अदालत बुधवार को इन अभियुक्तों को सज़ा सुनाएगी दिल्ली गैंगरेप चारों अभियुक्त दोषी करार सज़ा कलकोर्ट का फैसला आने के बाद पीड़िता के भाई ने बीबीसी से ख़ास बातचीत की उन्होंने बीबीसी को बताया अदालत ने चारों दोषियों को पुलिस द्वारा लगाई गई सभी में से धाराओं में दोषी करार दिया है सिर्फ डकैती की धारा को अदालत ने खारिज़ कर दिया है पीड़िता के अनुसार उनके परिवार को उम्मीद है कि बलात्कार हत्या समेत धाराओं में दोषी होना फाँसी की सज़ा के लिए पर्याप्त है दिल्ली गैंगरेप नौ महीनों की अहम तारीखों का सफ़रफ़ैसले के समय वे अपने माता पिता के साथ अदालत में ही मौजूद थे फैसले पर अपनी प्रतिक्रिया पर उन्होंने बीबीसी से कहा वह और उनका परिवार अदालत के फ़ैसले से संतुष्ट हैं और उन्हें उम्मीद है कि सभी दोषियों को फाँसी की सज़ा होगी अदालत में सुनवाई के समय दोषियों के हावभाव के बारे में पूछने पर उन्होंने कहा अदालत में सुनवाई अंग्रेजी में हो रही थी दोषियों को इस फ़ैसले के बारे में हिंदी में बाद में बताया जाएगा ', 'category': 'india'}\n",
            "18 {'text': 'शनिवार देर रात उनका तबादला महाराष्ट्र से मिज़ोरम किया गया था लेकिन उन्होंने वहां जाने से इनकार कर दिया और अपना पद छोड़ दिया है उन्होंने कहा कि वो सक्रिय राजनीति में वापसी करेंगे उनसे पहले बीएल जोशी उत्तर प्रदेश एमके नारायणन पश्चिम बंगाल शेखर दत्त छत्तीसगढ़ अश्विनी कुमार नागालैंड और बीवी वांचू गोवा वक्कम बी पुरुषोत्मम मिज़ोरम इस्तीफ़ा दे चुके हैं पांडिचेरी के उपराज्यपाल वीरेंद्र कटारिया और मिज़ोरम की राज्यपाल कमला बेनीवाल को हटा दिया गया था ये सभी वो राज्यपाल हैं जो पूर्व की यूपीए सरकार के दौरान नियुक्त किए गए थे गुजरात के राज्यपाल ओमप्रकाश कोहली महाराष्ट्र के राज्यपाल का भी कामकाज देखेंगे ', 'category': 'india'}\n",
            "19 {'text': 'लता ही नहीं उनकी बहन आशा भोसले के भी सबसे पसंदीदा गायक थे और उनका मानना है कि किशोर अपने गाने दिल और दिमाग़ दोनों से ही गाते थे आज भी उनकी सुनहरी आवाज़ लाखों संगीत के दीवानों के दिल में बसी हुई है और उसका जादू हमारे दिलों दिमाग़ पर छाया हुआ है आज अगर वे ज़िंदा होते तो अस्सी बरस के होते किशोर कुमार के बड़े बेटे अमित कुमार ने बीबीसी को बताया कि वो बहुत ही अच्छे पिता और व्यक्ति थे और उन्हें अपने परिवार के साथ समय बिताना बहुत ही पसंद था वे कहते हैं किशोर जी को अंग्रेज़ी क्लासिक फ़िल्में देखने का शौक था एक बार तो अमरीका से वो ढेर सारी वेस्टर्न फ़िल्मों की कैसेट ले आए यही नहीं वीकेंड पर अक्सर अमित कुमार उनके साथ एक के बाद एक तीन फ़िल्म शो देखकर थक कर घर लौटते थे मनमौजी किशोरअमित ने बताया कि किशोर जी ख़ुद मानते थे कि वो बहुत ही मनमौजी थे वो क्या करेंगे ये कोई नहीं जानता था अमित बताते हैं एक बार जब उनकी फ़िल्म की शूटिंग ख़त्म हुई और यूनिट के लोग उनसे पैसे मांगने आए तो किशोर बोले ये इतना ज़्यादा कैसे हो गया इतना तो नहीं होना चाहिए ये समझता क्या है अपने आप को डायरेक्टर ऐसा तो नहीं होगा मैं प्रोड्यूसर हूँ चलो भगाओ इस डायरेक्टर को इतना ज़्यादा खर्चा कर रहा है कौन है डायरेक्टर इस पर सबने कहा आप ही तो हैं इस पर किशोर बोले हाँ अरे वो तो मैं ही हूँ हंसते हुए अमित ने कहा कि ऐसे कई मज़ेदार क़िस्से होते थे उनके साथ किशोर दा को बाजा़र जाकर छोटी छोटी चीज़ें तरह तरह के आईटम ख़रीदेने का शौक था और एक बार वो ऐसे ही बाज़ार गए जहां अचानक मसूर की दाल देखकर उन्होंने तुरंत मसूरी घूमने का प्लैन बना लिया बस कुछ ऐसी ही मनमौजी प्रवृत्ति थी किशोर कुमार की यही बताया उनके बेटे अमित कुमार ने रेडियो की जानी मानी हस्ती अमीन सायानी ने बीबीसी को बताया कि बड़े ही मज़ेदार आदमी थे किशोर उनका दिल बहुत अच्छा था पर बेहद शरारती भी थे एक दफ़ा तो उन्होंने इंटरव्यू भी अमीन साहब को इसी शर्त पर दिया कि वो अपने आप को ख़ुद ही इंटरव्यू करेंगे इसके बाद अमीन सायानी को दिए एक और इंटरव्यू में किशोर कुमार ने ख़ूबसूरत अंदाज़ में सचिन देव बर्मन के साथ पहली मुलाक़ात की नकल करके दिखाई किशोर कुमार ने कई गायकों के साथ जुगलबंदी की और सभी के चहेते थे वो सिंगर मन्ना डे कहते हैं कि किशोर दा ने संगीत की शिक्षा नहीं ली थी उनकी गायकी उन्हें ईश्वर की देन थी मन्ना डे ने कहा कि हालांकि मन्ना डे ख़ुद संगीत में पारंगत थे पर फिर भी जब वो किशोर के साथ गाते तो वो कमर कस के गाते थे उन्होंने कहा कि किशोर की तुलना किसी से भी नहीं की जा सकती मन्ना डे ने बताया कि फ़िल्म पड़ोसन के हिट गीत चतुर नार की रिकॉर्डिंग में तो पूरे घंटे लग गए जिसमें से तीन घंटे तो किशोर दा की बातों पर हंस हंस कर सब का पेट दर्द हो गया हरफनमौलासंगीत निर्देशक राजेश रौशन किशोर दा को याद करते हुए कहते हैं कि वो इतना डूब कर गाते थे कि गाने का क्या रुप और रंग होना चाहिए ये वो संगीत निर्देशक से भी बेहतर समझते थे और आज तक उनका सबसे पसंदीदा गीत है हिट फ़िल्म जूली का गाया हुआ गाना दिल क्या करे बतौर एक्टर किशोर कुमार ने चलती का नाम गाड़ी हॉफ़ टिकेट पड़ोसन और झुमरु जैसी कई फ़िल्मों में काम किया फ़िल्म निर्माता और निर्देशक यश चोपड़ा कहते हैं कि किशोर न सिर्फ़ गायक थे बल्कि एक एक्टर प्रोड्यूसर निर्देशक निर्माता लेखक म्यूज़िक कम्पोज़रसभी कुछ थे उन्होंने कहा कि जिस तरह से किशोर अपने गानों में फ़िल्म के सीन के पूर भाव डाल देते थे वो बेमिसाल था यश चोपड़ा भी किशोर कुमार की शरारतों के बारे में बात किए बिना नहीं रह पाए और उन्होंने माना कि किशोर लोगों को रिकॉर्डिंग के समय बहुत ही हंसाते थे किशोर कुमार के साथ कई स्टेज शो में हिस्सा ले चुके उनके मित्र गायक भूपेन्द्र सिंह का कहना है कि उनकी आवाज़ सबसे अलग थी और किसी गाने में किस जगह क्या डालना है ये वो बख़ूबी जानते थेसत्तर का दशक हो या फिर आज का समय किशोर कुमार के गाने हर युग के लोगों के होठों पर रहते हैं और किशोर के साथ बहुत सी फ़िल्मों में काम कर चुके संगीत निर्देशक बप्पी लाहिरी कहते हैं कि किशोर के गानों में कॉमेडी रोमांस और बहुत से भाव होते थे उन्होंने कहा कि किशोर कुमार रिकॉर्डिंग के समय ही बोल देते थे कि गाना हिट होगा या नहीं वो मानते हैं कि किशोर कुमार जैसा न कभी कोई हुआ है और न कभी कोई होगा रुमा घोष मधुबाला और योगिता बाली के बाद शायद अपने सपनों की रानी किशोर दा को मिली अपनी चौथी पत्नी लीना चंद्रवरकर के रुप में लीना ने बताया एकदम बच्चों जैसे थे किशोर छोटी छोटी बातों से इतना ख़ुश हो जाते थे कभी कभी बारिश को देख इतना ख़ुश हो जाते मानो पहली बार देख रहे हों उन्हें लोगों को चौंकाने में बहुत ही आनंद आता था वो विदेश से कई तरह के मुखौटे लाए थे और एक बार तो उनका चौकीदार ही उनको देखकर डर गया ऐसी शरारतें करने मे वो माहिर थे लीना ने ये भी बताया कि किशोर कहते थे कि जब वो इस दुनिया में नहीं रहेंगे तब भी उन्हें कोई नहीं भूलेगा और उन्हें हमेशा याद रखेंगे उनके चाहने वाले सच ही तो कहा था किशोर दा ने उन्होंने हम सभी के दिल में अपनी ऐसी तस्वीर बना ली है जिसे समय की लहरें मिटा ही नहीं सकती और उनके अमर गीत तो हमेशा हमेशा ही याद रखे जाएँगे ', 'category': 'entertainment'}\n"
          ]
        }
      ],
      "source": [
        "for key in list(data.keys())[10:20]:\n",
        "    print(key,data[key])"
      ]
    },
    {
      "cell_type": "code",
      "execution_count": null,
      "metadata": {
        "id": "i5LyehTJPaY3"
      },
      "outputs": [],
      "source": [
        "with open('hindi_vocab.pkl','rb') as f:\n",
        "    hindi_vocab=pickle.load(f)"
      ]
    },
    {
      "cell_type": "code",
      "execution_count": null,
      "metadata": {
        "id": "CwCspmUWPtOT"
      },
      "outputs": [],
      "source": [
        "from collections import Counter\n",
        "tf_idf = {}\n",
        "num_doc=len(data)\n",
        "for key in data:\n",
        "    words = indic_tokenize.trivial_tokenize(data[key]['text'])\n",
        "    words = [word.replace(\"\\u200d\",\"\") for word in words]\n",
        "    counter = Counter(words)\n",
        "    words_count = len(words)\n",
        "    for word in np.unique(words):\n",
        "        if hindi_vocab.get(word,0):\n",
        "            tf = counter[word]/words_count\n",
        "            df = hindi_vocab[word]['plength']\n",
        "            idf = np.log((num_doc+1)/(df+1))\n",
        "            tf_idf[key,word] = round(tf*idf,5)\n",
        "\n",
        "vocab=list(hindi_vocab.keys())\n",
        "vocab_size=len(vocab)\n",
        "Document_vector = np.zeros((num_doc, vocab_size))\n",
        "for i in tf_idf:\n",
        "    index = hindi_vocab[i[1]]['idx']\n",
        "    Document_vector[i[0]][index] = tf_idf[i]"
      ]
    },
    {
      "cell_type": "code",
      "execution_count": null,
      "metadata": {
        "colab": {
          "base_uri": "https://localhost:8080/"
        },
        "id": "L5uByQnut2Pr",
        "outputId": "b6e62ed4-9ec6-45a2-ddb2-567fc145c14b"
      },
      "outputs": [
        {
          "name": "stdout",
          "output_type": "stream",
          "text": [
            "(3467, 23103)\n",
            "[[0.01229 0.01734 0.00166 ... 0.      0.      0.     ]\n",
            " [0.      0.      0.      ... 0.      0.      0.     ]\n",
            " [0.      0.      0.      ... 0.      0.      0.     ]\n",
            " ...\n",
            " [0.      0.      0.00617 ... 0.      0.      0.     ]\n",
            " [0.      0.      0.00159 ... 0.      0.      0.     ]\n",
            " [0.      0.      0.      ... 0.      0.      0.     ]]\n"
          ]
        }
      ],
      "source": [
        "print(Document_vector.shape)\n",
        "print(Document_vector[:10])"
      ]
    },
    {
      "cell_type": "code",
      "execution_count": null,
      "metadata": {
        "id": "nDw7JumOPzR5"
      },
      "outputs": [],
      "source": [
        "from sklearn.decomposition import TruncatedSVD\n",
        "from scipy.sparse import csr_matrix\n",
        "import numpy as np"
      ]
    },
    {
      "cell_type": "code",
      "execution_count": null,
      "metadata": {
        "colab": {
          "base_uri": "https://localhost:8080/"
        },
        "id": "XD6ubvBBuv6J",
        "outputId": "88439f88-61aa-4ff5-f2ad-178773a57668"
      },
      "outputs": [
        {
          "name": "stdout",
          "output_type": "stream",
          "text": [
            "(3467, 25)\n"
          ]
        }
      ],
      "source": [
        "# Truncated SVD with randomised algorithm\n",
        "matrix=csr_matrix(Document_vector)\n",
        "svd = TruncatedSVD(n_components=25, n_iter=50, random_state=42)\n",
        "random_DV=svd.fit_transform(matrix)\n",
        "print(random_DV.shape)"
      ]
    },
    {
      "cell_type": "code",
      "execution_count": null,
      "metadata": {
        "colab": {
          "base_uri": "https://localhost:8080/"
        },
        "id": "s0rTAmqayEVg",
        "outputId": "2e282202-ada7-4d79-9e06-7774bbb095a0"
      },
      "outputs": [
        {
          "name": "stdout",
          "output_type": "stream",
          "text": [
            "300\n"
          ]
        }
      ],
      "source": [
        "print(len(random_DV[0]))"
      ]
    },
    {
      "cell_type": "code",
      "execution_count": null,
      "metadata": {
        "colab": {
          "base_uri": "https://localhost:8080/"
        },
        "id": "2_TMsffUtMqq",
        "outputId": "0776a623-0f36-48f1-b43c-478850ce52c1"
      },
      "outputs": [
        {
          "name": "stdout",
          "output_type": "stream",
          "text": [
            "(3467, 300)\n"
          ]
        }
      ],
      "source": [
        "# Truncated SVD with arpack algorithm\n",
        "matrix=csr_matrix(Document_vector)\n",
        "svd = TruncatedSVD(n_components=300, n_iter=10, random_state=42,algorithm='arpack')\n",
        "arpack_DV=svd.fit_transform(matrix)\n",
        "print(arpack_DV.shape)"
      ]
    },
    {
      "cell_type": "code",
      "execution_count": null,
      "metadata": {
        "id": "e4uhXDCdyQiH"
      },
      "outputs": [],
      "source": [
        "print(arpack_DV[0])"
      ]
    },
    {
      "cell_type": "code",
      "execution_count": null,
      "metadata": {
        "colab": {
          "base_uri": "https://localhost:8080/",
          "height": 206
        },
        "id": "mgbBZ-gT1vKR",
        "outputId": "689cda90-77b7-4197-a5e9-008b89a8a9a8"
      },
      "outputs": [
        {
          "data": {
            "text/html": [
              "\n",
              "  <div id=\"df-f745586e-f922-48e0-981b-a77dd3c2ba2c\">\n",
              "    <div class=\"colab-df-container\">\n",
              "      <div>\n",
              "<style scoped>\n",
              "    .dataframe tbody tr th:only-of-type {\n",
              "        vertical-align: middle;\n",
              "    }\n",
              "\n",
              "    .dataframe tbody tr th {\n",
              "        vertical-align: top;\n",
              "    }\n",
              "\n",
              "    .dataframe thead th {\n",
              "        text-align: right;\n",
              "    }\n",
              "</style>\n",
              "<table border=\"1\" class=\"dataframe\">\n",
              "  <thead>\n",
              "    <tr style=\"text-align: right;\">\n",
              "      <th></th>\n",
              "      <th>0</th>\n",
              "      <th>1</th>\n",
              "    </tr>\n",
              "  </thead>\n",
              "  <tbody>\n",
              "    <tr>\n",
              "      <th>0</th>\n",
              "      <td>india</td>\n",
              "      <td>मेट्रो की इस लाइन के चलने से दक्षिणी दिल्ली से...</td>\n",
              "    </tr>\n",
              "    <tr>\n",
              "      <th>1</th>\n",
              "      <td>pakistan</td>\n",
              "      <td>नेटिजन यानि इंटरनेट पर सक्रिय नागरिक अब ट्विटर...</td>\n",
              "    </tr>\n",
              "    <tr>\n",
              "      <th>2</th>\n",
              "      <td>news</td>\n",
              "      <td>इसमें एक फ़्लाइट एटेनडेंट की मदद की गुहार है औ...</td>\n",
              "    </tr>\n",
              "    <tr>\n",
              "      <th>3</th>\n",
              "      <td>india</td>\n",
              "      <td>प्रतीक खुलेपन का, आज़ाद ख्याली का और भीड़ से अ...</td>\n",
              "    </tr>\n",
              "    <tr>\n",
              "      <th>4</th>\n",
              "      <td>india</td>\n",
              "      <td>ख़ासकर पिछले 10 साल तक प्रधानमंत्री रहे मनमोहन...</td>\n",
              "    </tr>\n",
              "  </tbody>\n",
              "</table>\n",
              "</div>\n",
              "      <button class=\"colab-df-convert\" onclick=\"convertToInteractive('df-f745586e-f922-48e0-981b-a77dd3c2ba2c')\"\n",
              "              title=\"Convert this dataframe to an interactive table.\"\n",
              "              style=\"display:none;\">\n",
              "        \n",
              "  <svg xmlns=\"http://www.w3.org/2000/svg\" height=\"24px\"viewBox=\"0 0 24 24\"\n",
              "       width=\"24px\">\n",
              "    <path d=\"M0 0h24v24H0V0z\" fill=\"none\"/>\n",
              "    <path d=\"M18.56 5.44l.94 2.06.94-2.06 2.06-.94-2.06-.94-.94-2.06-.94 2.06-2.06.94zm-11 1L8.5 8.5l.94-2.06 2.06-.94-2.06-.94L8.5 2.5l-.94 2.06-2.06.94zm10 10l.94 2.06.94-2.06 2.06-.94-2.06-.94-.94-2.06-.94 2.06-2.06.94z\"/><path d=\"M17.41 7.96l-1.37-1.37c-.4-.4-.92-.59-1.43-.59-.52 0-1.04.2-1.43.59L10.3 9.45l-7.72 7.72c-.78.78-.78 2.05 0 2.83L4 21.41c.39.39.9.59 1.41.59.51 0 1.02-.2 1.41-.59l7.78-7.78 2.81-2.81c.8-.78.8-2.07 0-2.86zM5.41 20L4 18.59l7.72-7.72 1.47 1.35L5.41 20z\"/>\n",
              "  </svg>\n",
              "      </button>\n",
              "      \n",
              "  <style>\n",
              "    .colab-df-container {\n",
              "      display:flex;\n",
              "      flex-wrap:wrap;\n",
              "      gap: 12px;\n",
              "    }\n",
              "\n",
              "    .colab-df-convert {\n",
              "      background-color: #E8F0FE;\n",
              "      border: none;\n",
              "      border-radius: 50%;\n",
              "      cursor: pointer;\n",
              "      display: none;\n",
              "      fill: #1967D2;\n",
              "      height: 32px;\n",
              "      padding: 0 0 0 0;\n",
              "      width: 32px;\n",
              "    }\n",
              "\n",
              "    .colab-df-convert:hover {\n",
              "      background-color: #E2EBFA;\n",
              "      box-shadow: 0px 1px 2px rgba(60, 64, 67, 0.3), 0px 1px 3px 1px rgba(60, 64, 67, 0.15);\n",
              "      fill: #174EA6;\n",
              "    }\n",
              "\n",
              "    [theme=dark] .colab-df-convert {\n",
              "      background-color: #3B4455;\n",
              "      fill: #D2E3FC;\n",
              "    }\n",
              "\n",
              "    [theme=dark] .colab-df-convert:hover {\n",
              "      background-color: #434B5C;\n",
              "      box-shadow: 0px 1px 3px 1px rgba(0, 0, 0, 0.15);\n",
              "      filter: drop-shadow(0px 1px 2px rgba(0, 0, 0, 0.3));\n",
              "      fill: #FFFFFF;\n",
              "    }\n",
              "  </style>\n",
              "\n",
              "      <script>\n",
              "        const buttonEl =\n",
              "          document.querySelector('#df-f745586e-f922-48e0-981b-a77dd3c2ba2c button.colab-df-convert');\n",
              "        buttonEl.style.display =\n",
              "          google.colab.kernel.accessAllowed ? 'block' : 'none';\n",
              "\n",
              "        async function convertToInteractive(key) {\n",
              "          const element = document.querySelector('#df-f745586e-f922-48e0-981b-a77dd3c2ba2c');\n",
              "          const dataTable =\n",
              "            await google.colab.kernel.invokeFunction('convertToInteractive',\n",
              "                                                     [key], {});\n",
              "          if (!dataTable) return;\n",
              "\n",
              "          const docLinkHtml = 'Like what you see? Visit the ' +\n",
              "            '<a target=\"_blank\" href=https://colab.research.google.com/notebooks/data_table.ipynb>data table notebook</a>'\n",
              "            + ' to learn more about interactive tables.';\n",
              "          element.innerHTML = '';\n",
              "          dataTable['output_type'] = 'display_data';\n",
              "          await google.colab.output.renderOutput(dataTable, element);\n",
              "          const docLink = document.createElement('div');\n",
              "          docLink.innerHTML = docLinkHtml;\n",
              "          element.appendChild(docLink);\n",
              "        }\n",
              "      </script>\n",
              "    </div>\n",
              "  </div>\n",
              "  "
            ],
            "text/plain": [
              "          0                                                  1\n",
              "0     india  मेट्रो की इस लाइन के चलने से दक्षिणी दिल्ली से...\n",
              "1  pakistan  नेटिजन यानि इंटरनेट पर सक्रिय नागरिक अब ट्विटर...\n",
              "2      news  इसमें एक फ़्लाइट एटेनडेंट की मदद की गुहार है औ...\n",
              "3     india  प्रतीक खुलेपन का, आज़ाद ख्याली का और भीड़ से अ...\n",
              "4     india  ख़ासकर पिछले 10 साल तक प्रधानमंत्री रहे मनमोहन..."
            ]
          },
          "execution_count": 104,
          "metadata": {},
          "output_type": "execute_result"
        }
      ],
      "source": [
        "dataframe.head()"
      ]
    },
    {
      "cell_type": "code",
      "execution_count": null,
      "metadata": {
        "colab": {
          "base_uri": "https://localhost:8080/"
        },
        "id": "yKSdMvBj2lVU",
        "outputId": "33f708f9-a8df-41fe-8b6e-7637a5acfbf5"
      },
      "outputs": [
        {
          "name": "stdout",
          "output_type": "stream",
          "text": [
            "3467\n",
            "[3 9 8 ... 8 2 2]\n",
            "14\n"
          ]
        }
      ],
      "source": []
    },
    {
      "cell_type": "code",
      "execution_count": null,
      "metadata": {
        "id": "NMw708t4620j"
      },
      "outputs": [],
      "source": []
    },
    {
      "cell_type": "code",
      "execution_count": null,
      "metadata": {
        "id": "1-py6-9O0eRT"
      },
      "outputs": [],
      "source": [
        "from sklearn.cluster import KMeans\n",
        "import numpy as np\n",
        "kmeans_random_DV = KMeans(n_clusters=14, random_state=0,algorithm='full',n_init=20,max_iter=500).fit(random_DV)\n",
        "#kmeans_arpack_DV = KMeans(n_clusters=14, random_state=0).fit(arpack_DV)"
      ]
    },
    {
      "cell_type": "code",
      "execution_count": null,
      "metadata": {
        "colab": {
          "base_uri": "https://localhost:8080/"
        },
        "id": "6Eb15KV70_8H",
        "outputId": "19b3faac-bc70-4305-9d5f-f6bf75521009"
      },
      "outputs": [
        {
          "data": {
            "text/plain": [
              "14"
            ]
          },
          "execution_count": 110,
          "metadata": {},
          "output_type": "execute_result"
        }
      ],
      "source": [
        "predicted_labels=kmeans_random_DV.labels_\n",
        "len(kmeans_random_DV.cluster_centers_)"
      ]
    },
    {
      "cell_type": "code",
      "execution_count": null,
      "metadata": {
        "id": "xVbwgOLZT0pl"
      },
      "outputs": [],
      "source": []
    },
    {
      "cell_type": "code",
      "execution_count": null,
      "metadata": {
        "id": "MelXIzyg5DTY"
      },
      "outputs": [],
      "source": []
    },
    {
      "cell_type": "code",
      "execution_count": null,
      "metadata": {
        "colab": {
          "base_uri": "https://localhost:8080/"
        },
        "id": "N8x4LoUI6Fhd",
        "outputId": "7645772e-8400-4915-900f-422f34778abc"
      },
      "outputs": [
        {
          "name": "stdout",
          "output_type": "stream",
          "text": [
            "[-1 -1 -1 ... -1 -1 -1]\n"
          ]
        }
      ],
      "source": [
        "from sklearn.cluster import DBSCAN\n",
        "X = np.array([[1, 2], [2, 2], [2, 3],[8, 7], [8, 8], [25, 80]])\n",
        "clustering = DBSCAN(eps=0.03, min_samples=4).fit(random_DV)\n",
        "predicted_labels=clustering.labels_\n",
        "print(predicted_labels)\n",
        "# rand_score=metrics.rand_score(true_labels, predicted_labels)\n",
        "# mutual_score=metrics.mutual_info_score(true_labels, predicted_labels)\n",
        "# homo_score=metrics.homogeneity_score(true_labels, predicted_labels)\n",
        "# complete_score=metrics.completeness_score(true_labels, predicted_labels)\n",
        "# v_score=metrics.v_measure_score(true_labels, predicted_labels)\n",
        "# fm_score=metrics.fowlkes_mallows_score(true_labels, predicted_labels)\n",
        "# silhoutte_score=metrics.silhouette_score(random_DV, predicted_labels, metric='euclidean')\n",
        "# calinski_score=metrics.calinski_harabasz_score(random_DV, predicted_labels)\n",
        "# davies_score=davies_bouldin_score(random_DV, labels)\n",
        "# print(\"rand_Score: \", rand_score)\n",
        "# print(\"mutual_score: \",mutual_score)\n",
        "# print(\"homo_score: \",homo_score)\n",
        "# print(\"completeness_score: \",complete_score)\n",
        "# print(\"V-score: \",v_score)\n",
        "# print(\"fowlkes mallows: \",fm_score)\n",
        "# print(\"silhoutte score: \",silhoutte_score)\n",
        "# print(\"calinski_score: \",calinski_score)\n",
        "# print(\"davies score: \",davies_score)"
      ]
    },
    {
      "cell_type": "markdown",
      "metadata": {
        "id": "1IXwrr-jl9-f"
      },
      "source": [
        "# Evaluation Metric API"
      ]
    },
    {
      "cell_type": "code",
      "execution_count": null,
      "metadata": {
        "id": "o6qurAtHl9PZ"
      },
      "outputs": [],
      "source": []
    },
    {
      "cell_type": "markdown",
      "metadata": {
        "id": "bHJlF1qGhqsV"
      },
      "source": [
        "# Kmeans API"
      ]
    },
    {
      "cell_type": "code",
      "execution_count": null,
      "metadata": {
        "id": "rs0Npnfnk4m8"
      },
      "outputs": [],
      "source": []
    },
    {
      "cell_type": "markdown",
      "metadata": {
        "id": "9XyPWBI05wbk"
      },
      "source": [
        "# Document embedding **using** TF-IDF"
      ]
    },
    {
      "cell_type": "code",
      "execution_count": null,
      "metadata": {
        "id": "oaMGW74T6AJv"
      },
      "outputs": [],
      "source": [
        "corpus=[]\n",
        "for key in data:\n",
        "    corpus.append(data[key]['text'])"
      ]
    },
    {
      "cell_type": "code",
      "execution_count": null,
      "metadata": {
        "colab": {
          "base_uri": "https://localhost:8080/"
        },
        "id": "SifJX_Uicua_",
        "outputId": "fb992609-c51d-40a3-9dcf-77a9a6315e8f"
      },
      "outputs": [
        {
          "data": {
            "text/plain": [
              "3467"
            ]
          },
          "execution_count": 102,
          "metadata": {},
          "output_type": "execute_result"
        }
      ],
      "source": [
        "len(corpus)"
      ]
    },
    {
      "cell_type": "code",
      "execution_count": null,
      "metadata": {
        "colab": {
          "base_uri": "https://localhost:8080/"
        },
        "id": "YpiKsqEadLrG",
        "outputId": "028a1281-967c-4de4-8087-467b4157e554"
      },
      "outputs": [
        {
          "name": "stdout",
          "output_type": "stream",
          "text": [
            "n_samples: 3467, n_features: 300\n",
            "\n",
            "Explained variance of the SVD step: 62%\n",
            "\n",
            "Clustering sparse data with KMeans(max_iter=100, n_clusters=14)\n",
            "\n",
            "rand_score: 0.714\n",
            "Homogeneity: 0.228\n",
            "Completeness: 0.170\n",
            "V-measure: 0.195\n",
            "Adjusted Rand-Index: 0.069\n",
            "Silhouette Coefficient: 0.021\n",
            "\n",
            "Cluster 0: और कर पर कप रह इस एक नह रत अपन\n",
            "Cluster 1: और पर कर इस एक मल उन कह गय रह\n",
            "Cluster 2: और पर कर नह एक रह इस उन उनक हम\n",
            "Cluster 3: हमल चरमप और पर कर एक इस गए रह धम\n",
            "Cluster 4: बच और पर कर इस एक रह नह कह यह\n",
            "Cluster 5: पन और कर पर इस एक इट रह करन सकत\n",
            "Cluster 6: अमर और ओब पर रपत कर इस कह रह नह\n",
            "Cluster 7: और पर इस कर एक रह यह गय तर रत\n",
            "Cluster 8: इसर इल लस और पर हमल हम शलम कर कह\n",
            "Cluster 9: और सरक पर कर इस कह रत रह नह उन\n",
            "Cluster 10: रन ओवर बन आउट और पर बल रत कर छक\n",
            "Cluster 11: जप और दव पर कर रह नह कह जनत दल\n",
            "Cluster 12: ओल पदक वर रत और इनल पर कर टर रजत\n",
            "Cluster 13: सलम और पर कर रह नह इस एक उन रत\n"
          ]
        }
      ],
      "source": [
        "\n",
        "from sklearn.decomposition import TruncatedSVD\n",
        "from sklearn.feature_extraction.text import TfidfVectorizer\n",
        "from sklearn.feature_extraction.text import HashingVectorizer\n",
        "from sklearn.feature_extraction.text import TfidfTransformer\n",
        "from sklearn.pipeline import make_pipeline\n",
        "from sklearn.preprocessing import Normalizer\n",
        "from sklearn import metrics\n",
        "\n",
        "from sklearn.cluster import KMeans, MiniBatchKMeans\n",
        "\n",
        "import logging\n",
        "from optparse import OptionParser\n",
        "import sys\n",
        "from time import time\n",
        "\n",
        "import numpy as np\n",
        "from sklearn.cluster import Birch\n",
        "\n",
        "# labels = dataset.target\n",
        "# true_k = np.unique(labels).shape[0]\n",
        "\n",
        "# print(\"Extracting features from the training dataset using a sparse vectorizer\")\n",
        "\n",
        "# hasher = HashingVectorizer(\n",
        "#             n_features=opts.n_features,\n",
        "#             stop_words=\"english\",\n",
        "#             alternate_sign=False,\n",
        "#             norm=None,\n",
        "#         )\n",
        "\n",
        "# vectorizer = make_pipeline(hasher, TfidfTransformer())\n",
        "#     else:\n",
        "#         vectorizer = HashingVectorizer(\n",
        "#             n_features=opts.n_features,\n",
        "#             stop_words=\"english\",\n",
        "#             alternate_sign=False,\n",
        "#             norm=\"l2\",\n",
        "#         )\n",
        "# else:\n",
        "\n",
        "\n",
        "print(\"n_samples: %d, n_features: %d\" % X.shape)\n",
        "print()\n",
        "\n",
        "\n",
        "\n",
        "explained_variance = svd.explained_variance_ratio_.sum()\n",
        "print(\n",
        "    \"Explained variance of the SVD step: {}%\".format(int(explained_variance * 100))\n",
        ")\n",
        "\n",
        "print()\n",
        "\n",
        "\n",
        "# if opts.minibatch:\n",
        "#     km = MiniBatchKMeans(\n",
        "#         n_clusters=true_k,\n",
        "#         init=\"k-means++\",\n",
        "#         n_init=1,\n",
        "#         init_size=1000,\n",
        "#         batch_size=1000,\n",
        "#         verbose=opts.verbose,\n",
        "#     )\n",
        "# else:\n",
        "# km = KMeans(\n",
        "#     n_clusters=14,\n",
        "#     init=\"k-means++\",\n",
        "#     max_iter=100,\n",
        "#     n_init=10,\n",
        "# )\n",
        "\n",
        "\n",
        "\n",
        "print(\"Clustering sparse data with %s\" % km)\n",
        "km.fit(X)\n",
        "print()\n",
        "print(\"rand_score: %0.3f\" % metrics.rand_score(true_labels, km.labels_))\n",
        "print(\"Homogeneity: %0.3f\" % metrics.homogeneity_score(true_labels, km.labels_))\n",
        "print(\"Completeness: %0.3f\" % metrics.completeness_score(true_labels, km.labels_))\n",
        "print(\"V-measure: %0.3f\" % metrics.v_measure_score(true_labels, km.labels_))\n",
        "print(\"Adjusted Rand-Index: %.3f\" % metrics.adjusted_rand_score(true_labels, km.labels_))\n",
        "print(\n",
        "    \"Silhouette Coefficient: %0.3f\"\n",
        "    % metrics.silhouette_score(X, km.labels_, sample_size=1000)\n",
        ")\n",
        "\n",
        "print()\n",
        "\n",
        "# if opts.n_components:\n",
        "original_space_centroids = svd.inverse_transform(km.cluster_centers_)\n",
        "order_centroids = original_space_centroids.argsort()[:, ::-1]\n",
        "# else:\n",
        "#     order_centroids = km.cluster_centers_.argsort()[:, ::-1]\n",
        "\n",
        "terms = vectorizer.get_feature_names_out()\n",
        "for i in range(14):\n",
        "    print(\"Cluster %d:\" % i, end=\"\")\n",
        "    for ind in order_centroids[i, :10]:\n",
        "        print(\" %s\" % terms[ind], end=\"\")\n",
        "    print()"
      ]
    },
    {
      "cell_type": "code",
      "execution_count": null,
      "metadata": {
        "id": "EzBL1C7KEUcW"
      },
      "outputs": [],
      "source": []
    },
    {
      "cell_type": "code",
      "execution_count": null,
      "metadata": {
        "id": "EwdI51IcdY7n"
      },
      "outputs": [],
      "source": [
        "!ls"
      ]
    },
    {
      "cell_type": "markdown",
      "metadata": {
        "id": "wpWH1onCu8hD"
      },
      "source": [
        "# Gensim based document embeddings"
      ]
    },
    {
      "cell_type": "code",
      "execution_count": null,
      "metadata": {
        "colab": {
          "base_uri": "https://localhost:8080/"
        },
        "id": "PNGjAuBXxqtw",
        "outputId": "725fa045-500b-470b-82c7-165cae2cbd72"
      },
      "outputs": [
        {
          "name": "stdout",
          "output_type": "stream",
          "text": [
            "Mounted at /content/drive/\n",
            "Archive:  /content/drive/MyDrive/CorpusDicts.zip\n",
            "  inflating: banglaDict.pkl          \n",
            "  inflating: banglaDictNoStopwords.pkl  \n",
            "  inflating: hindiDict.pkl           \n",
            "  inflating: hindiDictNoStopwords.pkl  \n",
            "  inflating: tamilDict.pkl           \n",
            "  inflating: tamilDictNoStopwords.pkl  \n"
          ]
        }
      ],
      "source": [
        "from google.colab import drive\n",
        "drive.mount('/content/drive/')\n",
        "!unzip \"/content/drive/MyDrive/CorpusDicts.zip\""
      ]
    },
    {
      "cell_type": "code",
      "execution_count": null,
      "metadata": {
        "colab": {
          "base_uri": "https://localhost:8080/"
        },
        "id": "d_jkyFgqpbVt",
        "outputId": "f762ce06-3ddb-44e7-9e6e-8598294b68fe"
      },
      "outputs": [
        {
          "name": "stdout",
          "output_type": "stream",
          "text": [
            "Cloning into 'indic_nlp_library'...\n",
            "remote: Enumerating objects: 1325, done.\u001b[K\n",
            "remote: Counting objects: 100% (107/107), done.\u001b[K\n",
            "remote: Compressing objects: 100% (25/25), done.\u001b[K\n",
            "remote: Total 1325 (delta 91), reused 82 (delta 82), pack-reused 1218\u001b[K\n",
            "Receiving objects: 100% (1325/1325), 9.55 MiB | 8.91 MiB/s, done.\n",
            "Resolving deltas: 100% (701/701), done.\n",
            "Cloning into 'indic_nlp_resources'...\n",
            "remote: Enumerating objects: 139, done.\u001b[K\n",
            "remote: Counting objects: 100% (13/13), done.\u001b[K\n",
            "remote: Compressing objects: 100% (13/13), done.\u001b[K\n",
            "remote: Total 139 (delta 2), reused 2 (delta 0), pack-reused 126\u001b[K\n",
            "Receiving objects: 100% (139/139), 149.77 MiB | 29.51 MiB/s, done.\n",
            "Resolving deltas: 100% (53/53), done.\n",
            "Checking out files: 100% (28/28), done.\n",
            "Collecting Morfessor\n",
            "  Downloading Morfessor-2.0.6-py3-none-any.whl (35 kB)\n",
            "Installing collected packages: Morfessor\n",
            "Successfully installed Morfessor-2.0.6\n"
          ]
        }
      ],
      "source": [
        "!git clone \"https://github.com/anoopkunchukuttan/indic_nlp_library\"\n",
        "!git clone https://github.com/anoopkunchukuttan/indic_nlp_resources.git\n",
        "!pip install Morfessor\n",
        "INDIC_NLP_LIB_HOME=r\"/content/indic_nlp_library\"\n",
        "INDIC_NLP_RESOURCES=\"/content/indic_nlp_resources\"\n",
        "import sys\n",
        "sys.path.append(r'{}'.format(INDIC_NLP_LIB_HOME))\n",
        "from indicnlp import common\n",
        "common.set_resources_path(INDIC_NLP_RESOURCES)\n",
        "from indicnlp import loader\n",
        "from numpy import dot\n",
        "from numpy.linalg import norm\n",
        "from gensim.models import Word2Vec\n",
        "import numpy as np\n",
        "import time\n",
        "from indicnlp.tokenize import indic_tokenize\n",
        "import pandas as pd\n",
        "import re\n",
        "from sklearn import preprocessing\n",
        "from collections import defaultdict\n",
        "from gensim import corpora\n",
        "from gensim import models\n",
        "from sklearn.metrics import davies_bouldin_score\n",
        "from sklearn.cluster import KMeans\n",
        "from sklearn.decomposition import TruncatedSVD\n",
        "from sklearn.feature_extraction.text import TfidfVectorizer\n",
        "from sklearn.feature_extraction.text import HashingVectorizer\n",
        "from sklearn.feature_extraction.text import TfidfTransformer\n",
        "from sklearn.pipeline import make_pipeline\n",
        "from sklearn.preprocessing import Normalizer\n",
        "from sklearn import metrics\n",
        "from sklearn.cluster import KMeans, MiniBatchKMeans\n",
        "from sklearn.cluster import Birch,DBSCAN\n",
        "from sklearn.mixture import GaussianMixture"
      ]
    },
    {
      "cell_type": "code",
      "execution_count": null,
      "metadata": {
        "id": "b9BzDQFoqmbw"
      },
      "outputs": [],
      "source": [
        "import pickle\n"
      ]
    },
    {
      "cell_type": "code",
      "execution_count": null,
      "metadata": {
        "id": "laI_fQcAP2ZC"
      },
      "outputs": [],
      "source": [
        "\n",
        "#dataframe=pd.read_csv(\"./hi/hi-train.csv\",header=None)\n",
        "with open('hindiDictNoStopwords.pkl','rb') as f:\n",
        "    data=pickle.load(f)\n",
        "\n",
        "labels = []\n",
        "for key in data:\n",
        "    labels.append(data[key]['category'])\n",
        "le = preprocessing.LabelEncoder()\n",
        "le.fit(labels)\n",
        "labels=le.transform(labels)\n",
        "true_labels=np.array(labels)\n",
        "\n",
        "\n",
        "# def create_data(dataframe):\n",
        "\n",
        "#     data={}\n",
        "#     doc_id=0\n",
        "#     for category,text in zip(dataframe[0].values,dataframe[1].values):\n",
        "#         data[doc_id]={}\n",
        "#         data[doc_id]['text']=text\n",
        "#         data[doc_id]['category']=category\n",
        "#         doc_id+=1\n",
        "#     p = re.compile(r'[^\\u0900-\\u097F\\n]')\n",
        "#     for key in data:\n",
        "#         text = data[key]['text']\n",
        "#         text = re.sub(\"\\s\\s+\", \" \", text)\n",
        "#         text = text.replace(\"(बीबीसी हिन्दी के एंड्रॉएड ऐप के लिए यहां क्लिक करें. आप हमें फ़ेसबुक और ट्विटर पर भी फ़ॉलो कर सकते हैं.)\",\"\")\n",
        "#         text = text.replace(\"(बीबीसी हिन्दी के एंड्रॉएड ऐप के लिए यहां क्लिक करें. आप हमें फ़ेसबुक और ट्विटर पर भी फ़ॉलो कर सकते हैं)\",\"\")\n",
        "#         text = text.replace(\"(बीबीसी हिंदी का एंड्रॉयड मोबाइल ऐप डाउनलोड करने के लिए क्लिक करें. आप ख़बरें पढ़ने और अपनी राय देने के लिए हमारे फ़ेसबुक पन्ने पर भी आ सकते हैं और ट्विटर पर फ़ॉलो भी कर सकते हैं.)\",\"\")\n",
        "#         text = p.sub(' ', text)\n",
        "#         text = re.sub(\"\\s\\s+\", \" \", text)\n",
        "#         data[key]['text']=text\n",
        "\n",
        "#     return data\n"
      ]
    },
    {
      "cell_type": "code",
      "execution_count": null,
      "metadata": {
        "colab": {
          "base_uri": "https://localhost:8080/"
        },
        "id": "Ao36q7n1yj9-",
        "outputId": "34a73b2e-35ed-459d-d22d-2ff675ed4ab0"
      },
      "outputs": [
        {
          "name": "stdout",
          "output_type": "stream",
          "text": [
            "{0, 1, 2, 3, 4, 5, 6, 7, 8}\n"
          ]
        }
      ],
      "source": [
        "print(set(true_labels))"
      ]
    },
    {
      "cell_type": "code",
      "execution_count": null,
      "metadata": {
        "id": "BK0ZWwRuo3s3"
      },
      "outputs": [],
      "source": [
        "\n",
        "def apply_kmeans(doc_vector):\n",
        "\n",
        "        kmeans = KMeans(n_clusters=8, random_state=0,algorithm='full',n_init=1,max_iter=100).fit(doc_vector)\n",
        "        predicted_labels=kmeans.labels_\n",
        "\n",
        "        return predicted_labels"
      ]
    },
    {
      "cell_type": "code",
      "execution_count": null,
      "metadata": {
        "id": "8BY4WO_bPiPe"
      },
      "outputs": [],
      "source": [
        "\n",
        "def apply_birch(doc_vector):\n",
        "\n",
        "    brc = Birch(n_clusters=8).fit(doc_vector)\n",
        "    predicted_labels=brc.labels_\n",
        "\n",
        "    return predicted_labels"
      ]
    },
    {
      "cell_type": "code",
      "execution_count": null,
      "metadata": {
        "id": "tCXTYLHLRrSD"
      },
      "outputs": [],
      "source": [
        "def apply_GMM(doc_vector):\n",
        "\n",
        "    gm = GaussianMixture(n_components=8, random_state=0).fit(doc_vector)\n",
        "    predicted_labels=gm.predict(doc_vector)\n",
        "    return predicted_labels"
      ]
    },
    {
      "cell_type": "code",
      "execution_count": null,
      "metadata": {
        "id": "6rhxcg1SpAs-"
      },
      "outputs": [],
      "source": [
        "\n",
        "def evaluate(true_labels,predicted_labels,doc_vector):\n",
        "\n",
        "    rand_score=metrics.rand_score(true_labels, predicted_labels)\n",
        "    mutual_score=metrics.mutual_info_score(true_labels, predicted_labels)\n",
        "    homo_score=metrics.homogeneity_score(true_labels, predicted_labels)\n",
        "    complete_score=metrics.completeness_score(true_labels, predicted_labels)\n",
        "    v_score=metrics.v_measure_score(true_labels, predicted_labels)\n",
        "    fm_score=metrics.fowlkes_mallows_score(true_labels, predicted_labels)\n",
        "    silhoutte_score=metrics.silhouette_score(doc_vector, predicted_labels, metric='euclidean')\n",
        "    calinski_score=metrics.calinski_harabasz_score(doc_vector, predicted_labels)\n",
        "    davies_score=davies_bouldin_score(doc_vector, labels)\n",
        "    print(\"rand_Score: \", rand_score)\n",
        "    print(\"mutual_score: \",mutual_score)\n",
        "    print(\"homo_score: \",homo_score)\n",
        "    print(\"completeness_score: \",complete_score)\n",
        "    print(\"V-score: \",v_score)\n",
        "    print(\"fowlkes mallows: \",fm_score)\n",
        "    print(\"silhoutte score: \",silhoutte_score)\n",
        "    print(\"calinski_score: \",calinski_score)\n",
        "    print(\"davies score: \",davies_score)\n",
        "\n",
        "    return [rand_score,mutual_score,homo_score,complete_score,v_score,fm_score,silhoutte_score, calinski_score,davies_score]"
      ]
    },
    {
      "cell_type": "code",
      "execution_count": null,
      "metadata": {
        "id": "-cxyRJl3HtOI"
      },
      "outputs": [],
      "source": [
        "def TF_IDF(data):\n",
        "    \n",
        "    corpus=[]\n",
        "    for key in data:\n",
        "        corpus.append(data[key]['text'])\n",
        "\n",
        "    vectorizer = TfidfVectorizer()\n",
        "    X = vectorizer.fit_transform(corpus)\n",
        "    svd = TruncatedSVD(30)\n",
        "    normalizer = Normalizer(copy=False)\n",
        "    lsa = make_pipeline(svd, normalizer)\n",
        "\n",
        "    X = lsa.fit_transform(X)\n",
        "\n",
        "    return X"
      ]
    },
    {
      "cell_type": "code",
      "execution_count": null,
      "metadata": {
        "id": "eQbLczDGu6sa"
      },
      "outputs": [],
      "source": [
        "def get_corpus_tfidf(data):\n",
        "\n",
        "    texts = [[word for word in indic_tokenize.trivial_tokenize(data[key]['text'])] for key in data]\n",
        "\n",
        "    frequency = defaultdict(int)\n",
        "    for text in texts:\n",
        "        for token in text:\n",
        "            frequency[token] += 1\n",
        "\n",
        "    texts = [[token for token in text if frequency[token]>1] for text in texts]\n",
        "\n",
        "    dictionary = corpora.Dictionary(texts)\n",
        "    corpus = [dictionary.doc2bow(text) for text in texts]\n",
        "    tfidf = models.TfidfModel(corpus)\n",
        "    corpus_tfidf = tfidf[corpus]\n",
        "\n",
        "    return corpus_tfidf,dictionary"
      ]
    },
    {
      "cell_type": "code",
      "execution_count": null,
      "metadata": {
        "id": "9beH0v2AvQAB"
      },
      "outputs": [],
      "source": [
        "def train_LSA(corpus_tfidf,dictionary):\n",
        "\n",
        "    lsi_model = models.LsiModel(corpus_tfidf, id2word=dictionary, num_topics=30)\n",
        "    corpus_lsi = lsi_model[corpus_tfidf]\n",
        "    doc_vector=[]\n",
        "    for embedding in corpus_lsi:\n",
        "        vector=[]\n",
        "        for id,value in embedding:\n",
        "            vector.append(value)\n",
        "        doc_vector.append(vector)\n",
        "    \n",
        "    doc_vector=np.array(doc_vector) \n",
        "\n",
        "    return doc_vector"
      ]
    },
    {
      "cell_type": "code",
      "execution_count": null,
      "metadata": {
        "id": "jCuX4aSo1JqV"
      },
      "outputs": [],
      "source": [
        "\n",
        "\n",
        "def train_RP(corpus_tfidf):\n",
        "\n",
        "    model = models.RpModel(corpus_tfidf, num_topics=30)\n",
        "    corpus_lsi = model[corpus_tfidf]\n",
        "    doc_vector=[]\n",
        "    for embedding in corpus_lsi:\n",
        "        vector=[]\n",
        "        for id,value in embedding:\n",
        "            vector.append(value)\n",
        "        doc_vector.append(vector)\n",
        "    \n",
        "    doc_vector=np.array(doc_vector) \n",
        "\n",
        "    return doc_vector"
      ]
    },
    {
      "cell_type": "code",
      "execution_count": null,
      "metadata": {
        "id": "GxPucs5H_wnF"
      },
      "outputs": [],
      "source": [
        "def train_LDA(corpus_tfidf,dictionary,dim):\n",
        "    \n",
        "    lda_model = models.LdaModel(corpus_tfidf, id2word=dictionary, num_topics=dim)\n",
        "    corpus_lda = lda_model[corpus_tfidf]\n",
        "    doc_vector=[]\n",
        "    for doc in corpus_lda:\n",
        "        vector=[0]*dim\n",
        "        for idx,value in doc:\n",
        "            vector[idx]=value\n",
        "        doc_vector.append(vector)\n",
        "    \n",
        "    dim-=10\n",
        "    svd = TruncatedSVD(dim)\n",
        "    normalizer = Normalizer(copy=False)\n",
        "    lsa = make_pipeline(svd, normalizer)\n",
        "\n",
        "    doc_vector = lsa.fit_transform(doc_vector)\n",
        "\n",
        "    doc_vector=np.array(doc_vector) \n",
        "\n",
        "    return doc_vector"
      ]
    },
    {
      "cell_type": "code",
      "execution_count": null,
      "metadata": {
        "id": "fzywz8o11bXQ"
      },
      "outputs": [],
      "source": [
        "def KMEANS_results(data):\n",
        "\n",
        "\n",
        "    print(\" ***************** KMEANS Clustering Model *********************\")\n",
        "    print()\n",
        "    #data=create_data(dataframe)\n",
        "\n",
        "    print(\" =============================== TF-IDF based =====================================\")\n",
        "    print()\n",
        "    doc_vector=TF_IDF(data)\n",
        "    predicted_labels=apply_kmeans(doc_vector)\n",
        "    scores=evaluate(true_labels,predicted_labels,doc_vector)\n",
        "\n",
        "    corpus_tfidf,dictionary=get_corpus_tfidf(data)\n",
        "    print(\"================================ Traning LSA model ================================\")\n",
        "    print()\n",
        "    doc_vector=train_LSA(corpus_tfidf,dictionary)\n",
        "    predicted_labels=apply_kmeans(doc_vector)\n",
        "    scores=evaluate(true_labels,predicted_labels,doc_vector)\n",
        "    print(\"================================ Traning Random projection model ================================\")\n",
        "    print()\n",
        "    doc_vector=train_RP(corpus_tfidf)\n",
        "    predicted_labels=apply_kmeans(doc_vector)\n",
        "    scores=evaluate(true_labels,predicted_labels,doc_vector)\n",
        "    print(\"================================ Traning LDA model ================================\")\n",
        "    print()\n",
        "    doc_vector=train_LDA(corpus_tfidf,dictionary,dim=40)\n",
        "    predicted_labels=apply_kmeans(doc_vector)\n",
        "    scores=evaluate(true_labels,predicted_labels,doc_vector)"
      ]
    },
    {
      "cell_type": "code",
      "execution_count": null,
      "metadata": {
        "id": "kGFdwnPeP_eQ"
      },
      "outputs": [],
      "source": [
        "def BIRCH_results(data):\n",
        "\n",
        "    print(\" ***************** BIRCH Clustering Model *********************\")\n",
        "    print()\n",
        "    #data=create_data(dataframe)\n",
        "    print(\" =============================== TF-IDF based =====================================\")\n",
        "    print()\n",
        "    doc_vector=TF_IDF(data)\n",
        "    predicted_labels=apply_birch(doc_vector)\n",
        "    scores=evaluate(true_labels,predicted_labels,doc_vector)\n",
        "\n",
        "    corpus_tfidf,dictionary=get_corpus_tfidf(data)\n",
        "    print(\"================================ Traning LSA model ================================\")\n",
        "    print()\n",
        "    doc_vector=train_LSA(corpus_tfidf,dictionary)\n",
        "    predicted_labels=apply_birch(doc_vector)\n",
        "    try:\n",
        "        scores=evaluate(true_labels,predicted_labels,doc_vector)\n",
        "    except:\n",
        "        print(\"can find clusters\")\n",
        "    print(\"================================ Traning Random projection model ================================\")\n",
        "    print()\n",
        "    doc_vector=train_RP(corpus_tfidf)\n",
        "    predicted_labels=apply_birch(doc_vector)\n",
        "    scores=evaluate(true_labels,predicted_labels,doc_vector)\n",
        "    print(\"================================ Traning LDA model ================================\")\n",
        "    print()\n",
        "    doc_vector=train_LDA(corpus_tfidf,dictionary,dim=40)\n",
        "    predicted_labels=apply_birch(doc_vector)\n",
        "    scores=evaluate(true_labels,predicted_labels,doc_vector)"
      ]
    },
    {
      "cell_type": "code",
      "execution_count": null,
      "metadata": {
        "id": "CJd4YZaqSec_"
      },
      "outputs": [],
      "source": [
        "def GMM_results(data):\n",
        "\n",
        "    print(\" ***************** GMM Clustering Model *********************\")\n",
        "    print()\n",
        "    #data=create_data(dataframe)\n",
        "    print(\" =============================== TF-IDF based =====================================\")\n",
        "    print()\n",
        "    doc_vector=TF_IDF(data)\n",
        "    predicted_labels=apply_GMM(doc_vector)\n",
        "    scores=evaluate(true_labels,predicted_labels,doc_vector)\n",
        "\n",
        "    corpus_tfidf,dictionary=get_corpus_tfidf(data)\n",
        "    print(\"================================ Traning LSA model ================================\")\n",
        "    print()\n",
        "    doc_vector=train_LSA(corpus_tfidf,dictionary)\n",
        "    predicted_labels=apply_GMM(doc_vector)\n",
        "    scores=evaluate(true_labels,predicted_labels,doc_vector)\n",
        "    print(\"================================ Traning Random projection model ================================\")\n",
        "    print()\n",
        "    doc_vector=train_RP(corpus_tfidf)\n",
        "    predicted_labels=apply_GMM(doc_vector)\n",
        "    scores=evaluate(true_labels,predicted_labels,doc_vector)\n",
        "    print(\"================================ Traning LDA model ================================\")\n",
        "    print()\n",
        "    doc_vector=train_LDA(corpus_tfidf,dictionary,dim=40)\n",
        "    predicted_labels=apply_GMM(doc_vector)\n",
        "    scores=evaluate(true_labels,predicted_labels,doc_vector)"
      ]
    },
    {
      "cell_type": "code",
      "execution_count": null,
      "metadata": {
        "colab": {
          "base_uri": "https://localhost:8080/"
        },
        "id": "zFc2QU-utrT4",
        "outputId": "a77ddff7-5cd9-4542-d460-a785cbf830bd"
      },
      "outputs": [
        {
          "name": "stdout",
          "output_type": "stream",
          "text": [
            " ***************** BIRCH Clustering Model *********************\n",
            "\n",
            " =============================== TF-IDF based =====================================\n",
            "\n",
            "rand_Score:  0.693015719082973\n",
            "mutual_score:  0.26488528432232067\n",
            "homo_score:  0.16163044112474942\n",
            "completeness_score:  0.13897104586092687\n",
            "V-score:  0.14944670880579983\n",
            "fowlkes mallows:  0.2913643871444454\n",
            "silhoutte score:  0.04061513425767435\n",
            "calinski_score:  113.12869885383091\n",
            "davies score:  6.409159828834036\n",
            "================================ Traning LSA model ================================\n",
            "\n"
          ]
        },
        {
          "name": "stderr",
          "output_type": "stream",
          "text": [
            "/usr/local/lib/python3.7/dist-packages/sklearn/cluster/_birch.py:721: ConvergenceWarning: Number of subclusters found (1) by BIRCH is less than (8). Decrease the threshold.\n",
            "  ConvergenceWarning,\n"
          ]
        },
        {
          "name": "stdout",
          "output_type": "stream",
          "text": [
            "can find clusters\n",
            "================================ Traning Random projection model ================================\n",
            "\n",
            "rand_Score:  0.6716976911141885\n",
            "mutual_score:  0.040815649306448\n",
            "homo_score:  0.02490531483873134\n",
            "completeness_score:  0.020596682897504034\n",
            "V-score:  0.022547004426900216\n",
            "fowlkes mallows:  0.20118869365330466\n",
            "silhoutte score:  -0.0033574438703160916\n",
            "calinski_score:  28.428732460906783\n",
            "davies score:  14.294275731873277\n",
            "================================ Traning LDA model ================================\n",
            "\n",
            "rand_Score:  0.6163123010947796\n",
            "mutual_score:  0.09652900400870976\n",
            "homo_score:  0.058901065565708934\n",
            "completeness_score:  0.06519972307533195\n",
            "V-score:  0.061890552119443526\n",
            "fowlkes mallows:  0.298690118418246\n",
            "silhoutte score:  0.11848725894018221\n",
            "calinski_score:  196.2525564923117\n",
            "davies score:  12.2357094730101\n"
          ]
        }
      ],
      "source": [
        "#KMEANS_results(data)\n",
        "BIRCH_results(data)\n",
        "#GMM_results(data)"
      ]
    },
    {
      "cell_type": "code",
      "execution_count": null,
      "metadata": {
        "id": "loMHZNYhQ5UD"
      },
      "outputs": [],
      "source": [
        "#https://github.com/eftekhar-hossain/Bengali-Document-Categorization"
      ]
    }
  ],
  "metadata": {
    "accelerator": "TPU",
    "colab": {
      "collapsed_sections": [
        "0IRcuIdoSU8-"
      ],
      "provenance": []
    },
    "kernelspec": {
      "display_name": "Python 3",
      "name": "python3"
    },
    "language_info": {
      "name": "python"
    }
  },
  "nbformat": 4,
  "nbformat_minor": 0
}
